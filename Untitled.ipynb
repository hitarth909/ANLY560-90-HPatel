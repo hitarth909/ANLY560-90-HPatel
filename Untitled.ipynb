#example
{
 "cells": [
  {
   "cell_type": "code",
   "execution_count": 1,
   "metadata": {},
   "outputs": [],
   "source": [
    "import pandas as pd"
   ]
  },
  {
   "cell_type": "code",
   "execution_count": 5,
   "metadata": {},
   "outputs": [],
   "source": [
    "df=pd.read_csv(\"billing (1).csv\")"
   ]
  },
  {
   "cell_type": "code",
   "execution_count": 6,
   "metadata": {},
   "outputs": [
    {
     "name": "stdout",
     "output_type": "stream",
     "text": [
      "<class 'pandas.core.frame.DataFrame'>\n",
      "RangeIndex: 978 entries, 0 to 977\n",
      "Data columns (total 1 columns):\n",
      "CallerId;CalledNumber;TariffDescription;CallStart;CallEnd;Duration;EffectiveDuration;Cost;calltype    978 non-null object\n",
      "dtypes: object(1)\n",
      "memory usage: 7.7+ KB\n"
     ]
    }
   ],
   "source": [
    "df.info()"
   ]
  },
  {
   "cell_type": "code",
   "execution_count": 7,
   "metadata": {},
   "outputs": [],
   "source": [
    "columns=list(df.columns)[0].split(';')"
   ]
  },
  {
   "cell_type": "code",
   "execution_count": 8,
   "metadata": {},
   "outputs": [],
   "source": [
    "lst=[]\n",
    "for row in df.index:\n",
    "    lst.append(list(df.loc[row])[0].split(';'))"
   ]
  },
  {
   "cell_type": "code",
   "execution_count": 35,
   "metadata": {},
   "outputs": [
    {
     "data": {
      "text/plain": [
       "['julianr',\n",
       " '15089701905',\n",
       " 'USA',\n",
       " '2019-07-28 4:49:27 PM',\n",
       " '2019-07-28 4:49:42 PM',\n",
       " '15',\n",
       " '30',\n",
       " '0.01000000',\n",
       " 'call']"
      ]
     },
     "execution_count": 35,
     "metadata": {},
     "output_type": "execute_result"
    }
   ],
   "source": [
    "list(df.loc[0])[0].split(';')"
   ]
  },
  {
   "cell_type": "code",
   "execution_count": 9,
   "metadata": {},
   "outputs": [],
   "source": [
    "newdf=pd.DataFrame(data=lst,columns=columns)"
   ]
  },
  {
   "cell_type": "code",
   "execution_count": 10,
   "metadata": {},
   "outputs": [],
   "source": [
    "newdf.to_csv(\"Asian Edition Data new.csv\",index=False)"
   ]
  },
  {
   "cell_type": "code",
   "execution_count": 9,
   "metadata": {},
   "outputs": [],
   "source": [
    "lst=\"my name name is khan is is is is\".split()"
   ]
  },
  {
   "cell_type": "code",
   "execution_count": 10,
   "metadata": {},
   "outputs": [
    {
     "data": {
      "text/plain": [
       "['my', 'name', 'name', 'is', 'khan', 'is', 'is', 'is', 'is']"
      ]
     },
     "execution_count": 10,
     "metadata": {},
     "output_type": "execute_result"
    }
   ],
   "source": [
    "lst"
   ]
  },
  {
   "cell_type": "code",
   "execution_count": 11,
   "metadata": {},
   "outputs": [],
   "source": [
    "d={}"
   ]
  },
  {
   "cell_type": "code",
   "execution_count": 12,
   "metadata": {},
   "outputs": [],
   "source": [
    "for value in lst:\n",
    "    if value in d.keys():\n",
    "        d[value]=d[value]+1\n",
    "    else:\n",
    "        d[value]=1"
   ]
  },
  {
   "cell_type": "code",
   "execution_count": 19,
   "metadata": {},
   "outputs": [],
   "source": [
    "import re"
   ]
  },
  {
   "cell_type": "code",
   "execution_count": 1,
   "metadata": {},
   "outputs": [],
   "source": [
    "wordlist=\"read! ; !\""
   ]
  },
  {
   "cell_type": "code",
   "execution_count": 2,
   "metadata": {},
   "outputs": [
    {
     "ename": "NameError",
     "evalue": "name 'word' is not defined",
     "output_type": "error",
     "traceback": [
      "\u001b[1;31m---------------------------------------------------------------------------\u001b[0m",
      "\u001b[1;31mNameError\u001b[0m                                 Traceback (most recent call last)",
      "\u001b[1;32m<ipython-input-2-bbdeceeb6f3b>\u001b[0m in \u001b[0;36m<module>\u001b[1;34m\u001b[0m\n\u001b[0;32m      2\u001b[0m \u001b[1;32mfor\u001b[0m \u001b[0mletter\u001b[0m \u001b[1;32min\u001b[0m \u001b[0mwordlist\u001b[0m\u001b[1;33m:\u001b[0m\u001b[1;33m\u001b[0m\u001b[1;33m\u001b[0m\u001b[0m\n\u001b[0;32m      3\u001b[0m     \u001b[1;32mif\u001b[0m \u001b[0mletter\u001b[0m\u001b[1;33m.\u001b[0m\u001b[0misalnum\u001b[0m\u001b[1;33m(\u001b[0m\u001b[1;33m)\u001b[0m\u001b[1;33m:\u001b[0m\u001b[1;33m\u001b[0m\u001b[1;33m\u001b[0m\u001b[0m\n\u001b[1;32m----> 4\u001b[1;33m         \u001b[0mlet\u001b[0m\u001b[1;33m=\u001b[0m\u001b[0mword\u001b[0m\u001b[1;33m.\u001b[0m\u001b[0mjoin\u001b[0m\u001b[1;33m(\u001b[0m\u001b[0mletter\u001b[0m\u001b[1;33m)\u001b[0m\u001b[1;33m\u001b[0m\u001b[1;33m\u001b[0m\u001b[0m\n\u001b[0m",
      "\u001b[1;31mNameError\u001b[0m: name 'word' is not defined"
     ]
    }
   ],
   "source": [
    "\n",
    "for letter in wordlist:\n",
    "    if letter.isalnum():\n",
    "        let=word.join(letter)    "
   ]
  },
  {
   "cell_type": "code",
   "execution_count": null,
   "metadata": {},
   "outputs": [],
   "source": []
  },
  {
   "cell_type": "code",
   "execution_count": 44,
   "metadata": {},
   "outputs": [
    {
     "data": {
      "text/plain": [
       "'d'"
      ]
     },
     "execution_count": 44,
     "metadata": {},
     "output_type": "execute_result"
    }
   ],
   "source": [
    "let"
   ]
  },
  {
   "cell_type": "code",
   "execution_count": 4,
   "metadata": {},
   "outputs": [],
   "source": [
    "import numpy as np"
   ]
  },
  {
   "cell_type": "code",
   "execution_count": 5,
   "metadata": {},
   "outputs": [],
   "source": [
    "lst=np.array([[1,2,3],[4,5,6],[7,8,9]])"
   ]
  },
  {
   "cell_type": "code",
   "execution_count": 6,
   "metadata": {},
   "outputs": [
    {
     "data": {
      "text/plain": [
       "array([[1, 2, 3],\n",
       "       [4, 5, 6],\n",
       "       [7, 8, 9]])"
      ]
     },
     "execution_count": 6,
     "metadata": {},
     "output_type": "execute_result"
    }
   ],
   "source": [
    "lst"
   ]
  },
  {
   "cell_type": "code",
   "execution_count": null,
   "metadata": {},
   "outputs": [],
   "source": []
  },
  {
   "cell_type": "code",
   "execution_count": 7,
   "metadata": {},
   "outputs": [],
   "source": [
    "ltt=[]\n",
    "for ls in lst:\n",
    "    for item in ls:\n",
    "        ltt.append(item)"
   ]
  },
  {
   "cell_type": "code",
   "execution_count": 8,
   "metadata": {},
   "outputs": [
    {
     "data": {
      "text/plain": [
       "[1, 2, 3, 4, 5, 6, 7, 8, 9]"
      ]
     },
     "execution_count": 8,
     "metadata": {},
     "output_type": "execute_result"
    }
   ],
   "source": [
    "ltt"
   ]
  },
  {
   "cell_type": "code",
   "execution_count": 11,
   "metadata": {},
   "outputs": [
    {
     "data": {
      "text/plain": [
       "array([[1, 2, 3],\n",
       "       [4, 5, 6],\n",
       "       [7, 8, 9]])"
      ]
     },
     "execution_count": 11,
     "metadata": {},
     "output_type": "execute_result"
    }
   ],
   "source": [
    "lst"
   ]
  },
  {
   "cell_type": "code",
   "execution_count": 12,
   "metadata": {},
   "outputs": [],
   "source": [
    "import pandas as pd"
   ]
  },
  {
   "cell_type": "code",
   "execution_count": 13,
   "metadata": {},
   "outputs": [
    {
     "data": {
      "text/html": [
       "<div>\n",
       "<style scoped>\n",
       "    .dataframe tbody tr th:only-of-type {\n",
       "        vertical-align: middle;\n",
       "    }\n",
       "\n",
       "    .dataframe tbody tr th {\n",
       "        vertical-align: top;\n",
       "    }\n",
       "\n",
       "    .dataframe thead th {\n",
       "        text-align: right;\n",
       "    }\n",
       "</style>\n",
       "<table border=\"1\" class=\"dataframe\">\n",
       "  <thead>\n",
       "    <tr style=\"text-align: right;\">\n",
       "      <th></th>\n",
       "      <th>0</th>\n",
       "      <th>1</th>\n",
       "      <th>2</th>\n",
       "    </tr>\n",
       "  </thead>\n",
       "  <tbody>\n",
       "    <tr>\n",
       "      <th>0</th>\n",
       "      <td>1</td>\n",
       "      <td>2</td>\n",
       "      <td>3</td>\n",
       "    </tr>\n",
       "    <tr>\n",
       "      <th>1</th>\n",
       "      <td>4</td>\n",
       "      <td>5</td>\n",
       "      <td>6</td>\n",
       "    </tr>\n",
       "    <tr>\n",
       "      <th>2</th>\n",
       "      <td>7</td>\n",
       "      <td>8</td>\n",
       "      <td>9</td>\n",
       "    </tr>\n",
       "  </tbody>\n",
       "</table>\n",
       "</div>"
      ],
      "text/plain": [
       "   0  1  2\n",
       "0  1  2  3\n",
       "1  4  5  6\n",
       "2  7  8  9"
      ]
     },
     "execution_count": 13,
     "metadata": {},
     "output_type": "execute_result"
    }
   ],
   "source": [
    "pd.DataFrame(lst)"
   ]
  },
  {
   "cell_type": "code",
   "execution_count": 32,
   "metadata": {},
   "outputs": [
    {
     "data": {
      "text/plain": [
       "array([1, 5, 9])"
      ]
     },
     "execution_count": 32,
     "metadata": {},
     "output_type": "execute_result"
    }
   ],
   "source": [
    "lst.diagonal(axis2=0,axis1=1)"
   ]
  },
  {
   "cell_type": "code",
   "execution_count": 29,
   "metadata": {},
   "outputs": [
    {
     "name": "stdout",
     "output_type": "stream",
     "text": [
      "[1 2 3]\n",
      "[4 5 6]\n",
      "[7 8 9]\n"
     ]
    }
   ],
   "source": [
    "for i in lst:\n",
    "    print(i)"
   ]
  },
  {
   "cell_type": "code",
   "execution_count": 33,
   "metadata": {},
   "outputs": [
    {
     "data": {
      "text/plain": [
       "-5"
      ]
     },
     "execution_count": 33,
     "metadata": {},
     "output_type": "execute_result"
    }
   ],
   "source": [
    "~4"
   ]
  },
  {
   "cell_type": "code",
   "execution_count": 34,
   "metadata": {},
   "outputs": [
    {
     "data": {
      "text/plain": [
       "-6"
      ]
     },
     "execution_count": 34,
     "metadata": {},
     "output_type": "execute_result"
    }
   ],
   "source": [
    "~5"
   ]
  },
  {
   "cell_type": "code",
   "execution_count": 35,
   "metadata": {},
   "outputs": [
    {
     "data": {
      "text/plain": [
       "-1"
      ]
     },
     "execution_count": 35,
     "metadata": {},
     "output_type": "execute_result"
    }
   ],
   "source": [
    "~0"
   ]
  },
  {
   "cell_type": "code",
   "execution_count": 51,
   "metadata": {},
   "outputs": [
    {
     "data": {
      "text/plain": [
       "3"
      ]
     },
     "execution_count": 51,
     "metadata": {},
     "output_type": "execute_result"
    }
   ],
   "source": [
    "len(lst)"
   ]
  },
  {
   "cell_type": "code",
   "execution_count": 52,
   "metadata": {},
   "outputs": [
    {
     "data": {
      "text/plain": [
       "array([[1, 4, 7],\n",
       "       [2, 5, 8],\n",
       "       [3, 6, 9]])"
      ]
     },
     "execution_count": 52,
     "metadata": {},
     "output_type": "execute_result"
    }
   ],
   "source": [
    "lst.transpose()"
   ]
  },
  {
   "cell_type": "code",
   "execution_count": 1,
   "metadata": {},
   "outputs": [],
   "source": [
    "dataDict = {'device1':(1,1,0,1), 'device2':(0,1,0,1), 'device3':(1,0,0,1)}"
   ]
  },
  {
   "cell_type": "code",
   "execution_count": 3,
   "metadata": {},
   "outputs": [
    {
     "ename": "AttributeError",
     "evalue": "'dict' object has no attribute 'tolist'",
     "output_type": "error",
     "traceback": [
      "\u001b[1;31m---------------------------------------------------------------------------\u001b[0m",
      "\u001b[1;31mAttributeError\u001b[0m                            Traceback (most recent call last)",
      "\u001b[1;32m<ipython-input-3-743207af01eb>\u001b[0m in \u001b[0;36m<module>\u001b[1;34m\u001b[0m\n\u001b[1;32m----> 1\u001b[1;33m \u001b[0mdataDict\u001b[0m\u001b[1;33m.\u001b[0m\u001b[0mtolist\u001b[0m\u001b[1;33m(\u001b[0m\u001b[1;33m)\u001b[0m\u001b[1;33m\u001b[0m\u001b[1;33m\u001b[0m\u001b[0m\n\u001b[0m",
      "\u001b[1;31mAttributeError\u001b[0m: 'dict' object has no attribute 'tolist'"
     ]
    }
   ],
   "source": [
    "dataDict.tolist()"
   ]
  },
  {
   "cell_type": "code",
   "execution_count": 59,
   "metadata": {},
   "outputs": [],
   "source": [
    "lst=[]\n",
    "for keys in dataDict.keys():\n",
    "    lst.append(list(dataDict[keys]))"
   ]
  },
  {
   "cell_type": "code",
   "execution_count": 83,
   "metadata": {},
   "outputs": [],
   "source": [
    "arr=np.array(lst)"
   ]
  },
  {
   "cell_type": "code",
   "execution_count": 62,
   "metadata": {},
   "outputs": [],
   "source": [
    "dict={'2019-07-28':33,'2019-07-29':35,'2019-07-30':78}"
   ]
  },
  {
   "cell_type": "code",
   "execution_count": 118,
   "metadata": {},
   "outputs": [
    {
     "data": {
      "text/plain": [
       "[0, 1, 2]"
      ]
     },
     "execution_count": 118,
     "metadata": {},
     "output_type": "execute_result"
    }
   ],
   "source": [
    "list(arr[:,2].argsort())"
   ]
  },
  {
   "cell_type": "code",
   "execution_count": 42,
   "metadata": {},
   "outputs": [
    {
     "data": {
      "text/plain": [
       "3"
      ]
     },
     "execution_count": 42,
     "metadata": {},
     "output_type": "execute_result"
    }
   ],
   "source": [
    "len(mat[])"
   ]
  },
  {
   "cell_type": "code",
   "execution_count": 4,
   "metadata": {},
   "outputs": [],
   "source": [
    "lst=[[1,2,3],[4,5,6],[7,8,9]]"
   ]
  },
  {
   "cell_type": "code",
   "execution_count": 5,
   "metadata": {},
   "outputs": [],
   "source": [
    "import numpy as np"
   ]
  },
  {
   "cell_type": "code",
   "execution_count": 6,
   "metadata": {},
   "outputs": [],
   "source": [
    "mat=np.array(lst)"
   ]
  },
  {
   "cell_type": "code",
   "execution_count": 11,
   "metadata": {},
   "outputs": [
    {
     "data": {
      "text/plain": [
       "array([[1, 4, 7],\n",
       "       [2, 5, 8],\n",
       "       [3, 6, 9]])"
      ]
     },
     "execution_count": 11,
     "metadata": {},
     "output_type": "execute_result"
    }
   ],
   "source": [
    "mat.transpose()"
   ]
  },
  {
   "cell_type": "code",
   "execution_count": 49,
   "metadata": {},
   "outputs": [],
   "source": [
    "a=[]\n",
    "inner=[]\n",
    "for x in range(2):\n",
    "    for y in range(3):\n",
    "        inner.append(0)\n",
    "    a.append(inner)\n"
   ]
  },
  {
   "cell_type": "code",
   "execution_count": 50,
   "metadata": {},
   "outputs": [
    {
     "data": {
      "text/plain": [
       "[0, 0, 0, 0, 0, 0]"
      ]
     },
     "execution_count": 50,
     "metadata": {},
     "output_type": "execute_result"
    }
   ],
   "source": [
    "inner"
   ]
  },
  {
   "cell_type": "code",
   "execution_count": 51,
   "metadata": {},
   "outputs": [
    {
     "data": {
      "text/plain": [
       "[[0, 0, 0, 0, 0, 0], [0, 0, 0, 0, 0, 0]]"
      ]
     },
     "execution_count": 51,
     "metadata": {},
     "output_type": "execute_result"
    }
   ],
   "source": [
    "a"
   ]
  },
  {
   "cell_type": "code",
   "execution_count": 35,
   "metadata": {},
   "outputs": [],
   "source": [
    "x=[]"
   ]
  },
  {
   "cell_type": "code",
   "execution_count": 36,
   "metadata": {},
   "outputs": [],
   "source": [
    "x.append([0,0,0])"
   ]
  },
  {
   "cell_type": "code",
   "execution_count": 38,
   "metadata": {},
   "outputs": [
    {
     "data": {
      "text/plain": [
       "[[0, 0, 0]]"
      ]
     },
     "execution_count": 38,
     "metadata": {},
     "output_type": "execute_result"
    }
   ],
   "source": [
    "x"
   ]
  },
  {
   "cell_type": "code",
   "execution_count": 39,
   "metadata": {},
   "outputs": [],
   "source": [
    "x.append([0,0,0,0,0,0])"
   ]
  },
  {
   "cell_type": "code",
   "execution_count": 40,
   "metadata": {},
   "outputs": [
    {
     "data": {
      "text/plain": [
       "[[0, 0, 0], [0, 0, 0, 0, 0, 0]]"
      ]
     },
     "execution_count": 40,
     "metadata": {},
     "output_type": "execute_result"
    }
   ],
   "source": [
    "x"
   ]
  },
  {
   "cell_type": "code",
   "execution_count": 128,
   "metadata": {},
   "outputs": [
    {
     "name": "stdout",
     "output_type": "stream",
     "text": [
      "0 0\n",
      "0 1\n",
      "0 2\n",
      "1 0\n",
      "1 1\n",
      "1 2\n",
      "2 0\n",
      "2 1\n",
      "2 2\n"
     ]
    }
   ],
   "source": [
    "for outer,value in enumerate(lst):\n",
    "    for inner,item in enumerate(value):\n",
    "        print(outer,inner)"
   ]
  },
  {
   "cell_type": "code",
   "execution_count": 140,
   "metadata": {},
   "outputs": [],
   "source": [
    "lst=[2,2,3,4,5,6]"
   ]
  },
  {
   "cell_type": "code",
   "execution_count": 146,
   "metadata": {},
   "outputs": [
    {
     "data": {
      "text/plain": [
       "[2]"
      ]
     },
     "execution_count": 146,
     "metadata": {},
     "output_type": "execute_result"
    }
   ],
   "source": [
    "[lst[i] for i in range(0,len(lst),2) if(lst[i]%2==0)]"
   ]
  },
  {
   "cell_type": "code",
   "execution_count": 57,
   "metadata": {},
   "outputs": [],
   "source": [
    "x='My Name is Khan'.split()"
   ]
  },
  {
   "cell_type": "code",
   "execution_count": 59,
   "metadata": {},
   "outputs": [
    {
     "data": {
      "text/plain": [
       "['Khan', 'is', 'Name', 'My']"
      ]
     },
     "execution_count": 59,
     "metadata": {},
     "output_type": "execute_result"
    }
   ],
   "source": [
    "list(reversed(x))"
   ]
  },
  {
   "cell_type": "code",
   "execution_count": 61,
   "metadata": {},
   "outputs": [],
   "source": [
    "x='dad'"
   ]
  },
  {
   "cell_type": "code",
   "execution_count": 68,
   "metadata": {},
   "outputs": [
    {
     "data": {
      "text/plain": [
       "[(0, 'd'), (1, 'a'), (2, 'd')]"
      ]
     },
     "execution_count": 68,
     "metadata": {},
     "output_type": "execute_result"
    }
   ],
   "source": [
    "list(enumerate(x))"
   ]
  },
  {
   "cell_type": "code",
   "execution_count": 71,
   "metadata": {},
   "outputs": [
    {
     "data": {
      "text/html": [
       "<div>\n",
       "<style scoped>\n",
       "    .dataframe tbody tr th:only-of-type {\n",
       "        vertical-align: middle;\n",
       "    }\n",
       "\n",
       "    .dataframe tbody tr th {\n",
       "        vertical-align: top;\n",
       "    }\n",
       "\n",
       "    .dataframe thead th {\n",
       "        text-align: right;\n",
       "    }\n",
       "</style>\n",
       "<table border=\"1\" class=\"dataframe\">\n",
       "  <thead>\n",
       "    <tr style=\"text-align: right;\">\n",
       "      <th></th>\n",
       "      <th>0</th>\n",
       "      <th>1</th>\n",
       "      <th>2</th>\n",
       "    </tr>\n",
       "  </thead>\n",
       "  <tbody>\n",
       "    <tr>\n",
       "      <th>0</th>\n",
       "      <td>1</td>\n",
       "      <td>2</td>\n",
       "      <td>3</td>\n",
       "    </tr>\n",
       "    <tr>\n",
       "      <th>1</th>\n",
       "      <td>4</td>\n",
       "      <td>5</td>\n",
       "      <td>6</td>\n",
       "    </tr>\n",
       "    <tr>\n",
       "      <th>2</th>\n",
       "      <td>7</td>\n",
       "      <td>8</td>\n",
       "      <td>9</td>\n",
       "    </tr>\n",
       "  </tbody>\n",
       "</table>\n",
       "</div>"
      ],
      "text/plain": [
       "   0  1  2\n",
       "0  1  2  3\n",
       "1  4  5  6\n",
       "2  7  8  9"
      ]
     },
     "execution_count": 71,
     "metadata": {},
     "output_type": "execute_result"
    }
   ],
   "source": [
    "pd.DataFrame(lst)"
   ]
  },
  {
   "cell_type": "code",
   "execution_count": 80,
   "metadata": {},
   "outputs": [],
   "source": [
    "df = pd.DataFrame({\n",
    "...     'length': [1.5, 0.5, 1.2, 0.9, 3],\n",
    "...     'width': [0.7, 0.2, 0.15, 0.2, 1.1]\n",
    "...     }, index= ['pig', 'rabbit', 'duck', 'chicken', 'horse'])"
   ]
  },
  {
   "cell_type": "code",
   "execution_count": 81,
   "metadata": {},
   "outputs": [
    {
     "data": {
      "text/plain": [
       "array([[<matplotlib.axes._subplots.AxesSubplot object at 0x000002A90025DF28>,\n",
       "        <matplotlib.axes._subplots.AxesSubplot object at 0x000002A900787B70>]],\n",
       "      dtype=object)"
      ]
     },
     "execution_count": 81,
     "metadata": {},
     "output_type": "execute_result"
    },
    {
     "data": {
      "image/png": "[encoded data removed]",
      "text/plain": [
       "<Figure size 432x288 with 2 Axes>"
      ]
     },
     "metadata": {
      "needs_background": "light"
     },
     "output_type": "display_data"
    }
   ],
   "source": [
    "df.hist()"
   ]
  },
  {
   "cell_type": "code",
   "execution_count": 79,
   "metadata": {},
   "outputs": [
    {
     "data": {
      "text/plain": [
       "array([[<matplotlib.axes._subplots.AxesSubplot object at 0x000002A9005C67B8>,\n",
       "        <matplotlib.axes._subplots.AxesSubplot object at 0x000002A900679A58>]],\n",
       "      dtype=object)"
      ]
     },
     "execution_count": 79,
     "metadata": {},
     "output_type": "execute_result"
    },
    {
     "data": {
      "image/png": "[encoded data removed]",
      "text/plain": [
       "<Figure size 432x288 with 2 Axes>"
      ]
     },
     "metadata": {
      "needs_background": "light"
     },
     "output_type": "display_data"
    }
   ],
   "source": [
    "df =pd.DataFrame({'col1':np.random.randn(100),'col2':np.random.randn(100)})\n",
    "df.hist()"
   ]
  },
  {
   "cell_type": "code",
   "execution_count": 79,
   "metadata": {},
   "outputs": [],
   "source": [
    "data_dict = [{'Apple': 2, 'Orange': 4},\n",
    "                 {'Apple': 4, 'Orange': 3},\n",
    "                 {'Apple': 1, 'Banana': 2},\n",
    "                 {'Apple': 2, 'Banana': 2}]"
   ]
  },
  {
   "cell_type": "code",
   "execution_count": 83,
   "metadata": {},
   "outputs": [],
   "source": [
    "data_dict={'Name':0,'Cell':1}\n",
    "    "
   ]
  },
  {
   "cell_type": "code",
   "execution_count": 86,
   "metadata": {},
   "outputs": [
    {
     "data": {
      "text/plain": [
       "['Name', 'Cell']"
      ]
     },
     "execution_count": 86,
     "metadata": {},
     "output_type": "execute_result"
    }
   ],
   "source": [
    "list(data_dict.keys())"
   ]
  },
  {
   "cell_type": "code",
   "execution_count": null,
   "metadata": {},
   "outputs": [],
   "source": []
  },
  {
   "cell_type": "code",
   "execution_count": 25,
   "metadata": {},
   "outputs": [
    {
     "ename": "KeyError",
     "evalue": "'Apple'",
     "output_type": "error",
     "traceback": [
      "\u001b[1;31m---------------------------------------------------------------------------\u001b[0m",
      "\u001b[1;31mKeyError\u001b[0m                                  Traceback (most recent call last)",
      "\u001b[1;32m<ipython-input-25-81d5a9746e04>\u001b[0m in \u001b[0;36m<module>\u001b[1;34m\u001b[0m\n\u001b[0;32m      4\u001b[0m     \u001b[1;32mfor\u001b[0m \u001b[0mvalue\u001b[0m \u001b[1;32min\u001b[0m \u001b[0mi\u001b[0m\u001b[1;33m.\u001b[0m\u001b[0mkeys\u001b[0m\u001b[1;33m(\u001b[0m\u001b[1;33m)\u001b[0m\u001b[1;33m:\u001b[0m\u001b[1;33m\u001b[0m\u001b[1;33m\u001b[0m\u001b[0m\n\u001b[0;32m      5\u001b[0m         \u001b[1;32mif\u001b[0m \u001b[1;34m'Apple'\u001b[0m\u001b[1;33m==\u001b[0m\u001b[0mvalue\u001b[0m\u001b[1;33m:\u001b[0m\u001b[1;33m\u001b[0m\u001b[1;33m\u001b[0m\u001b[0m\n\u001b[1;32m----> 6\u001b[1;33m             \u001b[0md\u001b[0m\u001b[1;33m[\u001b[0m\u001b[0mvalue\u001b[0m\u001b[1;33m]\u001b[0m\u001b[1;33m.\u001b[0m\u001b[0mappend\u001b[0m\u001b[1;33m(\u001b[0m\u001b[0mi\u001b[0m\u001b[1;33m[\u001b[0m\u001b[0mvalue\u001b[0m\u001b[1;33m]\u001b[0m\u001b[1;33m)\u001b[0m\u001b[1;33m\u001b[0m\u001b[1;33m\u001b[0m\u001b[0m\n\u001b[0m",
      "\u001b[1;31mKeyError\u001b[0m: 'Apple'"
     ]
    }
   ],
   "source": [
    "d={}\n",
    "applelst=[]\n",
    "for i in data_dict:\n",
    "    for value in i.keys():\n",
    "        if 'Apple'==value:\n",
    "            d[value].append(i[value])"
   ]
  },
  {
   "cell_type": "code",
   "execution_count": 26,
   "metadata": {},
   "outputs": [
    {
     "ename": "AttributeError",
     "evalue": "'list' object has no attribute 'transpose'",
     "output_type": "error",
     "traceback": [
      "\u001b[1;31m---------------------------------------------------------------------------\u001b[0m",
      "\u001b[1;31mAttributeError\u001b[0m                            Traceback (most recent call last)",
      "\u001b[1;32m<ipython-input-26-ad3b3b1c6434>\u001b[0m in \u001b[0;36m<module>\u001b[1;34m\u001b[0m\n\u001b[1;32m----> 1\u001b[1;33m \u001b[0mapplelst\u001b[0m\u001b[1;33m.\u001b[0m\u001b[0mtranspose\u001b[0m\u001b[1;33m(\u001b[0m\u001b[1;33m)\u001b[0m\u001b[1;33m\u001b[0m\u001b[1;33m\u001b[0m\u001b[0m\n\u001b[0m",
      "\u001b[1;31mAttributeError\u001b[0m: 'list' object has no attribute 'transpose'"
     ]
    }
   ],
   "source": [
    "applelst.transpose()"
   ]
  },
  {
   "cell_type": "code",
   "execution_count": 27,
   "metadata": {},
   "outputs": [],
   "source": [
    "import pandas as pd"
   ]
  },
  {
   "cell_type": "code",
   "execution_count": 33,
   "metadata": {},
   "outputs": [],
   "source": [
    "df=pd.DataFrame({'x':pd.Series([1,2,3,4],dtype=int),'fruit':pd.Series([1.0,2.0,3.0,4.0],dtype=float)})"
   ]
  },
  {
   "cell_type": "code",
   "execution_count": 34,
   "metadata": {},
   "outputs": [
    {
     "name": "stdout",
     "output_type": "stream",
     "text": [
      "<class 'pandas.core.frame.DataFrame'>\n",
      "RangeIndex: 4 entries, 0 to 3\n",
      "Data columns (total 2 columns):\n",
      "x        4 non-null int32\n",
      "fruit    4 non-null float64\n",
      "dtypes: float64(1), int32(1)\n",
      "memory usage: 128.0 bytes\n"
     ]
    }
   ],
   "source": [
    "df.info()"
   ]
  },
  {
   "cell_type": "code",
   "execution_count": 35,
   "metadata": {},
   "outputs": [
    {
     "data": {
      "text/html": [
       "<div>\n",
       "<style scoped>\n",
       "    .dataframe tbody tr th:only-of-type {\n",
       "        vertical-align: middle;\n",
       "    }\n",
       "\n",
       "    .dataframe tbody tr th {\n",
       "        vertical-align: top;\n",
       "    }\n",
       "\n",
       "    .dataframe thead th {\n",
       "        text-align: right;\n",
       "    }\n",
       "</style>\n",
       "<table border=\"1\" class=\"dataframe\">\n",
       "  <thead>\n",
       "    <tr style=\"text-align: right;\">\n",
       "      <th></th>\n",
       "      <th>x</th>\n",
       "      <th>fruit</th>\n",
       "    </tr>\n",
       "  </thead>\n",
       "  <tbody>\n",
       "    <tr>\n",
       "      <th>0</th>\n",
       "      <td>1</td>\n",
       "      <td>1.0</td>\n",
       "    </tr>\n",
       "    <tr>\n",
       "      <th>1</th>\n",
       "      <td>2</td>\n",
       "      <td>2.0</td>\n",
       "    </tr>\n",
       "    <tr>\n",
       "      <th>2</th>\n",
       "      <td>3</td>\n",
       "      <td>3.0</td>\n",
       "    </tr>\n",
       "    <tr>\n",
       "      <th>3</th>\n",
       "      <td>4</td>\n",
       "      <td>4.0</td>\n",
       "    </tr>\n",
       "  </tbody>\n",
       "</table>\n",
       "</div>"
      ],
      "text/plain": [
       "   x  fruit\n",
       "0  1    1.0\n",
       "1  2    2.0\n",
       "2  3    3.0\n",
       "3  4    4.0"
      ]
     },
     "execution_count": 35,
     "metadata": {},
     "output_type": "execute_result"
    }
   ],
   "source": [
    "df"
   ]
  },
  {
   "cell_type": "code",
   "execution_count": 45,
   "metadata": {},
   "outputs": [],
   "source": [
    "list = [22,43,3,21,12,31,1,2,19,10]\n",
    "for iter_num in range(0,len(list)-1):\n",
    "    for idx in range(iter_num):\n",
    "        if list[idx]>list[idx+1]:\n",
    "            temp = list[idx]\n",
    "            list[idx] = list[idx+1]\n",
    "            list[idx+1] = temp"
   ]
  },
  {
   "cell_type": "code",
   "execution_count": 46,
   "metadata": {},
   "outputs": [
    {
     "name": "stdout",
     "output_type": "stream",
     "text": [
      "[3, 12, 21, 1, 22, 2, 31, 19, 43, 10]\n"
     ]
    }
   ],
   "source": [
    "print(list)"
   ]
  },
  {
   "cell_type": "code",
   "execution_count": 59,
   "metadata": {},
   "outputs": [
    {
     "name": "stdout",
     "output_type": "stream",
     "text": [
      "0\n",
      "1\n",
      "2\n",
      "3\n"
     ]
    }
   ],
   "source": [
    "for i in range(0,4):\n",
    "    print(i)"
   ]
  },
  {
   "cell_type": "code",
   "execution_count": 60,
   "metadata": {},
   "outputs": [],
   "source": [
    "word='aeioufgk'"
   ]
  },
  {
   "cell_type": "raw",
   "metadata": {},
   "source": [
    "word[:3]"
   ]
  },
  {
   "cell_type": "code",
   "execution_count": 62,
   "metadata": {},
   "outputs": [
    {
     "data": {
      "text/plain": [
       "'aei'"
      ]
     },
     "execution_count": 62,
     "metadata": {},
     "output_type": "execute_result"
    }
   ],
   "source": [
    "word[:3]"
   ]
  },
  {
   "cell_type": "code",
   "execution_count": 63,
   "metadata": {},
   "outputs": [
    {
     "data": {
      "text/plain": [
       "'oufgk'"
      ]
     },
     "execution_count": 63,
     "metadata": {},
     "output_type": "execute_result"
    }
   ],
   "source": [
    "word[3:]"
   ]
  },
  {
   "cell_type": "code",
   "execution_count": 64,
   "metadata": {},
   "outputs": [],
   "source": [
    "a = \"the fox jumps over the lazy dog\""
   ]
  },
  {
   "cell_type": "code",
   "execution_count": 80,
   "metadata": {},
   "outputs": [],
   "source": [
    "rev=''\n",
    "for x in reversed(a):\n",
    "    rev+=x\n",
    "    "
   ]
  },
  {
   "cell_type": "code",
   "execution_count": 81,
   "metadata": {},
   "outputs": [
    {
     "data": {
      "text/plain": [
       "'god yzal eht revo spmuj xof eht'"
      ]
     },
     "execution_count": 81,
     "metadata": {},
     "output_type": "execute_result"
    }
   ],
   "source": [
    "rev"
   ]
  },
  {
   "cell_type": "code",
   "execution_count": 86,
   "metadata": {},
   "outputs": [],
   "source": [
    "str=\"Lol, this is a gag, I didn’t laugh so much in a long time\".replace(\",\",\"\").lower()"
   ]
  },
  {
   "cell_type": "code",
   "execution_count": 87,
   "metadata": {},
   "outputs": [
    {
     "data": {
      "text/plain": [
       "'lol this is a gag i didn’t laugh so much in a long time'"
      ]
     },
     "execution_count": 87,
     "metadata": {},
     "output_type": "execute_result"
    }
   ],
   "source": [
    "str"
   ]
  },
  {
   "cell_type": "code",
   "execution_count": 89,
   "metadata": {},
   "outputs": [],
   "source": [
    "words=str.split(\" \")"
   ]
  },
  {
   "cell_type": "raw",
   "metadata": {},
   "source": [
    "words"
   ]
  },
  {
   "cell_type": "code",
   "execution_count": 92,
   "metadata": {},
   "outputs": [],
   "source": [
    "lst=[]\n",
    "for word in words:\n",
    "    if word==word[::-1]:\n",
    "        lst.append(word)"
   ]
  },
  {
   "cell_type": "code",
   "execution_count": 93,
   "metadata": {},
   "outputs": [
    {
     "data": {
      "text/plain": [
       "['lol', 'a', 'gag', 'i', 'a']"
      ]
     },
     "execution_count": 93,
     "metadata": {},
     "output_type": "execute_result"
    }
   ],
   "source": [
    "lst"
   ]
  },
  {
   "cell_type": "code",
   "execution_count": 109,
   "metadata": {},
   "outputs": [
    {
     "name": "stdout",
     "output_type": "stream",
     "text": [
      "2 fizz\n",
      "3 buzz\n",
      "4 fizz\n",
      "6 fizzbuzz\n",
      "8 fizz\n",
      "9 buzz\n",
      "10 fizz\n",
      "12 fizzbuzz\n",
      "14 fizz\n",
      "15 buzz\n",
      "16 fizz\n",
      "18 fizzbuzz\n",
      "20 fizz\n",
      "21 buzz\n",
      "22 fizz\n",
      "24 fizzbuzz\n",
      "26 fizz\n",
      "27 buzz\n",
      "28 fizz\n",
      "30 fizzbuzz\n",
      "32 fizz\n",
      "33 buzz\n",
      "34 fizz\n",
      "36 fizzbuzz\n",
      "38 fizz\n",
      "39 buzz\n",
      "40 fizz\n",
      "42 fizzbuzz\n",
      "44 fizz\n",
      "45 buzz\n",
      "46 fizz\n",
      "48 fizzbuzz\n",
      "50 fizz\n"
     ]
    }
   ],
   "source": [
    "for i in range(1,51):\n",
    "    if i%2==0 and i%3!=0:\n",
    "        print(i,\"fizz\")\n",
    "    elif i%3==0 and i%2!=0:\n",
    "        print(i,\"buzz\")\n",
    "    elif i%2==0 or i%3==0:\n",
    "        print(i,\"fizzbuzz\")"
   ]
  },
  {
   "cell_type": "code",
   "execution_count": 118,
   "metadata": {},
   "outputs": [
    {
     "name": "stdout",
     "output_type": "stream",
     "text": [
      "sci\n"
     ]
    }
   ],
   "source": [
    "words=\"this is just sci sci a wonder wonder why do I have this in mind\"\n",
    "words = words.lower().split(\" \")\n",
    "seen_words = []\n",
    "for word in words:\n",
    "    if word in seen_words:\n",
    "        print(word)\n",
    "        break\n",
    "    else: \n",
    "        seen_words.append(word)"
   ]
  },
  {
   "cell_type": "code",
   "execution_count": 119,
   "metadata": {},
   "outputs": [],
   "source": [
    "dict={'one':1,'two':2,'three':3}"
   ]
  },
  {
   "cell_type": "code",
   "execution_count": 120,
   "metadata": {},
   "outputs": [
    {
     "data": {
      "text/plain": [
       "{'one': 1, 'two': 2, 'three': 3}"
      ]
     },
     "execution_count": 120,
     "metadata": {},
     "output_type": "execute_result"
    }
   ],
   "source": [
    "dict"
   ]
  },
  {
   "cell_type": "code",
   "execution_count": 122,
   "metadata": {},
   "outputs": [
    {
     "name": "stdout",
     "output_type": "stream",
     "text": [
      "one\n",
      "two\n",
      "three\n"
     ]
    }
   ],
   "source": [
    "for i in dict:\n",
    "    print(i)"
   ]
  },
  {
   "cell_type": "code",
   "execution_count": 1,
   "metadata": {},
   "outputs": [],
   "source": [
    "str='my name is hitarth'"
   ]
  },
  {
   "cell_type": "code",
   "execution_count": 4,
   "metadata": {},
   "outputs": [],
   "source": [
    "strlst=str.split(\" \")*3"
   ]
  },
  {
   "cell_type": "code",
   "execution_count": 5,
   "metadata": {},
   "outputs": [
    {
     "data": {
      "text/plain": [
       "['my',\n",
       " 'name',\n",
       " 'is',\n",
       " 'hitarth',\n",
       " 'my',\n",
       " 'name',\n",
       " 'is',\n",
       " 'hitarth',\n",
       " 'my',\n",
       " 'name',\n",
       " 'is',\n",
       " 'hitarth']"
      ]
     },
     "execution_count": 5,
     "metadata": {},
     "output_type": "execute_result"
    }
   ],
   "source": [
    "strlst"
   ]
  },
  {
   "cell_type": "code",
   "execution_count": 132,
   "metadata": {},
   "outputs": [
    {
     "name": "stdout",
     "output_type": "stream",
     "text": [
      "my\n",
      "name\n"
     ]
    }
   ],
   "source": [
    "d={}\n",
    "for i in strlst:\n",
    "    if i in d:\n",
    "        d[i]+=1\n",
    "    else:\n",
    "        d[i]=1\n",
    "for i in d:\n",
    "    if d[i]>2:\n",
    "        print(i)"
   ]
  },
  {
   "cell_type": "code",
   "execution_count": 141,
   "metadata": {},
   "outputs": [],
   "source": [
    "str1=\"\"\n",
    "for x in range(len(str)-1,-1,-1):\n",
    "    str1+=str[x]"
   ]
  },
  {
   "cell_type": "code",
   "execution_count": 142,
   "metadata": {},
   "outputs": [
    {
     "data": {
      "text/plain": [
       "'htratih si eman ym'"
      ]
     },
     "execution_count": 142,
     "metadata": {},
     "output_type": "execute_result"
    }
   ],
   "source": [
    "str1"
   ]
  },
  {
   "cell_type": "code",
   "execution_count": 18,
   "metadata": {},
   "outputs": [],
   "source": [
    "with open(\"billing.csv\") as text:\n",
    "    sent=text.read()\n",
    "    count=0\n",
    "    for letter in sent:\n",
    "        if letter.isupper():\n",
    "            count+=1\n",
    "   "
   ]
  },
  {
   "cell_type": "code",
   "execution_count": 19,
   "metadata": {},
   "outputs": [
    {
     "data": {
      "text/plain": [
       "1779"
      ]
     },
     "execution_count": 19,
     "metadata": {},
     "output_type": "execute_result"
    }
   ],
   "source": [
    "count"
   ]
  },
  {
   "cell_type": "code",
   "execution_count": 22,
   "metadata": {},
   "outputs": [],
   "source": [
    "m=[1,5,6,3]"
   ]
  },
  {
   "cell_type": "code",
   "execution_count": 23,
   "metadata": {},
   "outputs": [],
   "source": [
    "m.sort(reverse=True)"
   ]
  },
  {
   "cell_type": "code",
   "execution_count": 24,
   "metadata": {},
   "outputs": [
    {
     "data": {
      "text/plain": [
       "[6, 5, 3, 1]"
      ]
     },
     "execution_count": 24,
     "metadata": {},
     "output_type": "execute_result"
    }
   ],
   "source": [
    "m"
   ]
  },
  {
   "cell_type": "code",
   "execution_count": 27,
   "metadata": {},
   "outputs": [
    {
     "data": {
      "text/plain": [
       "3"
      ]
     },
     "execution_count": 27,
     "metadata": {},
     "output_type": "execute_result"
    }
   ],
   "source": [
    "m.pop()"
   ]
  },
  {
   "cell_type": "code",
   "execution_count": 28,
   "metadata": {},
   "outputs": [
    {
     "data": {
      "text/plain": [
       "[6, 5]"
      ]
     },
     "execution_count": 28,
     "metadata": {},
     "output_type": "execute_result"
    }
   ],
   "source": [
    "m"
   ]
  },
  {
   "cell_type": "code",
   "execution_count": 31,
   "metadata": {},
   "outputs": [
    {
     "name": "stdout",
     "output_type": "stream",
     "text": [
      "[5 4 3]\n"
     ]
    }
   ],
   "source": [
    "import numpy as np\n",
    "ar = np.array([1, 3, 2, 4, 5, 6])\n",
    "print(ar.argsort()[::-1][:3])"
   ]
  },
  {
   "cell_type": "code",
   "execution_count": 63,
   "metadata": {},
   "outputs": [
    {
     "name": "stdout",
     "output_type": "stream",
     "text": [
      "['C', 'a', 'l', 'l', 'e', 'r', 'I', 'd', ';', 'C', 'a', 'l', 'l', 'e', 'd', 'N', 'u', 'm', 'b', 'e', 'r', ';', 'T', 'a', 'r', 'i', 'f', 'f', 'D', 'e', 's', 'c', 'r', 'i', 'p', 't', 'i', 'o', 'n', ';', 'C', 'a', 'l', 'l', 'S', 't', 'a', 'r', 't', ';', 'C', 'a', 'l', 'l', 'E', 'n', 'd', ';', 'D', 'u', 'r', 'a', 't', 'i', 'o', 'n', ';', 'E', 'f', 'f', 'e', 'c', 't', 'i', 'v', 'e', 'D', 'u', 'r', 'a', 't', 'i', 'o', 'n', ';', 'C', 'o', 's', 't', ';', 'c', 'a', 'l', 'l', 't', 'y', 'p', 'e', '\\n', 'j', 'u', 'l', 'i', 'a', 'n', 'r', ';', '8', '5', '2', '3', '1', '2', '7', '8', '0', '6', '2', ';', 'H', 'o', 'n', 'g', ' ', 'K', 'o', 'n', 'g', ';', '2', '0', '1', '9', '-', '0', '5', '-', '0', '1', ' ', '4', ':', '0', '8', ':', '0', '0', ' ', 'A', 'M', ';', '2', '0', '1', '9', '-', '0', '5', '-', '0', '1', ' ', '4', ':', '0', '8', ':', '2', '1', ' ', 'A', 'M', ';', '2', '1', ';', '3', '0', ';', '0', '.', '0', '1', '5', '8', '0', '0', '0', '0', ';', 'c', 'a', 'l', 'l', '\\n', 'j', 'u', 'l', 'i', 'a', 'n', 'r', ';', '8', '5', '2', '3', '1', '2', '7', '8', '0', '6', '2', ';', 'H', 'o', 'n', 'g', ' ', 'K', 'o', 'n', 'g', ';', '2', '0', '1', '9', '-', '0', '5', '-', '0', '1', ' ', '4', ':', '0', '9', ':', '4', '8', ' ', 'A', 'M', ';', '2', '0', '1', '9', '-', '0', '5', '-', '0', '1', ' ', '4', ':', '0', '9', ':', '5', '3', ' ', 'A', 'M', ';', '5', ';', '3', '0', ';', '0', '.', '0', '1', '5', '8', '0', '0', '0', '0', ';', 'c', 'a', 'l', 'l', '\\n', 'j', 'u', 'l', 'i', 'a', 'n', 'r', ';', '8', '5', '2', '3', '1', '2', '7', '8', '0', '6', '2', ';', 'H', 'o', 'n', 'g', ' ', 'K', 'o', 'n', 'g', ';', '2', '0', '1', '9', '-', '0', '5', '-', '0', '1', ' ', '4', ':', '1', '3', ':', '3', '9', ' ', 'A', 'M', ';', '9', '9', '9', '9', '-', '1', '2', '-', '3', '1', ' ', '1', '1', ':', '5', '9', ':', '5', '9', ' ', 'P', 'M', ';', '0', ';', '0', ';', '0', '.', '0', '0', '0', '0', '0', '0', '0', '0', ';', 'f', 'a', 'i', 'l', 'e', 'd', '\\n', 'j', 'u', 'l', 'i', 'a', 'n', 'r', ';', '8', '5', '2', '3', '1', '2', '7', '8', '0', '6', '2', ';', 'H', 'o', 'n', 'g', ' ', 'K', 'o', 'n', 'g', ';', '2', '0', '1', '9', '-', '0', '5', '-', '0', '1', ' ', '4', ':', '1', '4', ':', '0', '4', ' ', 'A', 'M', ';', '9', '9', '9', '9', '-', '1', '2', '-', '3', '1', ' ', '1', '1', ':', '5', '9', ':', '5', '9', ' ', 'P', 'M', ';', '0', ';', '0', ';', '0', '.', '0', '0', '0', '0', '0', '0', '0', '0', ';', 'f', 'a', 'i', 'l', 'e', 'd', '\\n', 'j', 'u', 'l', 'i', 'a', 'n', 'r', ';', '6', '1', '2', '8', '2', '2', '2', '1', '2', '0', '0', ';', 'A', 'u', 's', 't', 'r', 'a', 'l', 'i', 'a', ';', '2', '0', '1', '9', '-', '0', '5', '-', '0', '1', ' ', '5', ':', '0', '7', ':', '1', '6', ' ', 'A', 'M', ';', '2', '0', '1', '9', '-', '0', '5', '-', '0', '1', ' ', '5', ':', '0', '7', ':', '2', '3', ' ', 'A', 'M', ';', '7', ';', '3', '0', ';', '0', '.', '0', '1', '0', '8', '0', '0', '0', '0', ';', 'c', 'a', 'l', 'l', '\\n', 'j', 'u', 'l', 'i', 'a', 'n', 'r', ';', '4', '4', '1', '5', '1', '2', '3', '7', '3', '4', '2', '4', ';', 'U', 'n', 'i', 't', 'e', 'd', ' ', 'K', 'i', 'n', 'g', 'd', 'o', 'm', ';', '2', '0', '1', '9', '-', '0', '5', '-', '0', '1', ' ', '5', ':', '0', '8', ':', '2', '7', ' ', 'A', 'M', ';', '2', '0', '1', '9', '-', '0', '5', '-', '0', '1', ' ', '5', ':', '0', '8', ':', '2', '8', ' ', 'A', 'M', ';', '1', ';', '3', '0', ';', '0', '.', '0', '1', '0', '0', '0', '0', '0', '0', ';', 'c', 'a', 'l', 'l', '\\n', 'j', 'u', 'l', 'i', 'a', 'n', 'r', ';', '4', '4', '1', '5', '1', '2', '3', '7', '3', '4', '2', '4', ';', 'U', 'n', 'i', 't', 'e', 'd', ' ', 'K', 'i', 'n', 'g', 'd', 'o', 'm', ';', '2', '0', '1', '9', '-', '0', '5', '-', '0', '1', ' ', '5', ':', '0', '9', ':', '2', '7', ' ', 'A', 'M', ';', '2', '0', '1', '9', '-', '0', '5', '-', '0', '1', ' ', '5', ':', '0', '9', ':', '2', '8', ' ', 'A', 'M', ';', '1', ';', '3', '0', ';', '0', '.', '0', '1', '0', '0', '0', '0', '0', '0', ';', 'c', 'a', 'l', 'l', '\\n', 'j', 'u', 'l', 'i', 'a', 'n', 'r', ';', '1', '5', '0', '8', '9', '7', '0', '1', '9', '0', '5', ';', 'U', 'S', 'A', ';', '2', '0', '1', '9', '-', '0', '5', '-', '0', '1', ' ', '5', ':', '1', '1', ':', '3', '4', ' ', 'A', 'M', ';', '2', '0', '1', '9', '-', '0', '5', '-', '0', '1', ' ', '5', ':', '1', '1', ':', '5', '3', ' ', 'A', 'M', ';', '1', '9', ';', '3', '0', ';', '0', '.', '0', '1', '0', '0', '0', '0', '0', '0', ';', 'c', 'a', 'l', 'l', '\\n', 'j', 'u', 'l', 'i', 'a', 'n', 'r', ';', '4', '4', '1', '5', '1', '2', '3', '7', '3', '4', '2', '4', ';', 'U', 'n', 'i', 't', 'e', 'd', ' ', 'K', 'i', 'n', 'g', 'd', 'o', 'm', ';', '2', '0', '1', '9', '-', '0', '5', '-', '0', '1', ' ', '5', ':', '2', '6', ':', '4', '1', ' ', 'A', 'M', ';', '2', '0', '1', '9', '-', '0', '5', '-', '0', '1', ' ', '5', ':', '2', '7', ':', '0', '9', ' ', 'A', 'M', ';', '2', '8', ';', '3', '0', ';', '0', '.', '0', '1', '0', '0', '0', '0', '0', '0', ';', 'c', 'a', 'l', 'l', '\\n', 'j', 'u', 'l', 'i', 'a', 'n', 'r', ';', '4', '4', '1', '5', '1', '2', '3', '7', '3', '4', '2', '4', ';', 'U', 'n', 'i', 't', 'e', 'd', ' ', 'K', 'i', 'n', 'g', 'd', 'o', 'm', ';', '2', '0', '1', '9', '-', '0', '5', '-', '0', '1', ' ', '5', ':', '3', '5', ':', '2', '9', ' ', 'A', 'M', ';', '2', '0', '1', '9', '-', '0', '5', '-', '0', '1', ' ', '5', ':', '3', '5', ':', '3', '8', ' ', 'A', 'M', ';', '9', ';', '3', '0', ';', '0', '.', '0', '1', '0', '0', '0', '0', '0', '0', ';', 'c', 'a', 'l', 'l', '\\n', 'j', 'u', 'l', 'i', 'a', 'n', 'r', ';', '4', '4', '1', '5', '1', '2', '3', '7', '3', '4', '2', '4', ';', 'U', 'n', 'i', 't', 'e', 'd', ' ', 'K', 'i', 'n', 'g', 'd', 'o', 'm', ';', '2', '0', '1', '9', '-', '0', '5', '-', '0', '1', ' ', '6', ':', '1', '1', ':', '1', '0', ' ', 'A', 'M', ';', '2', '0', '1', '9', '-', '0', '5', '-', '0', '1', ' ', '6', ':', '1', '1', ':', '3', '1', ' ', 'A', 'M', ';', '2', '1', ';', '3', '0', ';', '0', '.', '0', '1', '0', '0', '0', '0', '0', '0', ';', 'c', 'a', 'l', 'l', '\\n', 'j', 'u', 'l', 'i', 'a', 'n', 'r', ';', '1', '5', '0', '8', '9', '7', '0', '1', '9', '0', '5', ';', 'U', 'S', 'A', ';', '2', '0', '1', '9', '-', '0', '5', '-', '0', '1', ' ', '6', ':', '1', '3', ':', '1', '1', ' ', 'A', 'M', ';', '2', '0', '1', '9', '-', '0', '5', '-', '0', '1', ' ', '6', ':', '1', '3', ':', '2', '4', ' ', 'A', 'M', ';', '1', '3', ';', '3', '0', ';', '0', '.', '0', '1', '0', '0', '0', '0', '0', '0', ';', 'c', 'a', 'l', 'l', '\\n', 'j', 'u', 'l', 'i', 'a', 'n', 'r', ';', '1', '5', '0', '8', '9', '7', '0', '1', '9', '0', '5', ';', 'U', 'S', 'A', ';', '2', '0', '1', '9', '-', '0', '5', '-', '0', '1', ' ', '5', ':', '0', '7', ':', '4', '1', ' ', 'P', 'M', ';', '2', '0', '1', '9', '-', '0', '5', '-', '0', '1', ' ', '5', ':', '1', '8', ':', '3', '9', ' ', 'P', 'M', ';', '6', '5', '8', ';', '6', '6', '0', ';', '0', '.', '2', '2', '0', '0', '0', '0', '0', '0', ';', 'c', 'a', 'l', 'l', '\\n', 'j', 'u', 'l', 'i', 'a', 'n', 'r', ';', '8', '5', '2', '3', '1', '2', '7', '8', '0', '6', '2', ';', 'H', 'o', 'n', 'g', ' ', 'K', 'o', 'n', 'g', ';', '2', '0', '1', '9', '-', '0', '5', '-', '0', '1', ' ', '7', ':', '1', '4', ':', '5', '9', ' ', 'P', 'M', ';', '2', '0', '1', '9', '-', '0', '5', '-', '0', '1', ' ', '7', ':', '1', '5', ':', '4', '4', ' ', 'P', 'M', ';', '4', '5', ';', '6', '0', ';', '0', '.', '0', '3', '1', '5', '0', '0', '0', '0', ';', 'c', 'a', 'l', 'l', '\\n', 'j', 'u', 'l', 'i', 'a', 'n', 'r', ';', '8', '5', '2', '3', '1', '2', '7', '8', '0', '6', '2', ';', 'H', 'o', 'n', 'g', ' ', 'K', 'o', 'n', 'g', ';', '2', '0', '1', '9', '-', '0', '5', '-', '0', '1', ' ', '7', ':', '5', '3', ':', '1', '7', ' ', 'P', 'M', ';', '2', '0', '1', '9', '-', '0', '5', '-', '0', '1', ' ', '7', ':', '5', '3', ':', '3', '0', ' ', 'P', 'M', ';', '1', '3', ';', '3', '0', ';', '0', '.', '0', '1', '5', '8', '0', '0', '0', '0', ';', 'c', 'a', 'l', 'l', '\\n', 'j', 'u', 'l', 'i', 'a', 'n', 'r', ';', '8', '5', '2', '3', '1', '2', '7', '8', '0', '6', '2', ';', 'H', 'o', 'n', 'g', ' ', 'K', 'o', 'n', 'g', ';', '2', '0', '1', '9', '-', '0', '5', '-', '0', '1', ' ', '1', '0', ':', '5', '6', ':', '2', '8', ' ', 'P', 'M', ';', '2', '0', '1', '9', '-', '0', '5', '-', '0', '1', ' ', '1', '0', ':', '5', '6', ':', '3', '2', ' ', 'P', 'M', ';', '4', ';', '3', '0', ';', '0', '.', '0', '1', '5', '8', '0', '0', '0', '0', ';', 'c', 'a', 'l', 'l', '\\n', 'j', 'u', 'l', 'i', 'a', 'n', 'r', ';', '8', '5', '2', '3', '1', '2', '7', '8', '0', '6', '2', ';', 'H', 'o', 'n', 'g', ' ', 'K', 'o', 'n', 'g', ';', '2', '0', '1', '9', '-', '0', '5', '-', '0', '1', ' ', '1', '0', ':', '5', '8', ':', '5', '3', ' ', 'P', 'M', ';', '2', '0', '1', '9', '-', '0', '5', '-', '0', '1', ' ', '1', '0', ':', '5', '9', ':', '1', '4', ' ', 'P', 'M', ';', '2', '1', ';', '3', '0', ';', '0', '.', '0', '1', '5', '8', '0', '0', '0', '0', ';', 'c', 'a', 'l', 'l', '\\n', 'j', 'u', 'l', 'i', 'a', 'n', 'r', ';', '8', '5', '2', '3', '1', '2', '7', '8', '0', '6', '2', ';', 'H', 'o', 'n', 'g', ' ', 'K', 'o', 'n', 'g', ';', '2', '0', '1', '9', '-', '0', '5', '-', '0', '1', ' ', '1', '1', ':', '0', '0', ':', '5', '0', ' ', 'P', 'M', ';', '2', '0', '1', '9', '-', '0', '5', '-', '0', '1', ' ', '1', '1', ':', '0', '1', ':', '0', '4', ' ', 'P', 'M', ';', '1', '4', ';', '3', '0', ';', '0', '.', '0', '1', '5', '8', '0', '0', '0', '0', ';', 'c', 'a', 'l', 'l', '\\n', 'j', 'u', 'l', 'i', 'a', 'n', 'r', ';', '8', '5', '2', '3', '1', '2', '7', '8', '0', '6', '2', ';', 'H', 'o', 'n', 'g', ' ', 'K', 'o', 'n', 'g', ';', '2', '0', '1', '9', '-', '0', '5', '-', '0', '1', ' ', '1', '1', ':', '0', '7', ':', '5', '4', ' ', 'P', 'M', ';', '2', '0', '1', '9', '-', '0', '5', '-', '0', '1', ' ', '1', '1', ':', '0', '8', ':', '2', '4', ' ', 'P', 'M', ';', '3', '0', ';', '3', '0', ';', '0', '.', '0', '1', '5', '8', '0', '0', '0', '0', ';', 'c', 'a', 'l', 'l', '\\n', 'j', 'u', 'l', 'i', 'a', 'n', 'r', ';', '8', '5', '2', '3', '1', '2', '7', '8', '0', '6', '2', ';', 'H', 'o', 'n', 'g', ' ', 'K', 'o', 'n', 'g', ';', '2', '0', '1', '9', '-', '0', '5', '-', '0', '1', ' ', '1', '1', ':', '5', '1', ':', '5', '4', ' ', 'P', 'M', ';', '2', '0', '1', '9', '-', '0', '5', '-', '0', '1', ' ', '1', '1', ':', '5', '2', ':', '0', '9', ' ', 'P', 'M', ';', '1', '5', ';', '3', '0', ';', '0', '.', '0', '1', '5', '8', '0', '0', '0', '0', ';', 'c', 'a', 'l', 'l', '\\n', 'j', 'u', 'l', 'i', 'a', 'n', 'r', ';', '8', '5', '2', '3', '1', '2', '7', '8', '0', '6', '2', ';', 'H', 'o', 'n', 'g', ' ', 'K', 'o', 'n', 'g', ';', '2', '0', '1', '9', '-', '0', '5', '-', '0', '1', ' ', '1', '1', ':', '5', '5', ':', '5', '9', ' ', 'P', 'M', ';', '2', '0', '1', '9', '-', '0', '5', '-', '0', '1', ' ', '1', '1', ':', '5', '6', ':', '0', '4', ' ', 'P', 'M', ';', '5', ';', '3', '0', ';', '0', '.', '0', '1', '5', '8', '0', '0', '0', '0', ';', 'c', 'a', 'l', 'l', '\\n', 'j', 'u', 'l', 'i', 'a', 'n', 'r', ';', '8', '5', '2', '3', '1', '2', '7', '8', '0', '6', '2', ';', 'H', 'o', 'n', 'g', ' ', 'K', 'o', 'n', 'g', ';', '2', '0', '1', '9', '-', '0', '5', '-', '0', '2', ' ', '6', ':', '1', '6', ':', '5', '1', ' ', 'P', 'M', ';', '2', '0', '1', '9', '-', '0', '5', '-', '0', '2', ' ', '6', ':', '2', '3', ':', '3', '0', ' ', 'P', 'M', ';', '3', '9', '9', ';', '4', '2', '0', ';', '0', '.', '2', '2', '0', '5', '0', '0', '0', '0', ';', 'c', 'a', 'l', 'l', '\\n', 'j', 'u', 'l', 'i', 'a', 'n', 'r', ';', '8', '5', '2', '3', '1', '2', '7', '8', '0', '6', '2', ';', 'H', 'o', 'n', 'g', ' ', 'K', 'o', 'n', 'g', ';', '2', '0', '1', '9', '-', '0', '5', '-', '0', '2', ' ', '7', ':', '2', '8', ':', '4', '7', ' ', 'P', 'M', ';', '2', '0', '1', '9', '-', '0', '5', '-', '0', '2', ' ', '7', ':', '3', '2', ':', '1', '0', ' ', 'P', 'M', ';', '2', '0', '3', ';', '2', '1', '0', ';', '0', '.', '1', '1', '0', '2', '0', '0', '0', '0', ';', 'c', 'a', 'l', 'l', '\\n', 'j', 'u', 'l', 'i', 'a', 'n', 'r', ';', '8', '5', '2', '3', '1', '2', '7', '8', '0', '6', '2', ';', 'H', 'o', 'n', 'g', ' ', 'K', 'o', 'n', 'g', ';', '2', '0', '1', '9', '-', '0', '5', '-', '0', '2', ' ', '1', '0', ':', '2', '3', ':', '5', '4', ' ', 'P', 'M', ';', '2', '0', '1', '9', '-', '0', '5', '-', '0', '2', ' ', '1', '0', ':', '2', '4', ':', '0', '9', ' ', 'P', 'M', ';', '1', '5', ';', '3', '0', ';', '0', '.', '0', '1', '5', '8', '0', '0', '0', '0', ';', 'c', 'a', 'l', 'l', '\\n', 'j', 'u', 'l', 'i', 'a', 'n', 'r', ';', '8', '5', '2', '3', '1', '2', '7', '8', '0', '6', '2', ';', 'H', 'o', 'n', 'g', ' ', 'K', 'o', 'n', 'g', ';', '2', '0', '1', '9', '-', '0', '5', '-', '0', '2', ' ', '1', '0', ':', '2', '5', ':', '2', '1', ' ', 'P', 'M', ';', '2', '0', '1', '9', '-', '0', '5', '-', '0', '2', ' ', '1', '0', ':', '2', '5', ':', '3', '2', ' ', 'P', 'M', ';', '1', '1', ';', '3', '0', ';', '0', '.', '0', '1', '5', '8', '0', '0', '0', '0', ';', 'c', 'a', 'l', 'l', '\\n', 'j', 'u', 'l', 'i', 'a', 'n', 'r', ';', '8', '5', '2', '3', '1', '2', '7', '8', '0', '6', '2', ';', 'H', 'o', 'n', 'g', ' ', 'K', 'o', 'n', 'g', ';', '2', '0', '1', '9', '-', '0', '5', '-', '0', '2', ' ', '1', '0', ':', '5', '4', ':', '5', '1', ' ', 'P', 'M', ';', '2', '0', '1', '9', '-', '0', '5', '-', '0', '2', ' ', '1', '0', ':', '5', '5', ':', '1', '3', ' ', 'P', 'M', ';', '2', '2', ';', '3', '0', ';', '0', '.', '0', '1', '5', '8', '0', '0', '0', '0', ';', 'c', 'a', 'l', 'l', '\\n', 'j', 'u', 'l', 'i', 'a', 'n', 'r', ';', '8', '5', '2', '3', '1', '2', '7', '8', '0', '6', '2', ';', 'H', 'o', 'n', 'g', ' ', 'K', 'o', 'n', 'g', ';', '2', '0', '1', '9', '-', '0', '5', '-', '0', '3', ' ', '1', '2', ':', '5', '2', ':', '1', '6', ' ', 'A', 'M', ';', '2', '0', '1', '9', '-', '0', '5', '-', '0', '3', ' ', '1', '2', ':', '5', '3', ':', '2', '1', ' ', 'A', 'M', ';', '6', '5', ';', '9', '0', ';', '0', '.', '0', '4', '7', '2', '0', '0', '0', '0', ';', 'c', 'a', 'l', 'l', '\\n', 'j', 'u', 'l', 'i', 'a', 'n', 'r', ';', '1', '5', '0', '8', '9', '7', '0', '1', '9', '0', '5', ';', 'U', 'S', 'A', ';', '2', '0', '1', '9', '-', '0', '5', '-', '0', '5', ' ', '4', ':', '0', '6', ':', '2', '1', ' ', 'P', 'M', ';', '2', '0', '1', '9', '-', '0', '5', '-', '0', '5', ' ', '4', ':', '1', '0', ':', '5', '9', ' ', 'P', 'M', ';', '2', '7', '8', ';', '3', '0', '0', ';', '0', '.', '1', '0', '0', '0', '0', '0', '0', '0', ';', 'c', 'a', 'l', 'l', '\\n', 'j', 'u', 'l', 'i', 'a', 'n', 'r', ';', '1', '5', '0', '8', '9', '7', '0', '1', '9', '0', '5', ';', 'U', 'S', 'A', ';', '2', '0', '1', '9', '-', '0', '5', '-', '0', '5', ' ', '4', ':', '1', '6', ':', '3', '3', ' ', 'P', 'M', ';', '2', '0', '1', '9', '-', '0', '5', '-', '0', '5', ' ', '4', ':', '2', '6', ':', '1', '5', ' ', 'P', 'M', ';', '5', '8', '2', ';', '6', '0', '0', ';', '0', '.', '2', '0', '0', '0', '0', '0', '0', '0', ';', 'c', 'a', 'l', 'l', '\\n', 'j', 'u', 'l', 'i', 'a', 'n', 'r', ';', '1', '5', '0', '8', '9', '7', '0', '1', '9', '0', '5', ';', 'U', 'S', 'A', ';', '2', '0', '1', '9', '-', '0', '5', '-', '0', '5', ' ', '4', ':', '4', '7', ':', '2', '9', ' ', 'P', 'M', ';', '2', '0', '1', '9', '-', '0', '5', '-', '0', '5', ' ', '4', ':', '5', '2', ':', '0', '9', ' ', 'P', 'M', ';', '2', '8', '0', ';', '3', '0', '0', ';', '0', '.', '1', '0', '0', '0', '0', '0', '0', '0', ';', 'c', 'a', 'l', 'l', '\\n', 'j', 'u', 'l', 'i', 'a', 'n', 'r', ';', '1', '5', '0', '8', '9', '7', '0', '1', '9', '0', '5', ';', 'U', 'S', 'A', ';', '2', '0', '1', '9', '-', '0', '5', '-', '0', '5', ' ', '4', ':', '5', '6', ':', '5', '2', ' ', 'P', 'M', ';', '2', '0', '1', '9', '-', '0', '5', '-', '0', '5', ' ', '4', ':', '5', '9', ':', '1', '3', ' ', 'P', 'M', ';', '1', '4', '1', ';', '1', '5', '0', ';', '0', '.', '0', '5', '0', '0', '0', '0', '0', '0', ';', 'c', 'a', 'l', 'l', '\\n', 'j', 'u', 'l', 'i', 'a', 'n', 'r', ';', '1', '5', '0', '8', '9', '7', '0', '1', '9', '0', '5', ';', 'U', 'S', 'A', ';', '2', '0', '1', '9', '-', '0', '5', '-', '0', '5', ' ', '5', ':', '4', '2', ':', '4', '7', ' ', 'P', 'M', ';', '2', '0', '1', '9', '-', '0', '5', '-', '0', '5', ' ', '5', ':', '4', '6', ':', '5', '5', ' ', 'P', 'M', ';', '2', '4', '8', ';', '2', '7', '0', ';', '0', '.', '0', '9', '0', '0', '0', '0', '0', '0', ';', 'c', 'a', 'l', 'l', '\\n', 'j', 'u', 'l', 'i', 'a', 'n', 'r', ';', '8', '5', '2', '3', '1', '2', '7', '8', '0', '6', '2', ';', 'H', 'o', 'n', 'g', ' ', 'K', 'o', 'n', 'g', ';', '2', '0', '1', '9', '-', '0', '5', '-', '0', '5', ' ', '6', ':', '1', '8', ':', '4', '7', ' ', 'P', 'M', ';', '2', '0', '1', '9', '-', '0', '5', '-', '0', '5', ' ', '6', ':', '1', '9', ':', '4', '7', ' ', 'P', 'M', ';', '6', '0', ';', '6', '0', ';', '0', '.', '0', '3', '1', '5', '0', '0', '0', '0', ';', 'c', 'a', 'l', 'l', '\\n', 'j', 'u', 'l', 'i', 'a', 'n', 'r', ';', '8', '5', '2', '3', '1', '2', '7', '8', '0', '6', '2', ';', 'H', 'o', 'n', 'g', ' ', 'K', 'o', 'n', 'g', ';', '2', '0', '1', '9', '-', '0', '5', '-', '0', '5', ' ', '6', ':', '3', '2', ':', '1', '0', ' ', 'P', 'M', ';', '2', '0', '1', '9', '-', '0', '5', '-', '0', '5', ' ', '6', ':', '3', '9', ':', '4', '6', ' ', 'P', 'M', ';', '4', '5', '6', ';', '4', '8', '0', ';', '0', '.', '2', '5', '2', '0', '0', '0', '0', '0', ';', 'c', 'a', 'l', 'l', '\\n', 'j', 'u', 'l', 'i', 'a', 'n', 'r', ';', '1', '5', '0', '8', '9', '7', '0', '1', '9', '0', '5', ';', 'U', 'S', 'A', ';', '2', '0', '1', '9', '-', '0', '5', '-', '0', '6', ' ', '4', ':', '2', '6', ':', '5', '5', ' ', 'P', 'M', ';', '2', '0', '1', '9', '-', '0', '5', '-', '0', '6', ' ', '4', ':', '2', '7', ':', '0', '4', ' ', 'P', 'M', ';', '9', ';', '3', '0', ';', '0', '.', '0', '1', '0', '0', '0', '0', '0', '0', ';', 'c', 'a', 'l', 'l', '\\n', 'j', 'u', 'l', 'i', 'a', 'n', 'r', ';', '1', '5', '0', '8', '9', '7', '0', '1', '9', '0', '5', ';', 'U', 'S', 'A', ';', '2', '0', '1', '9', '-', '0', '5', '-', '0', '6', ' ', '4', ':', '2', '7', ':', '3', '1', ' ', 'P', 'M', ';', '2', '0', '1', '9', '-', '0', '5', '-', '0', '6', ' ', '4', ':', '2', '8', ':', '0', '8', ' ', 'P', 'M', ';', '3', '7', ';', '6', '0', ';', '0', '.', '0', '2', '0', '0', '0', '0', '0', '0', ';', 'c', 'a', 'l', 'l', '\\n', 'j', 'u', 'l', 'i', 'a', 'n', 'r', ';', '1', '5', '0', '8', '9', '7', '0', '1', '9', '0', '5', ';', 'U', 'S', 'A', ';', '2', '0', '1', '9', '-', '0', '5', '-', '0', '6', ' ', '5', ':', '4', '8', ':', '4', '4', ' ', 'P', 'M', ';', '2', '0', '1', '9', '-', '0', '5', '-', '0', '6', ' ', '5', ':', '4', '9', ':', '0', '8', ' ', 'P', 'M', ';', '2', '4', ';', '3', '0', ';', '0', '.', '0', '1', '0', '0', '0', '0', '0', '0', ';', 'c', 'a', 'l', 'l', '\\n', 'j', 'u', 'l', 'i', 'a', 'n', 'r', ';', '8', '5', '2', '3', '1', '2', '7', '8', '0', '6', '2', ';', 'H', 'o', 'n', 'g', ' ', 'K', 'o', 'n', 'g', ';', '2', '0', '1', '9', '-', '0', '5', '-', '0', '6', ' ', '6', ':', '3', '0', ':', '5', '6', ' ', 'P', 'M', ';', '2', '0', '1', '9', '-', '0', '5', '-', '0', '6', ' ', '6', ':', '3', '1', ':', '1', '3', ' ', 'P', 'M', ';', '1', '7', ';', '3', '0', ';', '0', '.', '0', '1', '5', '8', '0', '0', '0', '0', ';', 'c', 'a', 'l', 'l', '\\n', 'j', 'u', 'l', 'i', 'a', 'n', 'r', ';', '8', '5', '2', '3', '1', '2', '7', '8', '0', '6', '2', ';', 'H', 'o', 'n', 'g', ' ', 'K', 'o', 'n', 'g', ';', '2', '0', '1', '9', '-', '0', '5', '-', '0', '6', ' ', '9', ':', '0', '0', ':', '5', '7', ' ', 'P', 'M', ';', '2', '0', '1', '9', '-', '0', '5', '-', '0', '6', ' ', '9', ':', '0', '1', ':', '0', '5', ' ', 'P', 'M', ';', '8', ';', '3', '0', ';', '0', '.', '0', '1', '5', '8', '0', '0', '0', '0', ';', 'c', 'a', 'l', 'l', '\\n', 'j', 'u', 'l', 'i', 'a', 'n', 'r', ';', '1', '5', '0', '8', '9', '7', '0', '1', '9', '0', '5', ';', 'U', 'S', 'A', ';', '2', '0', '1', '9', '-', '0', '5', '-', '0', '7', ' ', '4', ':', '0', '4', ':', '4', '3', ' ', 'P', 'M', ';', '2', '0', '1', '9', '-', '0', '5', '-', '0', '7', ' ', '4', ':', '1', '2', ':', '4', '9', ' ', 'P', 'M', ';', '4', '8', '6', ';', '5', '1', '0', ';', '0', '.', '1', '7', '0', '0', '0', '0', '0', '0', ';', 'c', 'a', 'l', 'l', '\\n', 'j', 'u', 'l', 'i', 'a', 'n', 'r', ';', '1', '5', '0', '8', '9', '7', '0', '1', '9', '0', '5', ';', 'U', 'S', 'A', ';', '2', '0', '1', '9', '-', '0', '5', '-', '0', '7', ' ', '6', ':', '0', '3', ':', '3', '2', ' ', 'P', 'M', ';', '2', '0', '1', '9', '-', '0', '5', '-', '0', '7', ' ', '6', ':', '0', '4', ':', '3', '6', ' ', 'P', 'M', ';', '6', '4', ';', '9', '0', ';', '0', '.', '0', '3', '0', '0', '0', '0', '0', '0', ';', 'c', 'a', 'l', 'l', '\\n', 'j', 'u', 'l', 'i', 'a', 'n', 'r', ';', '1', '5', '0', '8', '9', '7', '0', '1', '9', '0', '5', ';', 'U', 'S', 'A', ';', '2', '0', '1', '9', '-', '0', '5', '-', '0', '7', ' ', '6', ':', '5', '0', ':', '3', '4', ' ', 'P', 'M', ';', '2', '0', '1', '9', '-', '0', '5', '-', '0', '7', ' ', '6', ':', '5', '3', ':', '3', '1', ' ', 'P', 'M', ';', '1', '7', '7', ';', '1', '8', '0', ';', '0', '.', '0', '6', '0', '0', '0', '0', '0', '0', ';', 'c', 'a', 'l', 'l', '\\n', 'j', 'u', 'l', 'i', 'a', 'n', 'r', ';', '1', '5', '0', '8', '9', '7', '0', '1', '9', '0', '5', ';', 'U', 'S', 'A', ';', '2', '0', '1', '9', '-', '0', '5', '-', '0', '7', ' ', '7', ':', '1', '6', ':', '2', '6', ' ', 'P', 'M', ';', '2', '0', '1', '9', '-', '0', '5', '-', '0', '7', ' ', '7', ':', '2', '7', ':', '4', '8', ' ', 'P', 'M', ';', '6', '8', '2', ';', '6', '9', '0', ';', '0', '.', '2', '3', '0', '0', '0', '0', '0', '0', ';', 'c', 'a', 'l', 'l', '\\n', 'j', 'u', 'l', 'i', 'a', 'n', 'r', ';', '1', '5', '0', '8', '9', '7', '0', '1', '9', '0', '5', ';', 'U', 'S', 'A', ';', '2', '0', '1', '9', '-', '0', '5', '-', '0', '7', ' ', '7', ':', '3', '6', ':', '5', '3', ' ', 'P', 'M', ';', '2', '0', '1', '9', '-', '0', '5', '-', '0', '7', ' ', '7', ':', '4', '2', ':', '1', '3', ' ', 'P', 'M', ';', '3', '2', '0', ';', '3', '3', '0', ';', '0', '.', '1', '1', '0', '0', '0', '0', '0', '0', ';', 'c', 'a', 'l', 'l', '\\n', 'j', 'u', 'l', 'i', 'a', 'n', 'r', ';', '1', '5', '0', '8', '9', '7', '0', '1', '9', '0', '5', ';', 'U', 'S', 'A', ';', '2', '0', '1', '9', '-', '0', '5', '-', '0', '7', ' ', '9', ':', '0', '2', ':', '0', '7', ' ', 'P', 'M', ';', '2', '0', '1', '9', '-', '0', '5', '-', '0', '7', ' ', '9', ':', '0', '3', ':', '0', '9', ' ', 'P', 'M', ';', '6', '2', ';', '9', '0', ';', '0', '.', '0', '3', '0', '0', '0', '0', '0', '0', ';', 'c', 'a', 'l', 'l', '\\n', 'j', 'u', 'l', 'i', 'a', 'n', 'r', ';', '1', '5', '0', '8', '9', '7', '0', '1', '9', '0', '5', ';', 'U', 'S', 'A', ';', '2', '0', '1', '9', '-', '0', '5', '-', '0', '7', ' ', '9', ':', '0', '4', ':', '0', '2', ' ', 'P', 'M', ';', '2', '0', '1', '9', '-', '0', '5', '-', '0', '7', ' ', '9', ':', '0', '5', ':', '0', '7', ' ', 'P', 'M', ';', '6', '5', ';', '9', '0', ';', '0', '.', '0', '3', '0', '0', '0', '0', '0', '0', ';', 'c', 'a', 'l', 'l', '\\n', 'j', 'u', 'l', 'i', 'a', 'n', 'r', ';', '1', '5', '0', '8', '9', '7', '0', '1', '9', '0', '5', ';', 'U', 'S', 'A', ';', '2', '0', '1', '9', '-', '0', '5', '-', '0', '7', ' ', '9', ':', '0', '8', ':', '1', '2', ' ', 'P', 'M', ';', '2', '0', '1', '9', '-', '0', '5', '-', '0', '7', ' ', '9', ':', '0', '9', ':', '1', '0', ' ', 'P', 'M', ';', '5', '8', ';', '6', '0', ';', '0', '.', '0', '2', '0', '0', '0', '0', '0', '0', ';', 'c', 'a', 'l', 'l', '\\n', 'j', 'u', 'l', 'i', 'a', 'n', 'r', ';', '1', '5', '0', '8', '9', '7', '0', '1', '9', '0', '5', ';', 'U', 'S', 'A', ';', '2', '0', '1', '9', '-', '0', '5', '-', '0', '7', ' ', '9', ':', '0', '9', ':', '4', '3', ' ', 'P', 'M', ';', '2', '0', '1', '9', '-', '0', '5', '-', '0', '7', ' ', '9', ':', '1', '0', ':', '3', '7', ' ', 'P', 'M', ';', '5', '4', ';', '6', '0', ';', '0', '.', '0', '2', '0', '0', '0', '0', '0', '0', ';', 'c', 'a', 'l', 'l', '\\n', 'j', 'u', 'l', 'i', 'a', 'n', 'r', ';', '4', '4', '1', '5', '1', '2', '3', '7', '3', '4', '2', '4', ';', 'U', 'n', 'i', 't', 'e', 'd', ' ', 'K', 'i', 'n', 'g', 'd', 'o', 'm', ';', '2', '0', '1', '9', '-', '0', '5', '-', '0', '7', ' ', '9', ':', '1', '1', ':', '3', '3', ' ', 'P', 'M', ';', '2', '0', '1', '9', '-', '0', '5', '-', '0', '7', ' ', '9', ':', '1', '2', ':', '3', '5', ' ', 'P', 'M', ';', '6', '2', ';', '9', '0', ';', '0', '.', '0', '3', '0', '0', '0', '0', '0', '0', ';', 'c', 'a', 'l', 'l', '\\n', 'j', 'u', 'l', 'i', 'a', 'n', 'r', ';', '4', '4', '1', '5', '1', '2', '3', '7', '3', '4', '2', '4', ';', 'U', 'n', 'i', 't', 'e', 'd', ' ', 'K', 'i', 'n', 'g', 'd', 'o', 'm', ';', '2', '0', '1', '9', '-', '0', '5', '-', '0', '7', ' ', '9', ':', '1', '3', ':', '1', '8', ' ', 'P', 'M', ';', '2', '0', '1', '9', '-', '0', '5', '-', '0', '7', ' ', '9', ':', '1', '4', ':', '0', '7', ' ', 'P', 'M', ';', '4', '9', ';', '6', '0', ';', '0', '.', '0', '2', '0', '0', '0', '0', '0', '0', ';', 'c', 'a', 'l', 'l', '\\n', 'j', 'u', 'l', 'i', 'a', 'n', 'r', ';', '4', '4', '1', '5', '1', '2', '3', '7', '3', '4', '2', '4', ';', 'U', 'n', 'i', 't', 'e', 'd', ' ', 'K', 'i', 'n', 'g', 'd', 'o', 'm', ';', '2', '0', '1', '9', '-', '0', '5', '-', '0', '7', ' ', '9', ':', '5', '3', ':', '1', '5', ' ', 'P', 'M', ';', '2', '0', '1', '9', '-', '0', '5', '-', '0', '7', ' ', '1', '0', ':', '0', '1', ':', '2', '3', ' ', 'P', 'M', ';', '4', '8', '8', ';', '5', '1', '0', ';', '0', '.', '1', '7', '0', '0', '0', '0', '0', '0', ';', 'c', 'a', 'l', 'l', '\\n', 'j', 'u', 'l', 'i', 'a', 'n', 'r', ';', '1', '5', '0', '8', '9', '7', '0', '1', '9', '0', '5', ';', 'U', 'S', 'A', ';', '2', '0', '1', '9', '-', '0', '5', '-', '0', '8', ' ', '3', ':', '5', '0', ':', '5', '0', ' ', 'P', 'M', ';', '2', '0', '1', '9', '-', '0', '5', '-', '0', '8', ' ', '3', ':', '5', '1', ':', '1', '3', ' ', 'P', 'M', ';', '2', '3', ';', '3', '0', ';', '0', '.', '0', '1', '0', '0', '0', '0', '0', '0', ';', 'c', 'a', 'l', 'l', '\\n', 'j', 'u', 'l', 'i', 'a', 'n', 'r', ';', '4', '4', '1', '5', '1', '2', '3', '7', '3', '4', '2', '4', ';', 'U', 'n', 'i', 't', 'e', 'd', ' ', 'K', 'i', 'n', 'g', 'd', 'o', 'm', ';', '2', '0', '1', '9', '-', '0', '5', '-', '0', '8', ' ', '6', ':', '0', '3', ':', '0', '1', ' ', 'P', 'M', ';', '2', '0', '1', '9', '-', '0', '5', '-', '0', '8', ' ', '6', ':', '0', '4', ':', '2', '9', ' ', 'P', 'M', ';', '8', '8', ';', '9', '0', ';', '0', '.', '0', '3', '0', '0', '0', '0', '0', '0', ';', 'c', 'a', 'l', 'l', '\\n', 'j', 'u', 'l', 'i', 'a', 'n', 'r', ';', '4', '4', '1', '5', '1', '2', '3', '7', '3', '4', '2', '4', ';', 'U', 'n', 'i', 't', 'e', 'd', ' ', 'K', 'i', 'n', 'g', 'd', 'o', 'm', ';', '2', '0', '1', '9', '-', '0', '5', '-', '0', '8', ' ', '6', ':', '0', '4', ':', '5', '4', ' ', 'P', 'M', ';', '2', '0', '1', '9', '-', '0', '5', '-', '0', '8', ' ', '6', ':', '0', '7', ':', '2', '5', ' ', 'P', 'M', ';', '1', '5', '1', ';', '1', '8', '0', ';', '0', '.', '0', '6', '0', '0', '0', '0', '0', '0', ';', 'c', 'a', 'l', 'l', '\\n', 'j', 'u', 'l', 'i', 'a', 'n', 'r', ';', '4', '4', '1', '5', '1', '2', '3', '7', '3', '4', '2', '4', ';', 'U', 'n', 'i', 't', 'e', 'd', ' ', 'K', 'i', 'n', 'g', 'd', 'o', 'm', ';', '2', '0', '1', '9', '-', '0', '5', '-', '0', '8', ' ', '6', ':', '0', '7', ':', '5', '2', ' ', 'P', 'M', ';', '2', '0', '1', '9', '-', '0', '5', '-', '0', '8', ' ', '6', ':', '0', '8', ':', '3', '8', ' ', 'P', 'M', ';', '4', '6', ';', '6', '0', ';', '0', '.', '0', '2', '0', '0', '0', '0', '0', '0', ';', 'c', 'a', 'l', 'l', '\\n', 'j', 'u', 'l', 'i', 'a', 'n', 'r', ';', '4', '4', '1', '5', '1', '2', '3', '7', '3', '4', '2', '4', ';', 'U', 'n', 'i', 't', 'e', 'd', ' ', 'K', 'i', 'n', 'g', 'd', 'o', 'm', ';', '2', '0', '1', '9', '-', '0', '5', '-', '0', '8', ' ', '6', ':', '1', '1', ':', '4', '4', ' ', 'P', 'M', ';', '2', '0', '1', '9', '-', '0', '5', '-', '0', '8', ' ', '6', ':', '1', '1', ':', '5', '0', ' ', 'P', 'M', ';', '6', ';', '3', '0', ';', '0', '.', '0', '1', '0', '0', '0', '0', '0', '0', ';', 'c', 'a', 'l', 'l', '\\n', 'j', 'u', 'l', 'i', 'a', 'n', 'r', ';', '4', '4', '1', '5', '1', '2', '3', '7', '3', '4', '2', '4', ';', 'U', 'n', 'i', 't', 'e', 'd', ' ', 'K', 'i', 'n', 'g', 'd', 'o', 'm', ';', '2', '0', '1', '9', '-', '0', '5', '-', '0', '8', ' ', '6', ':', '1', '6', ':', '5', '5', ' ', 'P', 'M', ';', '2', '0', '1', '9', '-', '0', '5', '-', '0', '8', ' ', '6', ':', '1', '7', ':', '0', '0', ' ', 'P', 'M', ';', '5', ';', '3', '0', ';', '0', '.', '0', '1', '0', '0', '0', '0', '0', '0', ';', 'c', 'a', 'l', 'l', '\\n', 'j', 'u', 'l', 'i', 'a', 'n', 'r', ';', '4', '4', '1', '5', '1', '2', '3', '7', '3', '4', '2', '4', ';', 'U', 'n', 'i', 't', 'e', 'd', ' ', 'K', 'i', 'n', 'g', 'd', 'o', 'm', ';', '2', '0', '1', '9', '-', '0', '5', '-', '0', '8', ' ', '6', ':', '2', '8', ':', '4', '7', ' ', 'P', 'M', ';', '2', '0', '1', '9', '-', '0', '5', '-', '0', '8', ' ', '6', ':', '2', '8', ':', '5', '3', ' ', 'P', 'M', ';', '6', ';', '3', '0', ';', '0', '.', '0', '1', '0', '0', '0', '0', '0', '0', ';', 'c', 'a', 'l', 'l', '\\n', 'j', 'u', 'l', 'i', 'a', 'n', 'r', ';', '4', '4', '1', '5', '1', '2', '3', '7', '3', '4', '2', '4', ';', 'U', 'n', 'i', 't', 'e', 'd', ' ', 'K', 'i', 'n', 'g', 'd', 'o', 'm', ';', '2', '0', '1', '9', '-', '0', '5', '-', '0', '8', ' ', '6', ':', '3', '1', ':', '0', '0', ' ', 'P', 'M', ';', '2', '0', '1', '9', '-', '0', '5', '-', '0', '8', ' ', '6', ':', '3', '1', ':', '0', '4', ' ', 'P', 'M', ';', '4', ';', '3', '0', ';', '0', '.', '0', '1', '0', '0', '0', '0', '0', '0', ';', 'c', 'a', 'l', 'l', '\\n', 'j', 'u', 'l', 'i', 'a', 'n', 'r', ';', '4', '4', '1', '5', '1', '2', '3', '7', '3', '4', '2', '4', ';', 'U', 'n', 'i', 't', 'e', 'd', ' ', 'K', 'i', 'n', 'g', 'd', 'o', 'm', ';', '2', '0', '1', '9', '-', '0', '5', '-', '0', '8', ' ', '8', ':', '2', '5', ':', '3', '6', ' ', 'P', 'M', ';', '2', '0', '1', '9', '-', '0', '5', '-', '0', '8', ' ', '8', ':', '3', '2', ':', '4', '3', ' ', 'P', 'M', ';', '4', '2', '7', ';', '4', '5', '0', ';', '0', '.', '1', '5', '0', '0', '0', '0', '0', '0', ';', 'c', 'a', 'l', 'l', '\\n', 'j', 'u', 'l', 'i', 'a', 'n', 'r', ';', '4', '4', '1', '5', '1', '2', '3', '7', '3', '4', '2', '4', ';', 'U', 'n', 'i', 't', 'e', 'd', ' ', 'K', 'i', 'n', 'g', 'd', 'o', 'm', ';', '2', '0', '1', '9', '-', '0', '5', '-', '0', '8', ' ', '8', ':', '4', '8', ':', '2', '7', ' ', 'P', 'M', ';', '2', '0', '1', '9', '-', '0', '5', '-', '0', '8', ' ', '8', ':', '5', '1', ':', '2', '7', ' ', 'P', 'M', ';', '1', '8', '0', ';', '1', '8', '0', ';', '0', '.', '0', '6', '0', '0', '0', '0', '0', '0', ';', 'c', 'a', 'l', 'l', '\\n', 'j', 'u', 'l', 'i', 'a', 'n', 'r', ';', '4', '4', '1', '5', '1', '2', '3', '7', '3', '4', '2', '4', ';', 'U', 'n', 'i', 't', 'e', 'd', ' ', 'K', 'i', 'n', 'g', 'd', 'o', 'm', ';', '2', '0', '1', '9', '-', '0', '5', '-', '0', '8', ' ', '8', ':', '5', '8', ':', '2', '5', ' ', 'P', 'M', ';', '2', '0', '1', '9', '-', '0', '5', '-', '0', '8', ' ', '9', ':', '0', '1', ':', '5', '0', ' ', 'P', 'M', ';', '2', '0', '5', ';', '2', '1', '0', ';', '0', '.', '0', '7', '0', '0', '0', '0', '0', '0', ';', 'c', 'a', 'l', 'l', '\\n', 'j', 'u', 'l', 'i', 'a', 'n', 'r', ';', '4', '4', '1', '5', '1', '2', '3', '7', '3', '4', '2', '4', ';', 'U', 'n', 'i', 't', 'e', 'd', ' ', 'K', 'i', 'n', 'g', 'd', 'o', 'm', ';', '2', '0', '1', '9', '-', '0', '5', '-', '0', '8', ' ', '9', ':', '0', '3', ':', '2', '3', ' ', 'P', 'M', ';', '2', '0', '1', '9', '-', '0', '5', '-', '0', '8', ' ', '9', ':', '0', '4', ':', '1', '4', ' ', 'P', 'M', ';', '5', '1', ';', '6', '0', ';', '0', '.', '0', '2', '0', '0', '0', '0', '0', '0', ';', 'c', 'a', 'l', 'l', '\\n', 'j', 'u', 'l', 'i', 'a', 'n', 'r', ';', '4', '4', '1', '5', '1', '2', '3', '7', '3', '4', '2', '4', ';', 'U', 'n', 'i', 't', 'e', 'd', ' ', 'K', 'i', 'n', 'g', 'd', 'o', 'm', ';', '2', '0', '1', '9', '-', '0', '5', '-', '0', '8', ' ', '9', ':', '1', '9', ':', '0', '1', ' ', 'P', 'M', ';', '2', '0', '1', '9', '-', '0', '5', '-', '0', '8', ' ', '9', ':', '2', '2', ':', '1', '3', ' ', 'P', 'M', ';', '1', '9', '2', ';', '2', '1', '0', ';', '0', '.', '0', '7', '0', '0', '0', '0', '0', '0', ';', 'c', 'a', 'l', 'l', '\\n', 'j', 'u', 'l', 'i', 'a', 'n', 'r', ';', '4', '4', '1', '5', '1', '2', '3', '7', '3', '4', '2', '4', ';', 'U', 'n', 'i', 't', 'e', 'd', ' ', 'K', 'i', 'n', 'g', 'd', 'o', 'm', ';', '2', '0', '1', '9', '-', '0', '5', '-', '0', '8', ' ', '9', ':', '3', '1', ':', '4', '8', ' ', 'P', 'M', ';', '2', '0', '1', '9', '-', '0', '5', '-', '0', '8', ' ', '9', ':', '3', '2', ':', '0', '1', ' ', 'P', 'M', ';', '1', '3', ';', '3', '0', ';', '0', '.', '0', '1', '0', '0', '0', '0', '0', '0', ';', 'c', 'a', 'l', 'l', '\\n', 'j', 'u', 'l', 'i', 'a', 'n', 'r', ';', '4', '4', '1', '5', '1', '2', '3', '7', '3', '4', '2', '4', ';', 'U', 'n', 'i', 't', 'e', 'd', ' ', 'K', 'i', 'n', 'g', 'd', 'o', 'm', ';', '2', '0', '1', '9', '-', '0', '5', '-', '0', '8', ' ', '9', ':', '3', '6', ':', '0', '6', ' ', 'P', 'M', ';', '2', '0', '1', '9', '-', '0', '5', '-', '0', '8', ' ', '9', ':', '3', '7', ':', '4', '6', ' ', 'P', 'M', ';', '1', '0', '0', ';', '1', '2', '0', ';', '0', '.', '0', '4', '0', '0', '0', '0', '0', '0', ';', 'c', 'a', 'l', 'l', '\\n', 'j', 'u', 'l', 'i', 'a', 'n', 'r', ';', '4', '4', '1', '5', '1', '2', '3', '7', '3', '4', '2', '4', ';', 'U', 'n', 'i', 't', 'e', 'd', ' ', 'K', 'i', 'n', 'g', 'd', 'o', 'm', ';', '2', '0', '1', '9', '-', '0', '5', '-', '0', '8', ' ', '9', ':', '4', '0', ':', '3', '1', ' ', 'P', 'M', ';', '2', '0', '1', '9', '-', '0', '5', '-', '0', '8', ' ', '9', ':', '4', '9', ':', '1', '4', ' ', 'P', 'M', ';', '5', '2', '3', ';', '5', '4', '0', ';', '0', '.', '1', '8', '0', '0', '0', '0', '0', '0', ';', 'c', 'a', 'l', 'l', '\\n', 'j', 'u', 'l', 'i', 'a', 'n', 'r', ';', '4', '4', '1', '5', '1', '2', '3', '7', '3', '4', '2', '4', ';', 'U', 'n', 'i', 't', 'e', 'd', ' ', 'K', 'i', 'n', 'g', 'd', 'o', 'm', ';', '2', '0', '1', '9', '-', '0', '5', '-', '0', '8', ' ', '9', ':', '5', '2', ':', '5', '7', ' ', 'P', 'M', ';', '2', '0', '1', '9', '-', '0', '5', '-', '0', '8', ' ', '9', ':', '5', '6', ':', '1', '8', ' ', 'P', 'M', ';', '2', '0', '1', ';', '2', '1', '0', ';', '0', '.', '0', '7', '0', '0', '0', '0', '0', '0', ';', 'c', 'a', 'l', 'l', '\\n', 'j', 'u', 'l', 'i', 'a', 'n', 'r', ';', '4', '4', '1', '5', '1', '2', '3', '7', '3', '4', '2', '4', ';', 'U', 'n', 'i', 't', 'e', 'd', ' ', 'K', 'i', 'n', 'g', 'd', 'o', 'm', ';', '2', '0', '1', '9', '-', '0', '5', '-', '0', '8', ' ', '1', '0', ':', '0', '9', ':', '4', '1', ' ', 'P', 'M', ';', '2', '0', '1', '9', '-', '0', '5', '-', '0', '8', ' ', '1', '0', ':', '0', '9', ':', '4', '6', ' ', 'P', 'M', ';', '5', ';', '3', '0', ';', '0', '.', '0', '1', '0', '0', '0', '0', '0', '0', ';', 'c', 'a', 'l', 'l', '\\n', 'j', 'u', 'l', 'i', 'a', 'n', 'r', ';', '4', '4', '1', '5', '1', '2', '3', '7', '3', '4', '2', '4', ';', 'U', 'n', 'i', 't', 'e', 'd', ' ', 'K', 'i', 'n', 'g', 'd', 'o', 'm', ';', '2', '0', '1', '9', '-', '0', '5', '-', '0', '8', ' ', '1', '0', ':', '3', '2', ':', '0', '1', ' ', 'P', 'M', ';', '2', '0', '1', '9', '-', '0', '5', '-', '0', '8', ' ', '1', '0', ':', '3', '2', ':', '2', '6', ' ', 'P', 'M', ';', '2', '5', ';', '3', '0', ';', '0', '.', '0', '1', '0', '0', '0', '0', '0', '0', ';', 'c', 'a', 'l', 'l', '\\n', 'j', 'u', 'l', 'i', 'a', 'n', 'r', ';', '4', '4', '1', '5', '1', '2', '3', '7', '3', '4', '2', '4', ';', 'U', 'n', 'i', 't', 'e', 'd', ' ', 'K', 'i', 'n', 'g', 'd', 'o', 'm', ';', '2', '0', '1', '9', '-', '0', '5', '-', '0', '8', ' ', '1', '0', ':', '3', '7', ':', '3', '4', ' ', 'P', 'M', ';', '2', '0', '1', '9', '-', '0', '5', '-', '0', '8', ' ', '1', '0', ':', '4', '0', ':', '3', '6', ' ', 'P', 'M', ';', '1', '8', '2', ';', '2', '1', '0', ';', '0', '.', '0', '7', '0', '0', '0', '0', '0', '0', ';', 'c', 'a', 'l', 'l', '\\n', 'j', 'u', 'l', 'i', 'a', 'n', 'r', ';', '4', '4', '1', '5', '1', '2', '3', '7', '3', '4', '2', '4', ';', 'U', 'n', 'i', 't', 'e', 'd', ' ', 'K', 'i', 'n', 'g', 'd', 'o', 'm', ';', '2', '0', '1', '9', '-', '0', '5', '-', '0', '8', ' ', '1', '0', ':', '5', '4', ':', '4', '1', ' ', 'P', 'M', ';', '2', '0', '1', '9', '-', '0', '5', '-', '0', '8', ' ', '1', '0', ':', '5', '5', ':', '2', '0', ' ', 'P', 'M', ';', '3', '9', ';', '6', '0', ';', '0', '.', '0', '2', '0', '0', '0', '0', '0', '0', ';', 'c', 'a', 'l', 'l', '\\n', 'j', 'u', 'l', 'i', 'a', 'n', 'r', ';', '4', '4', '1', '5', '1', '2', '3', '7', '3', '4', '2', '4', ';', 'U', 'n', 'i', 't', 'e', 'd', ' ', 'K', 'i', 'n', 'g', 'd', 'o', 'm', ';', '2', '0', '1', '9', '-', '0', '5', '-', '0', '8', ' ', '1', '0', ':', '5', '5', ':', '5', '7', ' ', 'P', 'M', ';', '2', '0', '1', '9', '-', '0', '5', '-', '0', '8', ' ', '1', '0', ':', '5', '6', ':', '1', '2', ' ', 'P', 'M', ';', '1', '5', ';', '3', '0', ';', '0', '.', '0', '1', '0', '0', '0', '0', '0', '0', ';', 'c', 'a', 'l', 'l', '\\n', 'j', 'u', 'l', 'i', 'a', 'n', 'r', ';', '4', '4', '1', '5', '1', '2', '3', '7', '3', '4', '2', '4', ';', 'U', 'n', 'i', 't', 'e', 'd', ' ', 'K', 'i', 'n', 'g', 'd', 'o', 'm', ';', '2', '0', '1', '9', '-', '0', '5', '-', '0', '8', ' ', '1', '1', ':', '1', '3', ':', '4', '2', ' ', 'P', 'M', ';', '2', '0', '1', '9', '-', '0', '5', '-', '0', '8', ' ', '1', '1', ':', '1', '5', ':', '4', '9', ' ', 'P', 'M', ';', '1', '2', '7', ';', '1', '5', '0', ';', '0', '.', '0', '5', '0', '0', '0', '0', '0', '0', ';', 'c', 'a', 'l', 'l', '\\n', 'j', 'u', 'l', 'i', 'a', 'n', 'r', ';', '4', '4', '1', '5', '1', '2', '3', '7', '3', '4', '2', '4', ';', 'U', 'n', 'i', 't', 'e', 'd', ' ', 'K', 'i', 'n', 'g', 'd', 'o', 'm', ';', '2', '0', '1', '9', '-', '0', '5', '-', '0', '8', ' ', '1', '1', ':', '3', '6', ':', '1', '1', ' ', 'P', 'M', ';', '2', '0', '1', '9', '-', '0', '5', '-', '0', '8', ' ', '1', '1', ':', '3', '8', ':', '1', '3', ' ', 'P', 'M', ';', '1', '2', '2', ';', '1', '5', '0', ';', '0', '.', '0', '5', '0', '0', '0', '0', '0', '0', ';', 'c', 'a', 'l', 'l', '\\n', 'j', 'u', 'l', 'i', 'a', 'n', 'r', ';', '4', '4', '1', '5', '1', '2', '3', '7', '3', '4', '2', '4', ';', 'U', 'n', 'i', 't', 'e', 'd', ' ', 'K', 'i', 'n', 'g', 'd', 'o', 'm', ';', '2', '0', '1', '9', '-', '0', '5', '-', '0', '8', ' ', '1', '1', ':', '3', '9', ':', '1', '0', ' ', 'P', 'M', ';', '2', '0', '1', '9', '-', '0', '5', '-', '0', '8', ' ', '1', '1', ':', '4', '0', ':', '2', '8', ' ', 'P', 'M', ';', '7', '8', ';', '9', '0', ';', '0', '.', '0', '3', '0', '0', '0', '0', '0', '0', ';', 'c', 'a', 'l', 'l', '\\n', 'j', 'u', 'l', 'i', 'a', 'n', 'r', ';', '4', '4', '1', '5', '1', '2', '3', '7', '3', '4', '2', '4', ';', 'U', 'n', 'i', 't', 'e', 'd', ' ', 'K', 'i', 'n', 'g', 'd', 'o', 'm', ';', '2', '0', '1', '9', '-', '0', '5', '-', '0', '8', ' ', '1', '1', ':', '4', '3', ':', '0', '0', ' ', 'P', 'M', ';', '2', '0', '1', '9', '-', '0', '5', '-', '0', '8', ' ', '1', '1', ':', '4', '7', ':', '0', '5', ' ', 'P', 'M', ';', '2', '4', '5', ';', '2', '7', '0', ';', '0', '.', '0', '9', '0', '0', '0', '0', '0', '0', ';', 'c', 'a', 'l', 'l', '\\n', 'j', 'u', 'l', 'i', 'a', 'n', 'r', ';', '4', '4', '1', '5', '1', '2', '3', '7', '3', '4', '2', '4', ';', 'U', 'n', 'i', 't', 'e', 'd', ' ', 'K', 'i', 'n', 'g', 'd', 'o', 'm', ';', '2', '0', '1', '9', '-', '0', '5', '-', '0', '9', ' ', '1', '2', ':', '0', '0', ':', '5', '6', ' ', 'A', 'M', ';', '2', '0', '1', '9', '-', '0', '5', '-', '0', '9', ' ', '1', '2', ':', '0', '6', ':', '1', '7', ' ', 'A', 'M', ';', '3', '2', '1', ';', '3', '3', '0', ';', '0', '.', '1', '1', '0', '0', '0', '0', '0', '0', ';', 'c', 'a', 'l', 'l', '\\n', 'j', 'u', 'l', 'i', 'a', 'n', 'r', ';', '4', '4', '1', '5', '1', '2', '3', '7', '3', '4', '2', '4', ';', 'U', 'n', 'i', 't', 'e', 'd', ' ', 'K', 'i', 'n', 'g', 'd', 'o', 'm', ';', '2', '0', '1', '9', '-', '0', '5', '-', '0', '9', ' ', '1', '2', ':', '2', '4', ':', '3', '8', ' ', 'A', 'M', ';', '2', '0', '1', '9', '-', '0', '5', '-', '0', '9', ' ', '1', '2', ':', '2', '6', ':', '3', '5', ' ', 'A', 'M', ';', '1', '1', '7', ';', '1', '2', '0', ';', '0', '.', '0', '4', '0', '0', '0', '0', '0', '0', ';', 'c', 'a', 'l', 'l', '\\n', 'j', 'u', 'l', 'i', 'a', 'n', 'r', ';', '1', '5', '0', '8', '9', '7', '0', '1', '9', '0', '5', ';', 'U', 'S', 'A', ';', '2', '0', '1', '9', '-', '0', '5', '-', '0', '9', ' ', '4', ':', '5', '0', ':', '0', '3', ' ', 'P', 'M', ';', '2', '0', '1', '9', '-', '0', '5', '-', '0', '9', ' ', '4', ':', '5', '3', ':', '5', '7', ' ', 'P', 'M', ';', '2', '3', '4', ';', '2', '4', '0', ';', '0', '.', '0', '8', '0', '0', '0', '0', '0', '0', ';', 'c', 'a', 'l', 'l', '\\n', 'j', 'u', 'l', 'i', 'a', 'n', 'r', ';', '1', '5', '0', '8', '9', '7', '0', '1', '9', '0', '5', ';', 'U', 'S', 'A', ';', '2', '0', '1', '9', '-', '0', '5', '-', '0', '9', ' ', '5', ':', '2', '0', ':', '0', '3', ' ', 'P', 'M', ';', '2', '0', '1', '9', '-', '0', '5', '-', '0', '9', ' ', '5', ':', '3', '2', ':', '5', '4', ' ', 'P', 'M', ';', '7', '7', '1', ';', '7', '8', '0', ';', '0', '.', '2', '6', '0', '0', '0', '0', '0', '0', ';', 'c', 'a', 'l', 'l', '\\n', 'j', 'u', 'l', 'i', 'a', 'n', 'r', ';', '1', '5', '0', '8', '9', '7', '0', '1', '9', '0', '5', ';', 'U', 'S', 'A', ';', '2', '0', '1', '9', '-', '0', '5', '-', '0', '9', ' ', '5', ':', '4', '0', ':', '0', '7', ' ', 'P', 'M', ';', '2', '0', '1', '9', '-', '0', '5', '-', '0', '9', ' ', '5', ':', '4', '9', ':', '4', '9', ' ', 'P', 'M', ';', '5', '8', '2', ';', '6', '0', '0', ';', '0', '.', '2', '0', '0', '0', '0', '0', '0', '0', ';', 'c', 'a', 'l', 'l', '\\n', 'j', 'u', 'l', 'i', 'a', 'n', 'r', ';', '8', '5', '2', '3', '1', '2', '7', '8', '0', '6', '2', ';', 'H', 'o', 'n', 'g', ' ', 'K', 'o', 'n', 'g', ';', '2', '0', '1', '9', '-', '0', '5', '-', '0', '9', ' ', '6', ':', '0', '7', ':', '2', '6', ' ', 'P', 'M', ';', '2', '0', '1', '9', '-', '0', '5', '-', '0', '9', ' ', '6', ':', '0', '7', ':', '3', '7', ' ', 'P', 'M', ';', '1', '1', ';', '3', '0', ';', '0', '.', '0', '1', '5', '8', '0', '0', '0', '0', ';', 'c', 'a', 'l', 'l', '\\n', 'j', 'u', 'l', 'i', 'a', 'n', 'r', ';', '8', '5', '2', '3', '1', '2', '7', '8', '0', '6', '2', ';', 'H', 'o', 'n', 'g', ' ', 'K', 'o', 'n', 'g', ';', '2', '0', '1', '9', '-', '0', '5', '-', '0', '9', ' ', '6', ':', '0', '8', ':', '3', '7', ' ', 'P', 'M', ';', '2', '0', '1', '9', '-', '0', '5', '-', '0', '9', ' ', '6', ':', '0', '8', ':', '3', '8', ' ', 'P', 'M', ';', '1', ';', '3', '0', ';', '0', '.', '0', '1', '5', '8', '0', '0', '0', '0', ';', 'c', 'a', 'l', 'l', '\\n', 'j', 'u', 'l', 'i', 'a', 'n', 'r', ';', '8', '5', '2', '3', '1', '2', '7', '8', '0', '6', '2', ';', 'H', 'o', 'n', 'g', ' ', 'K', 'o', 'n', 'g', ';', '2', '0', '1', '9', '-', '0', '5', '-', '0', '9', ' ', '6', ':', '0', '9', ':', '4', '8', ' ', 'P', 'M', ';', '2', '0', '1', '9', '-', '0', '5', '-', '0', '9', ' ', '6', ':', '1', '0', ':', '0', '2', ' ', 'P', 'M', ';', '1', '4', ';', '3', '0', ';', '0', '.', '0', '1', '5', '8', '0', '0', '0', '0', ';', 'c', 'a', 'l', 'l', '\\n', 'j', 'u', 'l', 'i', 'a', 'n', 'r', ';', '8', '5', '2', '3', '1', '2', '7', '8', '0', '6', '2', ';', 'H', 'o', 'n', 'g', ' ', 'K', 'o', 'n', 'g', ';', '2', '0', '1', '9', '-', '0', '5', '-', '0', '9', ' ', '6', ':', '2', '8', ':', '1', '6', ' ', 'P', 'M', ';', '2', '0', '1', '9', '-', '0', '5', '-', '0', '9', ' ', '6', ':', '2', '8', ':', '4', '6', ' ', 'P', 'M', ';', '3', '0', ';', '3', '0', ';', '0', '.', '0', '1', '5', '8', '0', '0', '0', '0', ';', 'c', 'a', 'l', 'l', '\\n', 'j', 'u', 'l', 'i', 'a', 'n', 'r', ';', '8', '5', '2', '3', '1', '2', '7', '8', '0', '6', '2', ';', 'H', 'o', 'n', 'g', ' ', 'K', 'o', 'n', 'g', ';', '2', '0', '1', '9', '-', '0', '5', '-', '0', '9', ' ', '7', ':', '0', '2', ':', '2', '6', ' ', 'P', 'M', ';', '2', '0', '1', '9', '-', '0', '5', '-', '0', '9', ' ', '7', ':', '0', '2', ':', '3', '5', ' ', 'P', 'M', ';', '9', ';', '3', '0', ';', '0', '.', '0', '1', '5', '8', '0', '0', '0', '0', ';', 'c', 'a', 'l', 'l', '\\n', 'j', 'u', 'l', 'i', 'a', 'n', 'r', ';', '8', '5', '2', '3', '1', '2', '7', '8', '0', '6', '2', ';', 'H', 'o', 'n', 'g', ' ', 'K', 'o', 'n', 'g', ';', '2', '0', '1', '9', '-', '0', '5', '-', '0', '9', ' ', '7', ':', '0', '4', ':', '4', '6', ' ', 'P', 'M', ';', '9', '9', '9', '9', '-', '1', '2', '-', '3', '1', ' ', '1', '1', ':', '5', '9', ':', '5', '9', ' ', 'P', 'M', ';', '0', ';', '0', ';', '0', '.', '0', '0', '0', '0', '0', '0', '0', '0', ';', 'f', 'a', 'i', 'l', 'e', 'd', '\\n', 'j', 'u', 'l', 'i', 'a', 'n', 'r', ';', '8', '5', '2', '3', '1', '2', '7', '8', '0', '6', '2', ';', 'H', 'o', 'n', 'g', ' ', 'K', 'o', 'n', 'g', ';', '2', '0', '1', '9', '-', '0', '5', '-', '0', '9', ' ', '7', ':', '0', '7', ':', '3', '8', ' ', 'P', 'M', ';', '2', '0', '1', '9', '-', '0', '5', '-', '0', '9', ' ', '7', ':', '0', '7', ':', '5', '4', ' ', 'P', 'M', ';', '1', '6', ';', '3', '0', ';', '0', '.', '0', '1', '5', '8', '0', '0', '0', '0', ';', 'c', 'a', 'l', 'l', '\\n', 'j', 'u', 'l', 'i', 'a', 'n', 'r', ';', '8', '5', '2', '3', '1', '2', '7', '8', '0', '6', '2', ';', 'H', 'o', 'n', 'g', ' ', 'K', 'o', 'n', 'g', ';', '2', '0', '1', '9', '-', '0', '5', '-', '0', '9', ' ', '7', ':', '3', '1', ':', '0', '3', ' ', 'P', 'M', ';', '2', '0', '1', '9', '-', '0', '5', '-', '0', '9', ' ', '7', ':', '3', '1', ':', '1', '2', ' ', 'P', 'M', ';', '9', ';', '3', '0', ';', '0', '.', '0', '1', '5', '8', '0', '0', '0', '0', ';', 'c', 'a', 'l', 'l', '\\n', 'j', 'u', 'l', 'i', 'a', 'n', 'r', ';', '8', '5', '2', '3', '1', '2', '7', '8', '0', '6', '2', ';', 'H', 'o', 'n', 'g', ' ', 'K', 'o', 'n', 'g', ';', '2', '0', '1', '9', '-', '0', '5', '-', '0', '9', ' ', '7', ':', '4', '8', ':', '4', '6', ' ', 'P', 'M', ';', '2', '0', '1', '9', '-', '0', '5', '-', '0', '9', ' ', '7', ':', '5', '7', ':', '5', '8', ' ', 'P', 'M', ';', '5', '5', '2', ';', '5', '7', '0', ';', '0', '.', '2', '9', '9', '2', '0', '0', '0', '0', ';', 'c', 'a', 'l', 'l', '\\n', 'j', 'u', 'l', 'i', 'a', 'n', 'r', ';', '8', '5', '2', '3', '1', '2', '7', '8', '0', '6', '2', ';', 'H', 'o', 'n', 'g', ' ', 'K', 'o', 'n', 'g', ';', '2', '0', '1', '9', '-', '0', '5', '-', '0', '9', ' ', '8', ':', '1', '5', ':', '3', '5', ' ', 'P', 'M', ';', '2', '0', '1', '9', '-', '0', '5', '-', '0', '9', ' ', '8', ':', '1', '9', ':', '3', '7', ' ', 'P', 'M', ';', '2', '4', '2', ';', '2', '7', '0', ';', '0', '.', '1', '4', '1', '7', '0', '0', '0', '0', ';', 'c', 'a', 'l', 'l', '\\n', 'j', 'u', 'l', 'i', 'a', 'n', 'r', ';', '4', '4', '1', '5', '1', '2', '3', '7', '3', '4', '2', '4', ';', 'U', 'n', 'i', 't', 'e', 'd', ' ', 'K', 'i', 'n', 'g', 'd', 'o', 'm', ';', '2', '0', '1', '9', '-', '0', '5', '-', '0', '9', ' ', '9', ':', '0', '6', ':', '3', '0', ' ', 'P', 'M', ';', '2', '0', '1', '9', '-', '0', '5', '-', '0', '9', ' ', '9', ':', '0', '7', ':', '0', '8', ' ', 'P', 'M', ';', '3', '8', ';', '6', '0', ';', '0', '.', '0', '2', '0', '0', '0', '0', '0', '0', ';', 'c', 'a', 'l', 'l', '\\n', 'j', 'u', 'l', 'i', 'a', 'n', 'r', ';', '4', '4', '1', '5', '1', '2', '3', '7', '3', '4', '2', '4', ';', 'U', 'n', 'i', 't', 'e', 'd', ' ', 'K', 'i', 'n', 'g', 'd', 'o', 'm', ';', '2', '0', '1', '9', '-', '0', '5', '-', '0', '9', ' ', '9', ':', '2', '9', ':', '2', '1', ' ', 'P', 'M', ';', '2', '0', '1', '9', '-', '0', '5', '-', '0', '9', ' ', '9', ':', '3', '2', ':', '3', '0', ' ', 'P', 'M', ';', '1', '8', '9', ';', '2', '1', '0', ';', '0', '.', '0', '7', '0', '0', '0', '0', '0', '0', ';', 'c', 'a', 'l', 'l', '\\n', 'j', 'u', 'l', 'i', 'a', 'n', 'r', ';', '4', '4', '1', '5', '1', '2', '3', '7', '3', '4', '2', '4', ';', 'U', 'n', 'i', 't', 'e', 'd', ' ', 'K', 'i', 'n', 'g', 'd', 'o', 'm', ';', '2', '0', '1', '9', '-', '0', '5', '-', '0', '9', ' ', '1', '1', ':', '2', '7', ':', '5', '7', ' ', 'P', 'M', ';', '2', '0', '1', '9', '-', '0', '5', '-', '0', '9', ' ', '1', '1', ':', '3', '0', ':', '5', '1', ' ', 'P', 'M', ';', '1', '7', '4', ';', '1', '8', '0', ';', '0', '.', '0', '6', '0', '0', '0', '0', '0', '0', ';', 'c', 'a', 'l', 'l', '\\n', 'j', 'u', 'l', 'i', 'a', 'n', 'r', ';', '4', '4', '1', '5', '1', '2', '3', '7', '3', '4', '2', '4', ';', 'U', 'n', 'i', 't', 'e', 'd', ' ', 'K', 'i', 'n', 'g', 'd', 'o', 'm', ';', '2', '0', '1', '9', '-', '0', '5', '-', '0', '9', ' ', '1', '1', ':', '5', '8', ':', '5', '5', ' ', 'P', 'M', ';', '2', '0', '1', '9', '-', '0', '5', '-', '1', '0', ' ', '1', '2', ':', '0', '0', ':', '5', '7', ' ', 'A', 'M', ';', '1', '2', '2', ';', '1', '5', '0', ';', '0', '.', '0', '5', '0', '0', '0', '0', '0', '0', ';', 'c', 'a', 'l', 'l', '\\n', 'j', 'u', 'l', 'i', 'a', 'n', 'r', ';', '8', '5', '2', '3', '1', '2', '7', '8', '0', '6', '2', ';', 'H', 'o', 'n', 'g', ' ', 'K', 'o', 'n', 'g', ';', '2', '0', '1', '9', '-', '0', '5', '-', '1', '0', ' ', '1', '2', ':', '5', '4', ':', '2', '8', ' ', 'A', 'M', ';', '2', '0', '1', '9', '-', '0', '5', '-', '1', '0', ' ', '1', ':', '0', '4', ':', '5', '7', ' ', 'A', 'M', ';', '6', '2', '9', ';', '6', '3', '0', ';', '0', '.', '3', '3', '0', '7', '0', '0', '0', '0', ';', 'c', 'a', 'l', 'l', '\\n', 'j', 'u', 'l', 'i', 'a', 'n', 'r', ';', '1', '5', '0', '8', '9', '7', '0', '1', '9', '0', '5', ';', 'U', 'S', 'A', ';', '2', '0', '1', '9', '-', '0', '5', '-', '1', '2', ' ', '3', ':', '2', '8', ':', '0', '5', ' ', 'P', 'M', ';', '2', '0', '1', '9', '-', '0', '5', '-', '1', '2', ' ', '4', ':', '2', '3', ':', '5', '3', ' ', 'P', 'M', ';', '3', '3', '4', '8', ';', '3', '3', '6', '0', ';', '1', '.', '1', '2', '0', '0', '0', '0', '0', '0', ';', 'c', 'a', 'l', 'l', '\\n', 'j', 'u', 'l', 'i', 'a', 'n', 'r', ';', '1', '5', '0', '8', '9', '7', '0', '1', '9', '0', '5', ';', 'U', 'S', 'A', ';', '2', '0', '1', '9', '-', '0', '5', '-', '1', '2', ' ', '6', ':', '0', '2', ':', '3', '1', ' ', 'P', 'M', ';', '2', '0', '1', '9', '-', '0', '5', '-', '1', '2', ' ', '6', ':', '0', '3', ':', '4', '6', ' ', 'P', 'M', ';', '7', '5', ';', '9', '0', ';', '0', '.', '0', '3', '0', '0', '0', '0', '0', '0', ';', 'c', 'a', 'l', 'l', '\\n', 'j', 'u', 'l', 'i', 'a', 'n', 'r', ';', '1', '5', '0', '8', '9', '7', '0', '1', '9', '0', '5', ';', 'U', 'S', 'A', ';', '2', '0', '1', '9', '-', '0', '5', '-', '1', '2', ' ', '6', ':', '3', '2', ':', '0', '1', ' ', 'P', 'M', ';', '2', '0', '1', '9', '-', '0', '5', '-', '1', '2', ' ', '6', ':', '4', '3', ':', '3', '8', ' ', 'P', 'M', ';', '6', '9', '7', ';', '7', '2', '0', ';', '0', '.', '2', '4', '0', '0', '0', '0', '0', '0', ';', 'c', 'a', 'l', 'l', '\\n', 'j', 'u', 'l', 'i', 'a', 'n', 'r', ';', '1', '5', '0', '8', '9', '7', '0', '1', '9', '0', '5', ';', 'U', 'S', 'A', ';', '2', '0', '1', '9', '-', '0', '5', '-', '1', '2', ' ', '6', ':', '4', '7', ':', '3', '8', ' ', 'P', 'M', ';', '2', '0', '1', '9', '-', '0', '5', '-', '1', '2', ' ', '6', ':', '4', '9', ':', '1', '2', ' ', 'P', 'M', ';', '9', '4', ';', '1', '2', '0', ';', '0', '.', '0', '4', '0', '0', '0', '0', '0', '0', ';', 'c', 'a', 'l', 'l', '\\n', 'j', 'u', 'l', 'i', 'a', 'n', 'r', ';', '1', '5', '0', '8', '9', '7', '0', '1', '9', '0', '5', ';', 'U', 'S', 'A', ';', '2', '0', '1', '9', '-', '0', '5', '-', '1', '2', ' ', '6', ':', '4', '9', ':', '5', '4', ' ', 'P', 'M', ';', '2', '0', '1', '9', '-', '0', '5', '-', '1', '2', ' ', '7', ':', '0', '0', ':', '5', '5', ' ', 'P', 'M', ';', '6', '6', '1', ';', '6', '9', '0', ';', '0', '.', '2', '3', '0', '0', '0', '0', '0', '0', ';', 'c', 'a', 'l', 'l', '\\n', 'j', 'u', 'l', 'i', 'a', 'n', 'r', ';', '1', '5', '0', '8', '9', '7', '0', '1', '9', '0', '5', ';', 'U', 'S', 'A', ';', '2', '0', '1', '9', '-', '0', '5', '-', '1', '2', ' ', '8', ':', '4', '2', ':', '1', '9', ' ', 'P', 'M', ';', '2', '0', '1', '9', '-', '0', '5', '-', '1', '2', ' ', '8', ':', '4', '6', ':', '4', '9', ' ', 'P', 'M', ';', '2', '7', '0', ';', '2', '7', '0', ';', '0', '.', '0', '9', '0', '0', '0', '0', '0', '0', ';', 'c', 'a', 'l', 'l', '\\n', 'j', 'u', 'l', 'i', 'a', 'n', 'r', ';', '1', '5', '0', '8', '9', '7', '0', '1', '9', '0', '5', ';', 'U', 'S', 'A', ';', '2', '0', '1', '9', '-', '0', '5', '-', '1', '2', ' ', '9', ':', '0', '1', ':', '1', '5', ' ', 'P', 'M', ';', '2', '0', '1', '9', '-', '0', '5', '-', '1', '2', ' ', '9', ':', '0', '3', ':', '0', '2', ' ', 'P', 'M', ';', '1', '0', '7', ';', '1', '2', '0', ';', '0', '.', '0', '4', '0', '0', '0', '0', '0', '0', ';', 'c', 'a', 'l', 'l', '\\n', 'j', 'u', 'l', 'i', 'a', 'n', 'r', ';', '1', '5', '0', '8', '9', '7', '0', '1', '9', '0', '5', ';', 'U', 'S', 'A', ';', '2', '0', '1', '9', '-', '0', '5', '-', '1', '2', ' ', '9', ':', '0', '1', ':', '5', '2', ' ', 'P', 'M', ';', '2', '0', '1', '9', '-', '0', '5', '-', '1', '2', ' ', '9', ':', '0', '3', ':', '1', '0', ' ', 'P', 'M', ';', '7', '8', ';', '9', '0', ';', '0', '.', '0', '3', '0', '0', '0', '0', '0', '0', ';', 'c', 'a', 'l', 'l', '\\n', 'j', 'u', 'l', 'i', 'a', 'n', 'r', ';', '1', '5', '0', '8', '9', '7', '0', '1', '9', '0', '5', ';', 'U', 'S', 'A', ';', '2', '0', '1', '9', '-', '0', '5', '-', '1', '2', ' ', '9', ':', '0', '3', ':', '4', '2', ' ', 'P', 'M', ';', '2', '0', '1', '9', '-', '0', '5', '-', '1', '2', ' ', '9', ':', '0', '5', ':', '3', '8', ' ', 'P', 'M', ';', '1', '1', '6', ';', '1', '2', '0', ';', '0', '.', '0', '4', '0', '0', '0', '0', '0', '0', ';', 'c', 'a', 'l', 'l', '\\n', 'j', 'u', 'l', 'i', 'a', 'n', 'r', ';', '1', '5', '0', '8', '9', '7', '0', '1', '9', '0', '5', ';', 'U', 'S', 'A', ';', '2', '0', '1', '9', '-', '0', '5', '-', '1', '2', ' ', '9', ':', '0', '4', ':', '3', '0', ' ', 'P', 'M', ';', '2', '0', '1', '9', '-', '0', '5', '-', '1', '2', ' ', '9', ':', '0', '5', ':', '3', '9', ' ', 'P', 'M', ';', '6', '9', ';', '9', '0', ';', '0', '.', '0', '3', '0', '0', '0', '0', '0', '0', ';', 'c', 'a', 'l', 'l', '\\n', 'j', 'u', 'l', 'i', 'a', 'n', 'r', ';', '1', '5', '0', '8', '9', '7', '0', '1', '9', '0', '5', ';', 'U', 'S', 'A', ';', '2', '0', '1', '9', '-', '0', '5', '-', '1', '2', ' ', '9', ':', '0', '6', ':', '4', '2', ' ', 'P', 'M', ';', '2', '0', '1', '9', '-', '0', '5', '-', '1', '2', ' ', '9', ':', '0', '8', ':', '2', '5', ' ', 'P', 'M', ';', '1', '0', '3', ';', '1', '2', '0', ';', '0', '.', '0', '4', '0', '0', '0', '0', '0', '0', ';', 'c', 'a', 'l', 'l', '\\n', 'j', 'u', 'l', 'i', 'a', 'n', 'r', ';', '1', '5', '0', '8', '9', '7', '0', '1', '9', '0', '5', ';', 'U', 'S', 'A', ';', '2', '0', '1', '9', '-', '0', '5', '-', '1', '2', ' ', '9', ':', '0', '7', ':', '3', '0', ' ', 'P', 'M', ';', '2', '0', '1', '9', '-', '0', '5', '-', '1', '2', ' ', '9', ':', '0', '8', ':', '2', '6', ' ', 'P', 'M', ';', '5', '6', ';', '6', '0', ';', '0', '.', '0', '2', '0', '0', '0', '0', '0', '0', ';', 'c', 'a', 'l', 'l', '\\n', 'j', 'u', 'l', 'i', 'a', 'n', 'r', ';', '1', '5', '0', '8', '9', '7', '0', '1', '9', '0', '5', ';', 'U', 'S', 'A', ';', '2', '0', '1', '9', '-', '0', '5', '-', '1', '2', ' ', '9', ':', '4', '8', ':', '2', '0', ' ', 'P', 'M', ';', '2', '0', '1', '9', '-', '0', '5', '-', '1', '2', ' ', '9', ':', '4', '8', ':', '2', '2', ' ', 'P', 'M', ';', '2', ';', '3', '0', ';', '0', '.', '0', '1', '0', '0', '0', '0', '0', '0', ';', 'c', 'a', 'l', 'l', '\\n', 'j', 'u', 'l', 'i', 'a', 'n', 'r', ';', '1', '5', '0', '8', '9', '7', '0', '1', '9', '0', '5', ';', 'U', 'S', 'A', ';', '2', '0', '1', '9', '-', '0', '5', '-', '1', '2', ' ', '1', '0', ':', '1', '3', ':', '2', '0', ' ', 'P', 'M', ';', '2', '0', '1', '9', '-', '0', '5', '-', '1', '2', ' ', '1', '0', ':', '1', '5', ':', '3', '2', ' ', 'P', 'M', ';', '1', '3', '2', ';', '1', '5', '0', ';', '0', '.', '0', '5', '0', '0', '0', '0', '0', '0', ';', 'c', 'a', 'l', 'l', '\\n', 'j', 'u', 'l', 'i', 'a', 'n', 'r', ';', '1', '5', '0', '8', '9', '7', '0', '1', '9', '0', '5', ';', 'U', 'S', 'A', ';', '2', '0', '1', '9', '-', '0', '5', '-', '1', '2', ' ', '1', '0', ':', '1', '4', ':', '0', '8', ' ', 'P', 'M', ';', '2', '0', '1', '9', '-', '0', '5', '-', '1', '2', ' ', '1', '0', ':', '1', '5', ':', '3', '4', ' ', 'P', 'M', ';', '8', '6', ';', '9', '0', ';', '0', '.', '0', '3', '0', '0', '0', '0', '0', '0', ';', 'c', 'a', 'l', 'l', '\\n', 'j', 'u', 'l', 'i', 'a', 'n', 'r', ';', '1', '5', '0', '8', '9', '7', '0', '1', '9', '0', '5', ';', 'U', 'S', 'A', ';', '2', '0', '1', '9', '-', '0', '5', '-', '1', '2', ' ', '1', '0', ':', '1', '6', ':', '0', '4', ' ', 'P', 'M', ';', '2', '0', '1', '9', '-', '0', '5', '-', '1', '2', ' ', '1', '0', ':', '1', '8', ':', '3', '0', ' ', 'P', 'M', ';', '1', '4', '6', ';', '1', '5', '0', ';', '0', '.', '0', '5', '0', '0', '0', '0', '0', '0', ';', 'c', 'a', 'l', 'l', '\\n', 'j', 'u', 'l', 'i', 'a', 'n', 'r', ';', '1', '5', '0', '8', '9', '7', '0', '1', '9', '0', '5', ';', 'U', 'S', 'A', ';', '2', '0', '1', '9', '-', '0', '5', '-', '1', '2', ' ', '1', '0', ':', '1', '6', ':', '5', '3', ' ', 'P', 'M', ';', '2', '0', '1', '9', '-', '0', '5', '-', '1', '2', ' ', '1', '0', ':', '1', '8', ':', '3', '2', ' ', 'P', 'M', ';', '9', '9', ';', '1', '2', '0', ';', '0', '.', '0', '4', '0', '0', '0', '0', '0', '0', ';', 'c', 'a', 'l', 'l', '\\n', 'j', 'u', 'l', 'i', 'a', 'n', 'r', ';', '1', '5', '0', '8', '9', '7', '0', '1', '9', '0', '5', ';', 'U', 'S', 'A', ';', '2', '0', '1', '9', '-', '0', '5', '-', '1', '3', ' ', '2', ':', '4', '0', ':', '1', '7', ' ', 'P', 'M', ';', '2', '0', '1', '9', '-', '0', '5', '-', '1', '3', ' ', '2', ':', '4', '6', ':', '5', '8', ' ', 'P', 'M', ';', '4', '0', '1', ';', '4', '2', '0', ';', '0', '.', '1', '4', '0', '0', '0', '0', '0', '0', ';', 'c', 'a', 'l', 'l', '\\n', 'j', 'u', 'l', 'i', 'a', 'n', 'r', ';', '1', '5', '0', '8', '9', '7', '0', '1', '9', '0', '5', ';', 'U', 'S', 'A', ';', '2', '0', '1', '9', '-', '0', '5', '-', '1', '3', ' ', '4', ':', '2', '5', ':', '4', '8', ' ', 'P', 'M', ';', '2', '0', '1', '9', '-', '0', '5', '-', '1', '3', ' ', '4', ':', '2', '9', ':', '2', '1', ' ', 'P', 'M', ';', '2', '1', '3', ';', '2', '4', '0', ';', '0', '.', '0', '8', '0', '0', '0', '0', '0', '0', ';', 'c', 'a', 'l', 'l', '\\n', 'j', 'u', 'l', 'i', 'a', 'n', 'r', ';', '1', '5', '0', '8', '9', '7', '0', '1', '9', '0', '5', ';', 'U', 'S', 'A', ';', '2', '0', '1', '9', '-', '0', '5', '-', '1', '3', ' ', '4', ':', '5', '8', ':', '2', '2', ' ', 'P', 'M', ';', '2', '0', '1', '9', '-', '0', '5', '-', '1', '3', ' ', '5', ':', '0', '4', ':', '3', '0', ' ', 'P', 'M', ';', '3', '6', '8', ';', '3', '9', '0', ';', '0', '.', '1', '3', '0', '0', '0', '0', '0', '0', ';', 'c', 'a', 'l', 'l', '\\n', 'j', 'u', 'l', 'i', 'a', 'n', 'r', ';', '1', '5', '0', '8', '9', '7', '0', '1', '9', '0', '5', ';', 'U', 'S', 'A', ';', '2', '0', '1', '9', '-', '0', '5', '-', '1', '3', ' ', '5', ':', '0', '7', ':', '0', '8', ' ', 'P', 'M', ';', '2', '0', '1', '9', '-', '0', '5', '-', '1', '3', ' ', '5', ':', '1', '1', ':', '5', '2', ' ', 'P', 'M', ';', '2', '8', '4', ';', '3', '0', '0', ';', '0', '.', '1', '0', '0', '0', '0', '0', '0', '0', ';', 'c', 'a', 'l', 'l', '\\n', 'j', 'u', 'l', 'i', 'a', 'n', 'r', ';', '1', '5', '0', '8', '9', '7', '0', '1', '9', '0', '5', ';', 'U', 'S', 'A', ';', '2', '0', '1', '9', '-', '0', '5', '-', '1', '3', ' ', '5', ':', '5', '2', ':', '1', '7', ' ', 'P', 'M', ';', '2', '0', '1', '9', '-', '0', '5', '-', '1', '3', ' ', '5', ':', '5', '2', ':', '3', '0', ' ', 'P', 'M', ';', '1', '3', ';', '3', '0', ';', '0', '.', '0', '1', '0', '0', '0', '0', '0', '0', ';', 'c', 'a', 'l', 'l', '\\n', 'j', 'u', 'l', 'i', 'a', 'n', 'r', ';', '8', '5', '2', '3', '1', '2', '7', '8', '0', '6', '2', ';', 'H', 'o', 'n', 'g', ' ', 'K', 'o', 'n', 'g', ';', '2', '0', '1', '9', '-', '0', '5', '-', '1', '3', ' ', '6', ':', '0', '5', ':', '5', '4', ' ', 'P', 'M', ';', '2', '0', '1', '9', '-', '0', '5', '-', '1', '3', ' ', '6', ':', '0', '6', ':', '4', '0', ' ', 'P', 'M', ';', '4', '6', ';', '6', '0', ';', '0', '.', '0', '3', '1', '5', '0', '0', '0', '0', ';', 'c', 'a', 'l', 'l', '\\n', 'j', 'u', 'l', 'i', 'a', 'n', 'r', ';', '8', '5', '2', '3', '1', '2', '7', '8', '0', '6', '2', ';', 'H', 'o', 'n', 'g', ' ', 'K', 'o', 'n', 'g', ';', '2', '0', '1', '9', '-', '0', '5', '-', '1', '3', ' ', '6', ':', '3', '9', ':', '0', '6', ' ', 'P', 'M', ';', '2', '0', '1', '9', '-', '0', '5', '-', '1', '3', ' ', '6', ':', '3', '9', ':', '1', '7', ' ', 'P', 'M', ';', '1', '1', ';', '3', '0', ';', '0', '.', '0', '1', '5', '8', '0', '0', '0', '0', ';', 'c', 'a', 'l', 'l', '\\n', 'j', 'u', 'l', 'i', 'a', 'n', 'r', ';', '8', '5', '2', '3', '1', '2', '7', '8', '0', '6', '2', ';', 'H', 'o', 'n', 'g', ' ', 'K', 'o', 'n', 'g', ';', '2', '0', '1', '9', '-', '0', '5', '-', '1', '3', ' ', '6', ':', '4', '0', ':', '0', '8', ' ', 'P', 'M', ';', '2', '0', '1', '9', '-', '0', '5', '-', '1', '3', ' ', '6', ':', '4', '0', ':', '1', '1', ' ', 'P', 'M', ';', '3', ';', '3', '0', ';', '0', '.', '0', '1', '5', '8', '0', '0', '0', '0', ';', 'c', 'a', 'l', 'l', '\\n', 'j', 'u', 'l', 'i', 'a', 'n', 'r', ';', '8', '5', '2', '3', '1', '2', '7', '8', '0', '6', '2', ';', 'H', 'o', 'n', 'g', ' ', 'K', 'o', 'n', 'g', ';', '2', '0', '1', '9', '-', '0', '5', '-', '1', '3', ' ', '7', ':', '0', '3', ':', '5', '2', ' ', 'P', 'M', ';', '2', '0', '1', '9', '-', '0', '5', '-', '1', '3', ' ', '7', ':', '0', '5', ':', '4', '2', ' ', 'P', 'M', ';', '1', '1', '0', ';', '1', '2', '0', ';', '0', '.', '0', '6', '3', '0', '0', '0', '0', '0', ';', 'c', 'a', 'l', 'l', '\\n', 'j', 'u', 'l', 'i', 'a', 'n', 'r', ';', '8', '5', '2', '3', '1', '2', '7', '8', '0', '6', '2', ';', 'H', 'o', 'n', 'g', ' ', 'K', 'o', 'n', 'g', ';', '2', '0', '1', '9', '-', '0', '5', '-', '1', '3', ' ', '7', ':', '0', '5', ':', '4', '1', ' ', 'P', 'M', ';', '2', '0', '1', '9', '-', '0', '5', '-', '1', '3', ' ', '7', ':', '0', '5', ':', '5', '2', ' ', 'P', 'M', ';', '1', '1', ';', '3', '0', ';', '0', '.', '0', '1', '5', '8', '0', '0', '0', '0', ';', 'c', 'a', 'l', 'l', '\\n', 'j', 'u', 'l', 'i', 'a', 'n', 'r', ';', '8', '5', '2', '3', '1', '2', '7', '8', '0', '6', '2', ';', 'H', 'o', 'n', 'g', ' ', 'K', 'o', 'n', 'g', ';', '2', '0', '1', '9', '-', '0', '5', '-', '1', '3', ' ', '7', ':', '2', '3', ':', '3', '0', ' ', 'P', 'M', ';', '2', '0', '1', '9', '-', '0', '5', '-', '1', '3', ' ', '7', ':', '2', '7', ':', '3', '1', ' ', 'P', 'M', ';', '2', '4', '1', ';', '2', '7', '0', ';', '0', '.', '1', '4', '1', '7', '0', '0', '0', '0', ';', 'c', 'a', 'l', 'l', '\\n', 'j', 'u', 'l', 'i', 'a', 'n', 'r', ';', '8', '5', '2', '3', '1', '2', '7', '8', '0', '6', '2', ';', 'H', 'o', 'n', 'g', ' ', 'K', 'o', 'n', 'g', ';', '2', '0', '1', '9', '-', '0', '5', '-', '1', '3', ' ', '7', ':', '3', '1', ':', '5', '8', ' ', 'P', 'M', ';', '2', '0', '1', '9', '-', '0', '5', '-', '1', '3', ' ', '7', ':', '3', '5', ':', '4', '3', ' ', 'P', 'M', ';', '2', '2', '5', ';', '2', '4', '0', ';', '0', '.', '1', '2', '6', '0', '0', '0', '0', '0', ';', 'c', 'a', 'l', 'l', '\\n', 'j', 'u', 'l', 'i', 'a', 'n', 'r', ';', '8', '5', '2', '3', '1', '2', '7', '8', '0', '6', '2', ';', 'H', 'o', 'n', 'g', ' ', 'K', 'o', 'n', 'g', ';', '2', '0', '1', '9', '-', '0', '5', '-', '1', '3', ' ', '7', ':', '5', '0', ':', '4', '6', ' ', 'P', 'M', ';', '2', '0', '1', '9', '-', '0', '5', '-', '1', '3', ' ', '7', ':', '5', '1', ':', '0', '3', ' ', 'P', 'M', ';', '1', '7', ';', '3', '0', ';', '0', '.', '0', '1', '5', '8', '0', '0', '0', '0', ';', 'c', 'a', 'l', 'l', '\\n', 'j', 'u', 'l', 'i', 'a', 'n', 'r', ';', '8', '5', '2', '3', '1', '2', '7', '8', '0', '6', '2', ';', 'H', 'o', 'n', 'g', ' ', 'K', 'o', 'n', 'g', ';', '2', '0', '1', '9', '-', '0', '5', '-', '1', '3', ' ', '7', ':', '5', '8', ':', '5', '7', ' ', 'P', 'M', ';', '9', '9', '9', '9', '-', '1', '2', '-', '3', '1', ' ', '1', '1', ':', '5', '9', ':', '5', '9', ' ', 'P', 'M', ';', '0', ';', '0', ';', '0', '.', '0', '0', '0', '0', '0', '0', '0', '0', ';', 'f', 'a', 'i', 'l', 'e', 'd', '\\n', 'j', 'u', 'l', 'i', 'a', 'n', 'r', ';', '8', '5', '2', '3', '1', '2', '7', '8', '0', '6', '2', ';', 'H', 'o', 'n', 'g', ' ', 'K', 'o', 'n', 'g', ';', '2', '0', '1', '9', '-', '0', '5', '-', '1', '3', ' ', '8', ':', '1', '6', ':', '1', '9', ' ', 'P', 'M', ';', '2', '0', '1', '9', '-', '0', '5', '-', '1', '3', ' ', '8', ':', '1', '6', ':', '5', '0', ' ', 'P', 'M', ';', '3', '1', ';', '6', '0', ';', '0', '.', '0', '3', '1', '5', '0', '0', '0', '0', ';', 'c', 'a', 'l', 'l', '\\n', 'j', 'u', 'l', 'i', 'a', 'n', 'r', ';', '8', '5', '2', '3', '1', '2', '7', '8', '0', '6', '2', ';', 'H', 'o', 'n', 'g', ' ', 'K', 'o', 'n', 'g', ';', '2', '0', '1', '9', '-', '0', '5', '-', '1', '3', ' ', '8', ':', '4', '9', ':', '3', '9', ' ', 'P', 'M', ';', '2', '0', '1', '9', '-', '0', '5', '-', '1', '3', ' ', '8', ':', '5', '1', ':', '2', '3', ' ', 'P', 'M', ';', '1', '0', '4', ';', '1', '2', '0', ';', '0', '.', '0', '6', '3', '0', '0', '0', '0', '0', ';', 'c', 'a', 'l', 'l', '\\n', 'j', 'u', 'l', 'i', 'a', 'n', 'r', ';', '8', '5', '2', '3', '1', '2', '7', '8', '0', '6', '2', ';', 'H', 'o', 'n', 'g', ' ', 'K', 'o', 'n', 'g', ';', '2', '0', '1', '9', '-', '0', '5', '-', '1', '3', ' ', '8', ':', '5', '2', ':', '1', '1', ' ', 'P', 'M', ';', '2', '0', '1', '9', '-', '0', '5', '-', '1', '3', ' ', '8', ':', '5', '2', ':', '5', '9', ' ', 'P', 'M', ';', '4', '8', ';', '6', '0', ';', '0', '.', '0', '3', '1', '5', '0', '0', '0', '0', ';', 'c', 'a', 'l', 'l', '\\n', 'j', 'u', 'l', 'i', 'a', 'n', 'r', ';', '8', '5', '2', '3', '1', '2', '7', '8', '0', '6', '2', ';', 'H', 'o', 'n', 'g', ' ', 'K', 'o', 'n', 'g', ';', '2', '0', '1', '9', '-', '0', '5', '-', '1', '3', ' ', '8', ':', '5', '5', ':', '1', '2', ' ', 'P', 'M', ';', '9', '9', '9', '9', '-', '1', '2', '-', '3', '1', ' ', '1', '1', ':', '5', '9', ':', '5', '9', ' ', 'P', 'M', ';', '0', ';', '0', ';', '0', '.', '0', '0', '0', '0', '0', '0', '0', '0', ';', 'f', 'a', 'i', 'l', 'e', 'd', '\\n', 'j', 'u', 'l', 'i', 'a', 'n', 'r', ';', '8', '5', '2', '3', '1', '2', '7', '8', '0', '6', '2', ';', 'H', 'o', 'n', 'g', ' ', 'K', 'o', 'n', 'g', ';', '2', '0', '1', '9', '-', '0', '5', '-', '1', '3', ' ', '8', ':', '5', '7', ':', '3', '7', ' ', 'P', 'M', ';', '2', '0', '1', '9', '-', '0', '5', '-', '1', '3', ' ', '8', ':', '5', '8', ':', '4', '1', ' ', 'P', 'M', ';', '6', '4', ';', '9', '0', ';', '0', '.', '0', '4', '7', '2', '0', '0', '0', '0', ';', 'c', 'a', 'l', 'l', '\\n', 'j', 'u', 'l', 'i', 'a', 'n', 'r', ';', '8', '5', '2', '3', '1', '2', '7', '8', '0', '6', '2', ';', 'H', 'o', 'n', 'g', ' ', 'K', 'o', 'n', 'g', ';', '2', '0', '1', '9', '-', '0', '5', '-', '1', '3', ' ', '9', ':', '4', '0', ':', '1', '9', ' ', 'P', 'M', ';', '2', '0', '1', '9', '-', '0', '5', '-', '1', '3', ' ', '9', ':', '4', '0', ':', '4', '1', ' ', 'P', 'M', ';', '2', '2', ';', '3', '0', ';', '0', '.', '0', '1', '5', '8', '0', '0', '0', '0', ';', 'c', 'a', 'l', 'l', '\\n', 'j', 'u', 'l', 'i', 'a', 'n', 'r', ';', '8', '5', '2', '3', '1', '2', '7', '8', '0', '6', '2', ';', 'H', 'o', 'n', 'g', ' ', 'K', 'o', 'n', 'g', ';', '2', '0', '1', '9', '-', '0', '5', '-', '1', '3', ' ', '9', ':', '4', '7', ':', '3', '8', ' ', 'P', 'M', ';', '2', '0', '1', '9', '-', '0', '5', '-', '1', '3', ' ', '9', ':', '4', '7', ':', '5', '0', ' ', 'P', 'M', ';', '1', '2', ';', '3', '0', ';', '0', '.', '0', '1', '5', '8', '0', '0', '0', '0', ';', 'c', 'a', 'l', 'l', '\\n', 'j', 'u', 'l', 'i', 'a', 'n', 'r', ';', '8', '5', '2', '3', '1', '2', '7', '8', '0', '6', '2', ';', 'H', 'o', 'n', 'g', ' ', 'K', 'o', 'n', 'g', ';', '2', '0', '1', '9', '-', '0', '5', '-', '1', '3', ' ', '1', '0', ':', '1', '4', ':', '1', '6', ' ', 'P', 'M', ';', '2', '0', '1', '9', '-', '0', '5', '-', '1', '3', ' ', '1', '0', ':', '1', '5', ':', '3', '5', ' ', 'P', 'M', ';', '7', '9', ';', '9', '0', ';', '0', '.', '0', '4', '7', '2', '0', '0', '0', '0', ';', 'c', 'a', 'l', 'l', '\\n', 'j', 'u', 'l', 'i', 'a', 'n', 'r', ';', '8', '5', '2', '3', '1', '2', '7', '8', '0', '6', '2', ';', 'H', 'o', 'n', 'g', ' ', 'K', 'o', 'n', 'g', ';', '2', '0', '1', '9', '-', '0', '5', '-', '1', '3', ' ', '1', '1', ':', '5', '3', ':', '5', '5', ' ', 'P', 'M', ';', '2', '0', '1', '9', '-', '0', '5', '-', '1', '3', ' ', '1', '1', ':', '5', '4', ':', '0', '7', ' ', 'P', 'M', ';', '1', '2', ';', '3', '0', ';', '0', '.', '0', '1', '5', '8', '0', '0', '0', '0', ';', 'c', 'a', 'l', 'l', '\\n', 'j', 'u', 'l', 'i', 'a', 'n', 'r', ';', '8', '5', '2', '3', '1', '2', '7', '8', '0', '6', '2', ';', 'H', 'o', 'n', 'g', ' ', 'K', 'o', 'n', 'g', ';', '2', '0', '1', '9', '-', '0', '5', '-', '1', '4', ' ', '6', ':', '0', '8', ':', '0', '6', ' ', 'P', 'M', ';', '9', '9', '9', '9', '-', '1', '2', '-', '3', '1', ' ', '1', '1', ':', '5', '9', ':', '5', '9', ' ', 'P', 'M', ';', '0', ';', '0', ';', '0', '.', '0', '0', '0', '0', '0', '0', '0', '0', ';', 'f', 'a', 'i', 'l', 'e', 'd', '\\n', 'j', 'u', 'l', 'i', 'a', 'n', 'r', ';', '8', '5', '2', '3', '1', '2', '7', '8', '0', '6', '2', ';', 'H', 'o', 'n', 'g', ' ', 'K', 'o', 'n', 'g', ';', '2', '0', '1', '9', '-', '0', '5', '-', '1', '4', ' ', '6', ':', '1', '0', ':', '1', '2', ' ', 'P', 'M', ';', '2', '0', '1', '9', '-', '0', '5', '-', '1', '4', ' ', '6', ':', '1', '0', ':', '1', '9', ' ', 'P', 'M', ';', '7', ';', '3', '0', ';', '0', '.', '0', '1', '5', '8', '0', '0', '0', '0', ';', 'c', 'a', 'l', 'l', '\\n', 'j', 'u', 'l', 'i', 'a', 'n', 'r', ';', '8', '5', '2', '3', '1', '2', '7', '8', '0', '6', '2', ';', 'H', 'o', 'n', 'g', ' ', 'K', 'o', 'n', 'g', ';', '2', '0', '1', '9', '-', '0', '5', '-', '1', '4', ' ', '6', ':', '4', '1', ':', '5', '9', ' ', 'P', 'M', ';', '2', '0', '1', '9', '-', '0', '5', '-', '1', '4', ' ', '6', ':', '4', '4', ':', '4', '8', ' ', 'P', 'M', ';', '1', '6', '9', ';', '1', '8', '0', ';', '0', '.', '0', '9', '4', '5', '0', '0', '0', '0', ';', 'c', 'a', 'l', 'l', '\\n', 'j', 'u', 'l', 'i', 'a', 'n', 'r', ';', '8', '5', '2', '3', '1', '2', '7', '8', '0', '6', '2', ';', 'H', 'o', 'n', 'g', ' ', 'K', 'o', 'n', 'g', ';', '2', '0', '1', '9', '-', '0', '5', '-', '1', '4', ' ', '6', ':', '5', '5', ':', '2', '6', ' ', 'P', 'M', ';', '2', '0', '1', '9', '-', '0', '5', '-', '1', '4', ' ', '6', ':', '5', '9', ':', '3', '1', ' ', 'P', 'M', ';', '2', '4', '5', ';', '2', '7', '0', ';', '0', '.', '1', '4', '1', '7', '0', '0', '0', '0', ';', 'c', 'a', 'l', 'l', '\\n', 'j', 'u', 'l', 'i', 'a', 'n', 'r', ';', '8', '5', '2', '3', '1', '2', '7', '8', '0', '6', '2', ';', 'H', 'o', 'n', 'g', ' ', 'K', 'o', 'n', 'g', ';', '2', '0', '1', '9', '-', '0', '5', '-', '1', '4', ' ', '7', ':', '2', '2', ':', '2', '4', ' ', 'P', 'M', ';', '2', '0', '1', '9', '-', '0', '5', '-', '1', '4', ' ', '7', ':', '2', '7', ':', '5', '4', ' ', 'P', 'M', ';', '3', '3', '0', ';', '3', '3', '0', ';', '0', '.', '1', '7', '3', '2', '0', '0', '0', '0', ';', 'c', 'a', 'l', 'l', '\\n', 'j', 'u', 'l', 'i', 'a', 'n', 'r', ';', '8', '5', '2', '3', '1', '2', '7', '8', '0', '6', '2', ';', 'H', 'o', 'n', 'g', ' ', 'K', 'o', 'n', 'g', ';', '2', '0', '1', '9', '-', '0', '5', '-', '1', '4', ' ', '8', ':', '5', '2', ':', '2', '7', ' ', 'P', 'M', ';', '2', '0', '1', '9', '-', '0', '5', '-', '1', '4', ' ', '8', ':', '5', '5', ':', '2', '6', ' ', 'P', 'M', ';', '1', '7', '9', ';', '1', '8', '0', ';', '0', '.', '0', '9', '4', '5', '0', '0', '0', '0', ';', 'c', 'a', 'l', 'l', '\\n', 'j', 'u', 'l', 'i', 'a', 'n', 'r', ';', '8', '5', '2', '3', '1', '2', '7', '8', '0', '6', '2', ';', 'H', 'o', 'n', 'g', ' ', 'K', 'o', 'n', 'g', ';', '2', '0', '1', '9', '-', '0', '5', '-', '1', '4', ' ', '1', '0', ':', '4', '3', ':', '1', '7', ' ', 'P', 'M', ';', '2', '0', '1', '9', '-', '0', '5', '-', '1', '4', ' ', '1', '0', ':', '4', '3', ':', '2', '5', ' ', 'P', 'M', ';', '8', ';', '3', '0', ';', '0', '.', '0', '1', '5', '8', '0', '0', '0', '0', ';', 'c', 'a', 'l', 'l', '\\n', 'j', 'u', 'l', 'i', 'a', 'n', 'r', ';', '1', '6', '5', '0', '3', '1', '6', '6', '9', '4', '5', ';', 'U', 'S', 'A', ';', '2', '0', '1', '9', '-', '0', '5', '-', '1', '5', ' ', '1', ':', '2', '0', ':', '3', '8', ' ', 'A', 'M', ';', '9', '9', '9', '9', '-', '1', '2', '-', '3', '1', ' ', '1', '1', ':', '5', '9', ':', '5', '9', ' ', 'P', 'M', ';', '0', ';', '0', ';', '0', '.', '0', '0', '0', '0', '0', '0', '0', '0', ';', 'f', 'a', 'i', 'l', 'e', 'd', '\\n', 'j', 'u', 'l', 'i', 'a', 'n', 'r', ';', '1', '6', '5', '0', '3', '1', '6', '6', '9', '4', '5', ';', 'U', 'S', 'A', ';', '2', '0', '1', '9', '-', '0', '5', '-', '1', '5', ' ', '1', ':', '2', '1', ':', '0', '8', ' ', 'A', 'M', ';', '9', '9', '9', '9', '-', '1', '2', '-', '3', '1', ' ', '1', '1', ':', '5', '9', ':', '5', '9', ' ', 'P', 'M', ';', '0', ';', '0', ';', '0', '.', '0', '0', '0', '0', '0', '0', '0', '0', ';', 'f', 'a', 'i', 'l', 'e', 'd', '\\n', 'j', 'u', 'l', 'i', 'a', 'n', 'r', ';', '1', '6', '5', '0', '3', '1', '6', '6', '9', '4', '5', ';', 'U', 'S', 'A', ';', '2', '0', '1', '9', '-', '0', '5', '-', '1', '5', ' ', '1', ':', '2', '5', ':', '2', '4', ' ', 'A', 'M', ';', '9', '9', '9', '9', '-', '1', '2', '-', '3', '1', ' ', '1', '1', ':', '5', '9', ':', '5', '9', ' ', 'P', 'M', ';', '0', ';', '0', ';', '0', '.', '0', '0', '0', '0', '0', '0', '0', '0', ';', 'f', 'a', 'i', 'l', 'e', 'd', '\\n', 'j', 'u', 'l', 'i', 'a', 'n', 'r', ';', '1', '6', '5', '0', '3', '1', '6', '6', '9', '4', '5', ';', 'U', 'S', 'A', ';', '2', '0', '1', '9', '-', '0', '5', '-', '1', '5', ' ', '2', ':', '1', '6', ':', '4', '0', ' ', 'A', 'M', ';', '9', '9', '9', '9', '-', '1', '2', '-', '3', '1', ' ', '1', '1', ':', '5', '9', ':', '5', '9', ' ', 'P', 'M', ';', '0', ';', '0', ';', '0', '.', '0', '0', '0', '0', '0', '0', '0', '0', ';', 'f', 'a', 'i', 'l', 'e', 'd', '\\n', 'j', 'u', 'l', 'i', 'a', 'n', 'r', ';', '1', '5', '0', '8', '9', '7', '0', '1', '9', '0', '5', ';', 'U', 'S', 'A', ';', '2', '0', '1', '9', '-', '0', '5', '-', '1', '5', ' ', '5', ':', '0', '7', ':', '2', '7', ' ', 'P', 'M', ';', '2', '0', '1', '9', '-', '0', '5', '-', '1', '5', ' ', '5', ':', '1', '5', ':', '4', '1', ' ', 'P', 'M', ';', '4', '9', '4', ';', '5', '1', '0', ';', '0', '.', '1', '7', '0', '0', '0', '0', '0', '0', ';', 'c', 'a', 'l', 'l', '\\n', 'j', 'u', 'l', 'i', 'a', 'n', 'r', ';', '1', '5', '0', '8', '9', '7', '0', '1', '9', '0', '5', ';', 'U', 'S', 'A', ';', '2', '0', '1', '9', '-', '0', '5', '-', '1', '5', ' ', '6', ':', '0', '6', ':', '2', '4', ' ', 'P', 'M', ';', '2', '0', '1', '9', '-', '0', '5', '-', '1', '5', ' ', '6', ':', '0', '7', ':', '3', '2', ' ', 'P', 'M', ';', '6', '8', ';', '9', '0', ';', '0', '.', '0', '3', '0', '0', '0', '0', '0', '0', ';', 'c', 'a', 'l', 'l', '\\n', 'j', 'u', 'l', 'i', 'a', 'n', 'r', ';', '4', '4', '1', '5', '1', '2', '3', '7', '3', '4', '2', '4', ';', 'U', 'n', 'i', 't', 'e', 'd', ' ', 'K', 'i', 'n', 'g', 'd', 'o', 'm', ';', '2', '0', '1', '9', '-', '0', '5', '-', '1', '5', ' ', '9', ':', '0', '3', ':', '5', '3', ' ', 'P', 'M', ';', '2', '0', '1', '9', '-', '0', '5', '-', '1', '5', ' ', '9', ':', '0', '4', ':', '1', '8', ' ', 'P', 'M', ';', '2', '5', ';', '3', '0', ';', '0', '.', '0', '1', '0', '0', '0', '0', '0', '0', ';', 'c', 'a', 'l', 'l', '\\n', 'j', 'u', 'l', 'i', 'a', 'n', 'r', ';', '4', '4', '1', '5', '1', '2', '3', '7', '3', '4', '2', '4', ';', 'U', 'n', 'i', 't', 'e', 'd', ' ', 'K', 'i', 'n', 'g', 'd', 'o', 'm', ';', '2', '0', '1', '9', '-', '0', '5', '-', '1', '5', ' ', '9', ':', '1', '6', ':', '2', '6', ' ', 'P', 'M', ';', '2', '0', '1', '9', '-', '0', '5', '-', '1', '5', ' ', '9', ':', '2', '0', ':', '3', '7', ' ', 'P', 'M', ';', '2', '5', '1', ';', '2', '7', '0', ';', '0', '.', '0', '9', '0', '0', '0', '0', '0', '0', ';', 'c', 'a', 'l', 'l', '\\n', 'j', 'u', 'l', 'i', 'a', 'n', 'r', ';', '4', '4', '1', '5', '1', '2', '3', '7', '3', '4', '2', '4', ';', 'U', 'n', 'i', 't', 'e', 'd', ' ', 'K', 'i', 'n', 'g', 'd', 'o', 'm', ';', '2', '0', '1', '9', '-', '0', '5', '-', '1', '5', ' ', '1', '0', ':', '0', '7', ':', '1', '9', ' ', 'P', 'M', ';', '2', '0', '1', '9', '-', '0', '5', '-', '1', '5', ' ', '1', '0', ':', '0', '8', ':', '2', '0', ' ', 'P', 'M', ';', '6', '1', ';', '9', '0', ';', '0', '.', '0', '3', '0', '0', '0', '0', '0', '0', ';', 'c', 'a', 'l', 'l', '\\n', 'j', 'u', 'l', 'i', 'a', 'n', 'r', ';', '4', '4', '1', '5', '1', '2', '3', '7', '3', '4', '2', '4', ';', 'U', 'n', 'i', 't', 'e', 'd', ' ', 'K', 'i', 'n', 'g', 'd', 'o', 'm', ';', '2', '0', '1', '9', '-', '0', '5', '-', '1', '5', ' ', '1', '0', ':', '0', '9', ':', '1', '8', ' ', 'P', 'M', ';', '2', '0', '1', '9', '-', '0', '5', '-', '1', '5', ' ', '1', '0', ':', '1', '1', ':', '2', '7', ' ', 'P', 'M', ';', '1', '2', '9', ';', '1', '5', '0', ';', '0', '.', '0', '5', '0', '0', '0', '0', '0', '0', ';', 'c', 'a', 'l', 'l', '\\n', 'j', 'u', 'l', 'i', 'a', 'n', 'r', ';', '4', '4', '1', '5', '1', '2', '3', '7', '3', '4', '2', '4', ';', 'U', 'n', 'i', 't', 'e', 'd', ' ', 'K', 'i', 'n', 'g', 'd', 'o', 'm', ';', '2', '0', '1', '9', '-', '0', '5', '-', '1', '5', ' ', '1', '1', ':', '2', '7', ':', '0', '5', ' ', 'P', 'M', ';', '2', '0', '1', '9', '-', '0', '5', '-', '1', '5', ' ', '1', '1', ':', '2', '7', ':', '2', '6', ' ', 'P', 'M', ';', '2', '1', ';', '3', '0', ';', '0', '.', '0', '1', '0', '0', '0', '0', '0', '0', ';', 'c', 'a', 'l', 'l', '\\n', 'j', 'u', 'l', 'i', 'a', 'n', 'r', ';', '1', '5', '0', '8', '9', '7', '0', '1', '9', '0', '5', ';', 'U', 'S', 'A', ';', '2', '0', '1', '9', '-', '0', '5', '-', '1', '6', ' ', '4', ':', '1', '9', ':', '5', '8', ' ', 'P', 'M', ';', '2', '0', '1', '9', '-', '0', '5', '-', '1', '6', ' ', '4', ':', '3', '0', ':', '1', '7', ' ', 'P', 'M', ';', '6', '1', '9', ';', '6', '3', '0', ';', '0', '.', '2', '1', '0', '0', '0', '0', '0', '0', ';', 'c', 'a', 'l', 'l', '\\n', 'j', 'u', 'l', 'i', 'a', 'n', 'r', ';', '1', '5', '0', '8', '9', '7', '0', '1', '9', '0', '5', ';', 'U', 'S', 'A', ';', '2', '0', '1', '9', '-', '0', '5', '-', '1', '6', ' ', '5', ':', '2', '4', ':', '2', '3', ' ', 'P', 'M', ';', '2', '0', '1', '9', '-', '0', '5', '-', '1', '6', ' ', '5', ':', '2', '7', ':', '3', '5', ' ', 'P', 'M', ';', '1', '9', '2', ';', '2', '1', '0', ';', '0', '.', '0', '7', '0', '0', '0', '0', '0', '0', ';', 'c', 'a', 'l', 'l', '\\n', 'j', 'u', 'l', 'i', 'a', 'n', 'r', ';', '1', '5', '0', '8', '9', '7', '0', '1', '9', '0', '5', ';', 'U', 'S', 'A', ';', '2', '0', '1', '9', '-', '0', '5', '-', '1', '6', ' ', '6', ':', '0', '6', ':', '1', '1', ' ', 'P', 'M', ';', '2', '0', '1', '9', '-', '0', '5', '-', '1', '6', ' ', '6', ':', '0', '7', ':', '2', '2', ' ', 'P', 'M', ';', '7', '1', ';', '9', '0', ';', '0', '.', '0', '3', '0', '0', '0', '0', '0', '0', ';', 'c', 'a', 'l', 'l', '\\n', 'j', 'u', 'l', 'i', 'a', 'n', 'r', ';', '1', '5', '0', '8', '9', '7', '0', '1', '9', '0', '5', ';', 'U', 'S', 'A', ';', '2', '0', '1', '9', '-', '0', '5', '-', '1', '6', ' ', '8', ':', '2', '4', ':', '3', '4', ' ', 'P', 'M', ';', '2', '0', '1', '9', '-', '0', '5', '-', '1', '6', ' ', '8', ':', '3', '3', ':', '4', '0', ' ', 'P', 'M', ';', '5', '4', '6', ';', '5', '7', '0', ';', '0', '.', '1', '9', '0', '0', '0', '0', '0', '0', ';', 'c', 'a', 'l', 'l', '\\n', 'j', 'u', 'l', 'i', 'a', 'n', 'r', ';', '4', '4', '1', '5', '1', '2', '3', '7', '3', '4', '2', '4', ';', 'U', 'n', 'i', 't', 'e', 'd', ' ', 'K', 'i', 'n', 'g', 'd', 'o', 'm', ';', '2', '0', '1', '9', '-', '0', '5', '-', '1', '6', ' ', '9', ':', '0', '4', ':', '3', '8', ' ', 'P', 'M', ';', '2', '0', '1', '9', '-', '0', '5', '-', '1', '6', ' ', '9', ':', '0', '5', ':', '0', '4', ' ', 'P', 'M', ';', '2', '6', ';', '3', '0', ';', '0', '.', '0', '1', '0', '0', '0', '0', '0', '0', ';', 'c', 'a', 'l', 'l', '\\n', 'j', 'u', 'l', 'i', 'a', 'n', 'r', ';', '4', '4', '1', '5', '1', '2', '3', '7', '3', '4', '2', '4', ';', 'U', 'n', 'i', 't', 'e', 'd', ' ', 'K', 'i', 'n', 'g', 'd', 'o', 'm', ';', '2', '0', '1', '9', '-', '0', '5', '-', '1', '6', ' ', '1', '0', ':', '4', '8', ':', '1', '6', ' ', 'P', 'M', ';', '2', '0', '1', '9', '-', '0', '5', '-', '1', '6', ' ', '1', '0', ':', '5', '2', ':', '1', '8', ' ', 'P', 'M', ';', '2', '4', '2', ';', '2', '7', '0', ';', '0', '.', '0', '9', '0', '0', '0', '0', '0', '0', ';', 'c', 'a', 'l', 'l', '\\n', 'j', 'u', 'l', 'i', 'a', 'n', 'r', ';', '8', '5', '2', '3', '1', '2', '7', '8', '0', '6', '2', ';', 'H', 'o', 'n', 'g', ' ', 'K', 'o', 'n', 'g', ';', '2', '0', '1', '9', '-', '0', '5', '-', '1', '7', ' ', '5', ':', '3', '1', ':', '4', '3', ' ', 'A', 'M', ';', '9', '9', '9', '9', '-', '1', '2', '-', '3', '1', ' ', '1', '1', ':', '5', '9', ':', '5', '9', ' ', 'P', 'M', ';', '0', ';', '0', ';', '0', '.', '0', '0', '0', '0', '0', '0', '0', '0', ';', 'f', 'a', 'i', 'l', 'e', 'd', '\\n', 'j', 'u', 'l', 'i', 'a', 'n', 'r', ';', '1', '5', '0', '8', '9', '7', '0', '1', '9', '0', '5', ';', 'U', 'S', 'A', ';', '2', '0', '1', '9', '-', '0', '5', '-', '1', '9', ' ', '3', ':', '4', '1', ':', '2', '3', ' ', 'P', 'M', ';', '2', '0', '1', '9', '-', '0', '5', '-', '1', '9', ' ', '3', ':', '4', '2', ':', '0', '7', ' ', 'P', 'M', ';', '4', '4', ';', '6', '0', ';', '0', '.', '0', '2', '0', '0', '0', '0', '0', '0', ';', 'c', 'a', 'l', 'l', '\\n', 'j', 'u', 'l', 'i', 'a', 'n', 'r', ';', '1', '5', '0', '8', '9', '7', '0', '1', '9', '0', '5', ';', 'U', 'S', 'A', ';', '2', '0', '1', '9', '-', '0', '5', '-', '1', '9', ' ', '3', ':', '5', '5', ':', '2', '1', ' ', 'P', 'M', ';', '2', '0', '1', '9', '-', '0', '5', '-', '1', '9', ' ', '3', ':', '5', '8', ':', '1', '3', ' ', 'P', 'M', ';', '1', '7', '2', ';', '1', '8', '0', ';', '0', '.', '0', '6', '0', '0', '0', '0', '0', '0', ';', 'c', 'a', 'l', 'l', '\\n', 'j', 'u', 'l', 'i', 'a', 'n', 'r', ';', '1', '5', '0', '8', '9', '7', '0', '1', '9', '0', '5', ';', 'U', 'S', 'A', ';', '2', '0', '1', '9', '-', '0', '5', '-', '1', '9', ' ', '5', ':', '1', '3', ':', '0', '2', ' ', 'P', 'M', ';', '2', '0', '1', '9', '-', '0', '5', '-', '1', '9', ' ', '5', ':', '2', '1', ':', '0', '4', ' ', 'P', 'M', ';', '4', '8', '2', ';', '5', '1', '0', ';', '0', '.', '1', '7', '0', '0', '0', '0', '0', '0', ';', 'c', 'a', 'l', 'l', '\\n', 'j', 'u', 'l', 'i', 'a', 'n', 'r', ';', '1', '5', '0', '8', '9', '7', '0', '1', '9', '0', '5', ';', 'U', 'S', 'A', ';', '2', '0', '1', '9', '-', '0', '5', '-', '1', '9', ' ', '5', ':', '5', '1', ':', '4', '4', ' ', 'P', 'M', ';', '2', '0', '1', '9', '-', '0', '5', '-', '1', '9', ' ', '5', ':', '5', '6', ':', '5', '1', ' ', 'P', 'M', ';', '3', '0', '7', ';', '3', '3', '0', ';', '0', '.', '1', '1', '0', '0', '0', '0', '0', '0', ';', 'c', 'a', 'l', 'l', '\\n', 'j', 'u', 'l', 'i', 'a', 'n', 'r', ';', '8', '5', '2', '3', '1', '2', '7', '8', '0', '6', '2', ';', 'H', 'o', 'n', 'g', ' ', 'K', 'o', 'n', 'g', ';', '2', '0', '1', '9', '-', '0', '5', '-', '1', '9', ' ', '6', ':', '4', '3', ':', '0', '7', ' ', 'P', 'M', ';', '2', '0', '1', '9', '-', '0', '5', '-', '1', '9', ' ', '6', ':', '4', '6', ':', '5', '5', ' ', 'P', 'M', ';', '2', '2', '8', ';', '2', '4', '0', ';', '0', '.', '1', '2', '6', '0', '0', '0', '0', '0', ';', 'c', 'a', 'l', 'l', '\\n', 'j', 'u', 'l', 'i', 'a', 'n', 'r', ';', '8', '5', '2', '3', '1', '2', '7', '8', '0', '6', '2', ';', 'H', 'o', 'n', 'g', ' ', 'K', 'o', 'n', 'g', ';', '2', '0', '1', '9', '-', '0', '5', '-', '1', '9', ' ', '7', ':', '1', '6', ':', '0', '6', ' ', 'P', 'M', ';', '2', '0', '1', '9', '-', '0', '5', '-', '1', '9', ' ', '7', ':', '2', '1', ':', '5', '9', ' ', 'P', 'M', ';', '3', '5', '3', ';', '3', '6', '0', ';', '0', '.', '1', '8', '9', '0', '0', '0', '0', '0', ';', 'c', 'a', 'l', 'l', '\\n', 'j', 'u', 'l', 'i', 'a', 'n', 'r', ';', '8', '5', '2', '3', '1', '2', '7', '8', '0', '6', '2', ';', 'H', 'o', 'n', 'g', ' ', 'K', 'o', 'n', 'g', ';', '2', '0', '1', '9', '-', '0', '5', '-', '1', '9', ' ', '7', ':', '3', '4', ':', '1', '1', ' ', 'P', 'M', ';', '2', '0', '1', '9', '-', '0', '5', '-', '1', '9', ' ', '7', ':', '3', '6', ':', '5', '0', ' ', 'P', 'M', ';', '1', '5', '9', ';', '1', '8', '0', ';', '0', '.', '0', '9', '4', '5', '0', '0', '0', '0', ';', 'c', 'a', 'l', 'l', '\\n', 'j', 'u', 'l', 'i', 'a', 'n', 'r', ';', '8', '5', '2', '3', '1', '2', '7', '8', '0', '6', '2', ';', 'H', 'o', 'n', 'g', ' ', 'K', 'o', 'n', 'g', ';', '2', '0', '1', '9', '-', '0', '5', '-', '1', '9', ' ', '1', '1', ':', '5', '1', ':', '5', '6', ' ', 'P', 'M', ';', '2', '0', '1', '9', '-', '0', '5', '-', '1', '9', ' ', '1', '1', ':', '5', '3', ':', '2', '5', ' ', 'P', 'M', ';', '8', '9', ';', '9', '0', ';', '0', '.', '0', '4', '7', '2', '0', '0', '0', '0', ';', 'c', 'a', 'l', 'l', '\\n', 'j', 'u', 'l', 'i', 'a', 'n', 'r', ';', '8', '5', '2', '3', '1', '2', '7', '8', '0', '6', '2', ';', 'H', 'o', 'n', 'g', ' ', 'K', 'o', 'n', 'g', ';', '2', '0', '1', '9', '-', '0', '5', '-', '2', '0', ' ', '7', ':', '3', '2', ':', '4', '7', ' ', 'P', 'M', ';', '2', '0', '1', '9', '-', '0', '5', '-', '2', '0', ' ', '7', ':', '3', '3', ':', '3', '8', ' ', 'P', 'M', ';', '5', '1', ';', '6', '0', ';', '0', '.', '0', '3', '1', '5', '0', '0', '0', '0', ';', 'c', 'a', 'l', 'l', '\\n', 'j', 'u', 'l', 'i', 'a', 'n', 'r', ';', '8', '5', '2', '3', '1', '2', '7', '8', '0', '6', '2', ';', 'H', 'o', 'n', 'g', ' ', 'K', 'o', 'n', 'g', ';', '2', '0', '1', '9', '-', '0', '5', '-', '2', '0', ' ', '7', ':', '3', '9', ':', '4', '5', ' ', 'P', 'M', ';', '2', '0', '1', '9', '-', '0', '5', '-', '2', '0', ' ', '7', ':', '4', '4', ':', '0', '1', ' ', 'P', 'M', ';', '2', '5', '6', ';', '2', '7', '0', ';', '0', '.', '1', '4', '1', '7', '0', '0', '0', '0', ';', 'c', 'a', 'l', 'l', '\\n', 'j', 'u', 'l', 'i', 'a', 'n', 'r', ';', '8', '5', '2', '3', '1', '2', '7', '8', '0', '6', '2', ';', 'H', 'o', 'n', 'g', ' ', 'K', 'o', 'n', 'g', ';', '2', '0', '1', '9', '-', '0', '5', '-', '2', '0', ' ', '1', '1', ':', '3', '2', ':', '5', '8', ' ', 'P', 'M', ';', '2', '0', '1', '9', '-', '0', '5', '-', '2', '0', ' ', '1', '1', ':', '3', '3', ':', '4', '5', ' ', 'P', 'M', ';', '4', '7', ';', '6', '0', ';', '0', '.', '0', '3', '1', '5', '0', '0', '0', '0', ';', 'c', 'a', 'l', 'l', '\\n', 'j', 'u', 'l', 'i', 'a', 'n', 'r', ';', '8', '5', '2', '3', '1', '2', '7', '8', '0', '6', '2', ';', 'H', 'o', 'n', 'g', ' ', 'K', 'o', 'n', 'g', ';', '2', '0', '1', '9', '-', '0', '5', '-', '2', '1', ' ', '6', ':', '3', '7', ':', '5', '5', ' ', 'P', 'M', ';', '2', '0', '1', '9', '-', '0', '5', '-', '2', '1', ' ', '6', ':', '4', '3', ':', '1', '8', ' ', 'P', 'M', ';', '3', '2', '3', ';', '3', '3', '0', ';', '0', '.', '1', '7', '3', '2', '0', '0', '0', '0', ';', 'c', 'a', 'l', 'l', '\\n', 'j', 'u', 'l', 'i', 'a', 'n', 'r', ';', '8', '5', '2', '3', '1', '2', '7', '8', '0', '6', '2', ';', 'H', 'o', 'n', 'g', ' ', 'K', 'o', 'n', 'g', ';', '2', '0', '1', '9', '-', '0', '5', '-', '2', '1', ' ', '6', ':', '4', '7', ':', '5', '8', ' ', 'P', 'M', ';', '2', '0', '1', '9', '-', '0', '5', '-', '2', '1', ' ', '6', ':', '4', '8', ':', '5', '4', ' ', 'P', 'M', ';', '5', '6', ';', '6', '0', ';', '0', '.', '0', '3', '1', '5', '0', '0', '0', '0', ';', 'c', 'a', 'l', 'l', '\\n', 'j', 'u', 'l', 'i', 'a', 'n', 'r', ';', '8', '5', '2', '3', '1', '2', '7', '8', '0', '6', '2', ';', 'H', 'o', 'n', 'g', ' ', 'K', 'o', 'n', 'g', ';', '2', '0', '1', '9', '-', '0', '5', '-', '2', '1', ' ', '6', ':', '5', '0', ':', '1', '1', ' ', 'P', 'M', ';', '2', '0', '1', '9', '-', '0', '5', '-', '2', '1', ' ', '6', ':', '5', '0', ':', '3', '0', ' ', 'P', 'M', ';', '1', '9', ';', '3', '0', ';', '0', '.', '0', '1', '5', '8', '0', '0', '0', '0', ';', 'c', 'a', 'l', 'l', '\\n', 'j', 'u', 'l', 'i', 'a', 'n', 'r', ';', '8', '5', '2', '3', '1', '2', '7', '8', '0', '6', '2', ';', 'H', 'o', 'n', 'g', ' ', 'K', 'o', 'n', 'g', ';', '2', '0', '1', '9', '-', '0', '5', '-', '2', '1', ' ', '8', ':', '0', '3', ':', '0', '5', ' ', 'P', 'M', ';', '2', '0', '1', '9', '-', '0', '5', '-', '2', '1', ' ', '8', ':', '0', '7', ':', '0', '8', ' ', 'P', 'M', ';', '2', '4', '3', ';', '2', '7', '0', ';', '0', '.', '1', '4', '1', '7', '0', '0', '0', '0', ';', 'c', 'a', 'l', 'l', '\\n', 'j', 'u', 'l', 'i', 'a', 'n', 'r', ';', '8', '5', '2', '3', '1', '2', '7', '8', '0', '6', '2', ';', 'H', 'o', 'n', 'g', ' ', 'K', 'o', 'n', 'g', ';', '2', '0', '1', '9', '-', '0', '5', '-', '2', '1', ' ', '9', ':', '0', '2', ':', '3', '4', ' ', 'P', 'M', ';', '2', '0', '1', '9', '-', '0', '5', '-', '2', '1', ' ', '9', ':', '0', '3', ':', '1', '7', ' ', 'P', 'M', ';', '4', '3', ';', '6', '0', ';', '0', '.', '0', '3', '1', '5', '0', '0', '0', '0', ';', 'c', 'a', 'l', 'l', '\\n', 'j', 'u', 'l', 'i', 'a', 'n', 'r', ';', '8', '5', '2', '3', '1', '2', '7', '8', '0', '6', '2', ';', 'H', 'o', 'n', 'g', ' ', 'K', 'o', 'n', 'g', ';', '2', '0', '1', '9', '-', '0', '5', '-', '2', '1', ' ', '9', ':', '3', '7', ':', '4', '0', ' ', 'P', 'M', ';', '2', '0', '1', '9', '-', '0', '5', '-', '2', '1', ' ', '9', ':', '3', '9', ':', '4', '6', ' ', 'P', 'M', ';', '1', '2', '6', ';', '1', '5', '0', ';', '0', '.', '0', '7', '8', '7', '0', '0', '0', '0', ';', 'c', 'a', 'l', 'l', '\\n', 'j', 'u', 'l', 'i', 'a', 'n', 'r', ';', '8', '5', '2', '3', '1', '2', '7', '8', '0', '6', '2', ';', 'H', 'o', 'n', 'g', ' ', 'K', 'o', 'n', 'g', ';', '2', '0', '1', '9', '-', '0', '5', '-', '2', '1', ' ', '1', '0', ':', '1', '6', ':', '1', '6', ' ', 'P', 'M', ';', '2', '0', '1', '9', '-', '0', '5', '-', '2', '1', ' ', '1', '0', ':', '1', '6', ':', '2', '9', ' ', 'P', 'M', ';', '1', '3', ';', '3', '0', ';', '0', '.', '0', '1', '5', '8', '0', '0', '0', '0', ';', 'c', 'a', 'l', 'l', '\\n', 'j', 'u', 'l', 'i', 'a', 'n', 'r', ';', '8', '5', '2', '3', '1', '2', '7', '8', '0', '6', '2', ';', 'H', 'o', 'n', 'g', ' ', 'K', 'o', 'n', 'g', ';', '2', '0', '1', '9', '-', '0', '5', '-', '2', '1', ' ', '1', '0', ':', '2', '0', ':', '5', '5', ' ', 'P', 'M', ';', '2', '0', '1', '9', '-', '0', '5', '-', '2', '1', ' ', '1', '0', ':', '2', '1', ':', '0', '7', ' ', 'P', 'M', ';', '1', '2', ';', '3', '0', ';', '0', '.', '0', '1', '5', '8', '0', '0', '0', '0', ';', 'c', 'a', 'l', 'l', '\\n', 'j', 'u', 'l', 'i', 'a', 'n', 'r', ';', '8', '5', '2', '3', '1', '2', '7', '8', '0', '6', '2', ';', 'H', 'o', 'n', 'g', ' ', 'K', 'o', 'n', 'g', ';', '2', '0', '1', '9', '-', '0', '5', '-', '2', '2', ' ', '2', ':', '3', '0', ':', '2', '5', ' ', 'A', 'M', ';', '9', '9', '9', '9', '-', '1', '2', '-', '3', '1', ' ', '1', '1', ':', '5', '9', ':', '5', '9', ' ', 'P', 'M', ';', '0', ';', '0', ';', '0', '.', '0', '0', '0', '0', '0', '0', '0', '0', ';', 'f', 'a', 'i', 'l', 'e', 'd', '\\n', 'j', 'u', 'l', 'i', 'a', 'n', 'r', ';', '8', '5', '2', '3', '1', '2', '7', '8', '0', '6', '2', ';', 'H', 'o', 'n', 'g', ' ', 'K', 'o', 'n', 'g', ';', '2', '0', '1', '9', '-', '0', '5', '-', '2', '2', ' ', '2', ':', '3', '0', ':', '5', '4', ' ', 'A', 'M', ';', '9', '9', '9', '9', '-', '1', '2', '-', '3', '1', ' ', '1', '1', ':', '5', '9', ':', '5', '9', ' ', 'P', 'M', ';', '0', ';', '0', ';', '0', '.', '0', '0', '0', '0', '0', '0', '0', '0', ';', 'f', 'a', 'i', 'l', 'e', 'd', '\\n', 'j', 'u', 'l', 'i', 'a', 'n', 'r', ';', '1', '5', '0', '8', '9', '7', '0', '1', '9', '0', '5', ';', 'U', 'S', 'A', ';', '2', '0', '1', '9', '-', '0', '5', '-', '2', '2', ' ', '3', ':', '0', '1', ':', '3', '8', ' ', 'P', 'M', ';', '2', '0', '1', '9', '-', '0', '5', '-', '2', '2', ' ', '3', ':', '0', '7', ':', '3', '2', ' ', 'P', 'M', ';', '3', '5', '4', ';', '3', '6', '0', ';', '0', '.', '1', '2', '0', '0', '0', '0', '0', '0', ';', 'c', 'a', 'l', 'l', '\\n', 'j', 'u', 'l', 'i', 'a', 'n', 'r', ';', '1', '5', '0', '8', '9', '7', '0', '1', '9', '0', '5', ';', 'U', 'S', 'A', ';', '2', '0', '1', '9', '-', '0', '5', '-', '2', '2', ' ', '3', ':', '5', '2', ':', '0', '8', ' ', 'P', 'M', ';', '2', '0', '1', '9', '-', '0', '5', '-', '2', '2', ' ', '4', ':', '0', '3', ':', '2', '2', ' ', 'P', 'M', ';', '6', '7', '4', ';', '6', '9', '0', ';', '0', '.', '2', '3', '0', '0', '0', '0', '0', '0', ';', 'c', 'a', 'l', 'l', '\\n', 'j', 'u', 'l', 'i', 'a', 'n', 'r', ';', '1', '5', '0', '8', '9', '7', '0', '1', '9', '0', '5', ';', 'U', 'S', 'A', ';', '2', '0', '1', '9', '-', '0', '5', '-', '2', '2', ' ', '4', ':', '2', '3', ':', '2', '5', ' ', 'P', 'M', ';', '2', '0', '1', '9', '-', '0', '5', '-', '2', '2', ' ', '4', ':', '2', '8', ':', '4', '8', ' ', 'P', 'M', ';', '3', '2', '3', ';', '3', '3', '0', ';', '0', '.', '1', '1', '0', '0', '0', '0', '0', '0', ';', 'c', 'a', 'l', 'l', '\\n', 'j', 'u', 'l', 'i', 'a', 'n', 'r', ';', '1', '5', '0', '8', '9', '7', '0', '1', '9', '0', '5', ';', 'U', 'S', 'A', ';', '2', '0', '1', '9', '-', '0', '5', '-', '2', '2', ' ', '4', ':', '3', '1', ':', '2', '4', ' ', 'P', 'M', ';', '2', '0', '1', '9', '-', '0', '5', '-', '2', '2', ' ', '4', ':', '3', '1', ':', '2', '8', ' ', 'P', 'M', ';', '4', ';', '3', '0', ';', '0', '.', '0', '1', '0', '0', '0', '0', '0', '0', ';', 'c', 'a', 'l', 'l', '\\n', 'j', 'u', 'l', 'i', 'a', 'n', 'r', ';', '1', '5', '0', '8', '9', '7', '0', '1', '9', '0', '5', ';', 'U', 'S', 'A', ';', '2', '0', '1', '9', '-', '0', '5', '-', '2', '2', ' ', '5', ':', '4', '2', ':', '4', '7', ' ', 'P', 'M', ';', '2', '0', '1', '9', '-', '0', '5', '-', '2', '2', ' ', '5', ':', '5', '2', ':', '1', '2', ' ', 'P', 'M', ';', '5', '6', '5', ';', '5', '7', '0', ';', '0', '.', '1', '9', '0', '0', '0', '0', '0', '0', ';', 'c', 'a', 'l', 'l', '\\n', 'j', 'u', 'l', 'i', 'a', 'n', 'r', ';', '8', '5', '2', '3', '1', '2', '7', '8', '0', '6', '2', ';', 'H', 'o', 'n', 'g', ' ', 'K', 'o', 'n', 'g', ';', '2', '0', '1', '9', '-', '0', '5', '-', '2', '2', ' ', '6', ':', '0', '5', ':', '0', '2', ' ', 'P', 'M', ';', '2', '0', '1', '9', '-', '0', '5', '-', '2', '2', ' ', '6', ':', '0', '5', ':', '3', '4', ' ', 'P', 'M', ';', '3', '2', ';', '6', '0', ';', '0', '.', '0', '3', '1', '5', '0', '0', '0', '0', ';', 'c', 'a', 'l', 'l', '\\n', 'j', 'u', 'l', 'i', 'a', 'n', 'r', ';', '8', '5', '2', '3', '1', '2', '7', '8', '0', '6', '2', ';', 'H', 'o', 'n', 'g', ' ', 'K', 'o', 'n', 'g', ';', '2', '0', '1', '9', '-', '0', '5', '-', '2', '2', ' ', '6', ':', '0', '6', ':', '1', '9', ' ', 'P', 'M', ';', '2', '0', '1', '9', '-', '0', '5', '-', '2', '2', ' ', '6', ':', '1', '1', ':', '2', '1', ' ', 'P', 'M', ';', '3', '0', '2', ';', '3', '3', '0', ';', '0', '.', '1', '7', '3', '2', '0', '0', '0', '0', ';', 'c', 'a', 'l', 'l', '\\n', 'j', 'u', 'l', 'i', 'a', 'n', 'r', ';', '8', '5', '2', '3', '1', '2', '7', '8', '0', '6', '2', ';', 'H', 'o', 'n', 'g', ' ', 'K', 'o', 'n', 'g', ';', '2', '0', '1', '9', '-', '0', '5', '-', '2', '2', ' ', '6', ':', '2', '4', ':', '3', '4', ' ', 'P', 'M', ';', '2', '0', '1', '9', '-', '0', '5', '-', '2', '2', ' ', '6', ':', '3', '1', ':', '1', '8', ' ', 'P', 'M', ';', '4', '0', '4', ';', '4', '2', '0', ';', '0', '.', '2', '2', '0', '5', '0', '0', '0', '0', ';', 'c', 'a', 'l', 'l', '\\n', 'j', 'u', 'l', 'i', 'a', 'n', 'r', ';', '8', '5', '2', '3', '1', '2', '7', '8', '0', '6', '2', ';', 'H', 'o', 'n', 'g', ' ', 'K', 'o', 'n', 'g', ';', '2', '0', '1', '9', '-', '0', '5', '-', '2', '2', ' ', '7', ':', '1', '5', ':', '4', '9', ' ', 'P', 'M', ';', '2', '0', '1', '9', '-', '0', '5', '-', '2', '2', ' ', '7', ':', '1', '6', ':', '2', '6', ' ', 'P', 'M', ';', '3', '7', ';', '6', '0', ';', '0', '.', '0', '3', '1', '5', '0', '0', '0', '0', ';', 'c', 'a', 'l', 'l', '\\n', 'j', 'u', 'l', 'i', 'a', 'n', 'r', ';', '8', '5', '2', '3', '1', '2', '7', '8', '0', '6', '2', ';', 'H', 'o', 'n', 'g', ' ', 'K', 'o', 'n', 'g', ';', '2', '0', '1', '9', '-', '0', '5', '-', '2', '2', ' ', '7', ':', '4', '3', ':', '0', '4', ' ', 'P', 'M', ';', '2', '0', '1', '9', '-', '0', '5', '-', '2', '2', ' ', '7', ':', '4', '8', ':', '2', '6', ' ', 'P', 'M', ';', '3', '2', '2', ';', '3', '3', '0', ';', '0', '.', '1', '7', '3', '2', '0', '0', '0', '0', ';', 'c', 'a', 'l', 'l', '\\n', 'j', 'u', 'l', 'i', 'a', 'n', 'r', ';', '8', '5', '2', '3', '1', '2', '7', '8', '0', '6', '2', ';', 'H', 'o', 'n', 'g', ' ', 'K', 'o', 'n', 'g', ';', '2', '0', '1', '9', '-', '0', '5', '-', '2', '2', ' ', '8', ':', '5', '6', ':', '4', '3', ' ', 'P', 'M', ';', '2', '0', '1', '9', '-', '0', '5', '-', '2', '2', ' ', '8', ':', '5', '8', ':', '3', '6', ' ', 'P', 'M', ';', '1', '1', '3', ';', '1', '2', '0', ';', '0', '.', '0', '6', '3', '0', '0', '0', '0', '0', ';', 'c', 'a', 'l', 'l', '\\n', 'j', 'u', 'l', 'i', 'a', 'n', 'r', ';', '8', '5', '2', '3', '1', '2', '7', '8', '0', '6', '2', ';', 'H', 'o', 'n', 'g', ' ', 'K', 'o', 'n', 'g', ';', '2', '0', '1', '9', '-', '0', '5', '-', '2', '2', ' ', '9', ':', '0', '0', ':', '3', '4', ' ', 'P', 'M', ';', '2', '0', '1', '9', '-', '0', '5', '-', '2', '2', ' ', '9', ':', '0', '5', ':', '4', '8', ' ', 'P', 'M', ';', '3', '1', '4', ';', '3', '3', '0', ';', '0', '.', '1', '7', '3', '2', '0', '0', '0', '0', ';', 'c', 'a', 'l', 'l', '\\n', 'j', 'u', 'l', 'i', 'a', 'n', 'r', ';', '8', '5', '2', '3', '1', '2', '7', '8', '0', '6', '2', ';', 'H', 'o', 'n', 'g', ' ', 'K', 'o', 'n', 'g', ';', '2', '0', '1', '9', '-', '0', '5', '-', '2', '2', ' ', '9', ':', '1', '3', ':', '3', '0', ' ', 'P', 'M', ';', '2', '0', '1', '9', '-', '0', '5', '-', '2', '2', ' ', '9', ':', '1', '8', ':', '4', '8', ' ', 'P', 'M', ';', '3', '1', '8', ';', '3', '3', '0', ';', '0', '.', '1', '7', '3', '2', '0', '0', '0', '0', ';', 'c', 'a', 'l', 'l', '\\n', 'j', 'u', 'l', 'i', 'a', 'n', 'r', ';', '8', '5', '2', '3', '1', '2', '7', '8', '0', '6', '2', ';', 'H', 'o', 'n', 'g', ' ', 'K', 'o', 'n', 'g', ';', '2', '0', '1', '9', '-', '0', '5', '-', '2', '2', ' ', '9', ':', '3', '3', ':', '4', '8', ' ', 'P', 'M', ';', '2', '0', '1', '9', '-', '0', '5', '-', '2', '2', ' ', '9', ':', '3', '8', ':', '5', '4', ' ', 'P', 'M', ';', '3', '0', '6', ';', '3', '3', '0', ';', '0', '.', '1', '7', '3', '2', '0', '0', '0', '0', ';', 'c', 'a', 'l', 'l', '\\n', 'j', 'u', 'l', 'i', 'a', 'n', 'r', ';', '8', '5', '2', '3', '1', '2', '7', '8', '0', '6', '2', ';', 'H', 'o', 'n', 'g', ' ', 'K', 'o', 'n', 'g', ';', '2', '0', '1', '9', '-', '0', '5', '-', '2', '2', ' ', '1', '0', ':', '3', '4', ':', '2', '0', ' ', 'P', 'M', ';', '2', '0', '1', '9', '-', '0', '5', '-', '2', '2', ' ', '1', '0', ':', '3', '4', ':', '5', '5', ' ', 'P', 'M', ';', '3', '5', ';', '6', '0', ';', '0', '.', '0', '3', '1', '5', '0', '0', '0', '0', ';', 'c', 'a', 'l', 'l', '\\n', 'j', 'u', 'l', 'i', 'a', 'n', 'r', ';', '8', '5', '2', '3', '1', '2', '7', '8', '0', '6', '2', ';', 'H', 'o', 'n', 'g', ' ', 'K', 'o', 'n', 'g', ';', '2', '0', '1', '9', '-', '0', '5', '-', '2', '2', ' ', '1', '0', ':', '3', '6', ':', '1', '1', ' ', 'P', 'M', ';', '2', '0', '1', '9', '-', '0', '5', '-', '2', '2', ' ', '1', '0', ':', '3', '6', ':', '2', '9', ' ', 'P', 'M', ';', '1', '8', ';', '3', '0', ';', '0', '.', '0', '1', '5', '8', '0', '0', '0', '0', ';', 'c', 'a', 'l', 'l', '\\n', 'j', 'u', 'l', 'i', 'a', 'n', 'r', ';', '8', '5', '2', '3', '1', '2', '7', '8', '0', '6', '2', ';', 'H', 'o', 'n', 'g', ' ', 'K', 'o', 'n', 'g', ';', '2', '0', '1', '9', '-', '0', '5', '-', '2', '2', ' ', '1', '0', ':', '4', '3', ':', '5', '6', ' ', 'P', 'M', ';', '9', '9', '9', '9', '-', '1', '2', '-', '3', '1', ' ', '1', '1', ':', '5', '9', ':', '5', '9', ' ', 'P', 'M', ';', '0', ';', '0', ';', '0', '.', '0', '0', '0', '0', '0', '0', '0', '0', ';', 'f', 'a', 'i', 'l', 'e', 'd', '\\n', 'j', 'u', 'l', 'i', 'a', 'n', 'r', ';', '1', '5', '0', '8', '9', '7', '0', '1', '9', '0', '5', ';', 'U', 'S', 'A', ';', '2', '0', '1', '9', '-', '0', '5', '-', '2', '3', ' ', '4', ':', '0', '6', ':', '3', '4', ' ', 'P', 'M', ';', '2', '0', '1', '9', '-', '0', '5', '-', '2', '3', ' ', '4', ':', '0', '9', ':', '3', '1', ' ', 'P', 'M', ';', '1', '7', '7', ';', '1', '8', '0', ';', '0', '.', '0', '6', '0', '0', '0', '0', '0', '0', ';', 'c', 'a', 'l', 'l', '\\n', 'j', 'u', 'l', 'i', 'a', 'n', 'r', ';', '1', '5', '0', '8', '9', '7', '0', '1', '9', '0', '5', ';', 'U', 'S', 'A', ';', '2', '0', '1', '9', '-', '0', '5', '-', '2', '3', ' ', '4', ':', '5', '0', ':', '4', '5', ' ', 'P', 'M', ';', '2', '0', '1', '9', '-', '0', '5', '-', '2', '3', ' ', '4', ':', '5', '6', ':', '3', '2', ' ', 'P', 'M', ';', '3', '4', '7', ';', '3', '6', '0', ';', '0', '.', '1', '2', '0', '0', '0', '0', '0', '0', ';', 'c', 'a', 'l', 'l', '\\n', 'j', 'u', 'l', 'i', 'a', 'n', 'r', ';', '1', '5', '0', '8', '9', '7', '0', '1', '9', '0', '5', ';', 'U', 'S', 'A', ';', '2', '0', '1', '9', '-', '0', '5', '-', '2', '3', ' ', '5', ':', '1', '4', ':', '3', '1', ' ', 'P', 'M', ';', '2', '0', '1', '9', '-', '0', '5', '-', '2', '3', ' ', '5', ':', '1', '5', ':', '3', '7', ' ', 'P', 'M', ';', '6', '6', ';', '9', '0', ';', '0', '.', '0', '3', '0', '0', '0', '0', '0', '0', ';', 'c', 'a', 'l', 'l', '\\n', 'j', 'u', 'l', 'i', 'a', 'n', 'r', ';', '1', '5', '0', '8', '9', '7', '0', '1', '9', '0', '5', ';', 'U', 'S', 'A', ';', '2', '0', '1', '9', '-', '0', '5', '-', '2', '3', ' ', '5', ':', '1', '5', ':', '5', '9', ' ', 'P', 'M', ';', '2', '0', '1', '9', '-', '0', '5', '-', '2', '3', ' ', '5', ':', '5', '9', ':', '1', '7', ' ', 'P', 'M', ';', '2', '5', '9', '8', ';', '2', '6', '1', '0', ';', '0', '.', '8', '7', '0', '0', '0', '0', '0', '0', ';', 'c', 'a', 'l', 'l', '\\n', 'j', 'u', 'l', 'i', 'a', 'n', 'r', ';', '8', '5', '2', '3', '1', '2', '7', '8', '0', '6', '2', ';', 'H', 'o', 'n', 'g', ' ', 'K', 'o', 'n', 'g', ';', '2', '0', '1', '9', '-', '0', '5', '-', '2', '3', ' ', '7', ':', '0', '9', ':', '1', '9', ' ', 'P', 'M', ';', '2', '0', '1', '9', '-', '0', '5', '-', '2', '3', ' ', '7', ':', '1', '1', ':', '5', '0', ' ', 'P', 'M', ';', '1', '5', '1', ';', '1', '8', '0', ';', '0', '.', '0', '9', '4', '5', '0', '0', '0', '0', ';', 'c', 'a', 'l', 'l', '\\n', 'j', 'u', 'l', 'i', 'a', 'n', 'r', ';', '8', '5', '2', '3', '1', '2', '7', '8', '0', '6', '2', ';', 'H', 'o', 'n', 'g', ' ', 'K', 'o', 'n', 'g', ';', '2', '0', '1', '9', '-', '0', '5', '-', '2', '3', ' ', '8', ':', '4', '4', ':', '3', '6', ' ', 'P', 'M', ';', '2', '0', '1', '9', '-', '0', '5', '-', '2', '3', ' ', '8', ':', '4', '6', ':', '2', '1', ' ', 'P', 'M', ';', '1', '0', '5', ';', '1', '2', '0', ';', '0', '.', '0', '6', '3', '0', '0', '0', '0', '0', ';', 'c', 'a', 'l', 'l', '\\n', 'j', 'u', 'l', 'i', 'a', 'n', 'r', ';', '8', '5', '2', '3', '1', '2', '7', '8', '0', '6', '2', ';', 'H', 'o', 'n', 'g', ' ', 'K', 'o', 'n', 'g', ';', '2', '0', '1', '9', '-', '0', '5', '-', '2', '3', ' ', '8', ':', '5', '2', ':', '5', '6', ' ', 'P', 'M', ';', '2', '0', '1', '9', '-', '0', '5', '-', '2', '3', ' ', '9', ':', '0', '0', ':', '0', '1', ' ', 'P', 'M', ';', '4', '2', '5', ';', '4', '5', '0', ';', '0', '.', '2', '3', '6', '2', '0', '0', '0', '0', ';', 'c', 'a', 'l', 'l', '\\n', 'j', 'u', 'l', 'i', 'a', 'n', 'r', ';', '8', '5', '2', '3', '1', '2', '7', '8', '0', '6', '2', ';', 'H', 'o', 'n', 'g', ' ', 'K', 'o', 'n', 'g', ';', '2', '0', '1', '9', '-', '0', '5', '-', '2', '3', ' ', '9', ':', '0', '7', ':', '2', '0', ' ', 'P', 'M', ';', '2', '0', '1', '9', '-', '0', '5', '-', '2', '3', ' ', '9', ':', '1', '9', ':', '1', '9', ' ', 'P', 'M', ';', '7', '1', '9', ';', '7', '2', '0', ';', '0', '.', '3', '7', '8', '0', '0', '0', '0', '0', ';', 'c', 'a', 'l', 'l', '\\n', 'j', 'u', 'l', 'i', 'a', 'n', 'r', ';', '8', '5', '2', '3', '1', '2', '7', '8', '0', '6', '2', ';', 'H', 'o', 'n', 'g', ' ', 'K', 'o', 'n', 'g', ';', '2', '0', '1', '9', '-', '0', '5', '-', '2', '3', ' ', '9', ':', '3', '0', ':', '3', '9', ' ', 'P', 'M', ';', '2', '0', '1', '9', '-', '0', '5', '-', '2', '3', ' ', '9', ':', '3', '1', ':', '0', '8', ' ', 'P', 'M', ';', '2', '9', ';', '3', '0', ';', '0', '.', '0', '1', '5', '8', '0', '0', '0', '0', ';', 'c', 'a', 'l', 'l', '\\n', 'j', 'u', 'l', 'i', 'a', 'n', 'r', ';', '8', '5', '2', '3', '1', '2', '7', '8', '0', '6', '2', ';', 'H', 'o', 'n', 'g', ' ', 'K', 'o', 'n', 'g', ';', '2', '0', '1', '9', '-', '0', '5', '-', '2', '3', ' ', '1', '0', ':', '2', '1', ':', '3', '3', ' ', 'P', 'M', ';', '2', '0', '1', '9', '-', '0', '5', '-', '2', '3', ' ', '1', '0', ':', '2', '2', ':', '0', '3', ' ', 'P', 'M', ';', '3', '0', ';', '3', '0', ';', '0', '.', '0', '1', '5', '8', '0', '0', '0', '0', ';', 'c', 'a', 'l', 'l', '\\n', 'j', 'u', 'l', 'i', 'a', 'n', 'r', ';', '8', '5', '2', '3', '1', '2', '7', '8', '0', '6', '2', ';', 'H', 'o', 'n', 'g', ' ', 'K', 'o', 'n', 'g', ';', '2', '0', '1', '9', '-', '0', '5', '-', '2', '3', ' ', '1', '0', ':', '2', '2', ':', '5', '4', ' ', 'P', 'M', ';', '2', '0', '1', '9', '-', '0', '5', '-', '2', '3', ' ', '1', '0', ':', '2', '3', ':', '4', '0', ' ', 'P', 'M', ';', '4', '6', ';', '6', '0', ';', '0', '.', '0', '3', '1', '5', '0', '0', '0', '0', ';', 'c', 'a', 'l', 'l', '\\n', 'j', 'u', 'l', 'i', 'a', 'n', 'r', ';', '8', '5', '2', '3', '1', '2', '7', '8', '0', '6', '2', ';', 'H', 'o', 'n', 'g', ' ', 'K', 'o', 'n', 'g', ';', '2', '0', '1', '9', '-', '0', '5', '-', '2', '3', ' ', '1', '0', ':', '2', '8', ':', '0', '7', ' ', 'P', 'M', ';', '2', '0', '1', '9', '-', '0', '5', '-', '2', '3', ' ', '1', '0', ':', '2', '8', ':', '4', '7', ' ', 'P', 'M', ';', '4', '0', ';', '6', '0', ';', '0', '.', '0', '3', '1', '5', '0', '0', '0', '0', ';', 'c', 'a', 'l', 'l', '\\n', 'j', 'u', 'l', 'i', 'a', 'n', 'r', ';', '8', '5', '2', '3', '1', '2', '7', '8', '0', '6', '2', ';', 'H', 'o', 'n', 'g', ' ', 'K', 'o', 'n', 'g', ';', '2', '0', '1', '9', '-', '0', '5', '-', '2', '3', ' ', '1', '0', ':', '4', '2', ':', '2', '6', ' ', 'P', 'M', ';', '2', '0', '1', '9', '-', '0', '5', '-', '2', '3', ' ', '1', '0', ':', '4', '3', ':', '0', '3', ' ', 'P', 'M', ';', '3', '7', ';', '6', '0', ';', '0', '.', '0', '3', '1', '5', '0', '0', '0', '0', ';', 'c', 'a', 'l', 'l', '\\n', 'j', 'u', 'l', 'i', 'a', 'n', 'r', ';', '8', '5', '2', '3', '1', '2', '7', '8', '0', '6', '2', ';', 'H', 'o', 'n', 'g', ' ', 'K', 'o', 'n', 'g', ';', '2', '0', '1', '9', '-', '0', '5', '-', '2', '3', ' ', '1', '0', ':', '5', '7', ':', '0', '5', ' ', 'P', 'M', ';', '2', '0', '1', '9', '-', '0', '5', '-', '2', '3', ' ', '1', '0', ':', '5', '7', ':', '3', '4', ' ', 'P', 'M', ';', '2', '9', ';', '3', '0', ';', '0', '.', '0', '1', '5', '8', '0', '0', '0', '0', ';', 'c', 'a', 'l', 'l', '\\n', 'j', 'u', 'l', 'i', 'a', 'n', 'r', ';', '8', '5', '2', '3', '1', '2', '7', '8', '0', '6', '2', ';', 'H', 'o', 'n', 'g', ' ', 'K', 'o', 'n', 'g', ';', '2', '0', '1', '9', '-', '0', '5', '-', '2', '3', ' ', '1', '1', ':', '2', '0', ':', '3', '5', ' ', 'P', 'M', ';', '2', '0', '1', '9', '-', '0', '5', '-', '2', '3', ' ', '1', '1', ':', '2', '3', ':', '5', '6', ' ', 'P', 'M', ';', '2', '0', '1', ';', '2', '1', '0', ';', '0', '.', '1', '1', '0', '2', '0', '0', '0', '0', ';', 'c', 'a', 'l', 'l', '\\n', 'j', 'u', 'l', 'i', 'a', 'n', 'r', ';', '8', '5', '2', '3', '1', '2', '7', '8', '0', '6', '2', ';', 'H', 'o', 'n', 'g', ' ', 'K', 'o', 'n', 'g', ';', '2', '0', '1', '9', '-', '0', '5', '-', '2', '3', ' ', '1', '1', ':', '5', '1', ':', '5', '0', ' ', 'P', 'M', ';', '2', '0', '1', '9', '-', '0', '5', '-', '2', '3', ' ', '1', '1', ':', '5', '6', ':', '5', '8', ' ', 'P', 'M', ';', '3', '0', '8', ';', '3', '3', '0', ';', '0', '.', '1', '7', '3', '2', '0', '0', '0', '0', ';', 'c', 'a', 'l', 'l', '\\n', 'j', 'u', 'l', 'i', 'a', 'n', 'r', ';', '1', '5', '0', '8', '9', '7', '0', '1', '9', '0', '5', ';', 'U', 'S', 'A', ';', '2', '0', '1', '9', '-', '0', '5', '-', '2', '6', ' ', '4', ':', '4', '0', ':', '0', '1', ' ', 'P', 'M', ';', '2', '0', '1', '9', '-', '0', '5', '-', '2', '6', ' ', '4', ':', '4', '3', ':', '5', '0', ' ', 'P', 'M', ';', '2', '2', '9', ';', '2', '4', '0', ';', '0', '.', '0', '8', '0', '0', '0', '0', '0', '0', ';', 'c', 'a', 'l', 'l', '\\n', 'j', 'u', 'l', 'i', 'a', 'n', 'r', ';', '1', '5', '0', '8', '9', '7', '0', '1', '9', '0', '5', ';', 'U', 'S', 'A', ';', '2', '0', '1', '9', '-', '0', '5', '-', '2', '6', ' ', '4', ':', '5', '5', ':', '2', '8', ' ', 'P', 'M', ';', '2', '0', '1', '9', '-', '0', '5', '-', '2', '6', ' ', '4', ':', '5', '5', ':', '5', '0', ' ', 'P', 'M', ';', '2', '2', ';', '3', '0', ';', '0', '.', '0', '1', '0', '0', '0', '0', '0', '0', ';', 'c', 'a', 'l', 'l', '\\n', 'j', 'u', 'l', 'i', 'a', 'n', 'r', ';', '1', '5', '0', '8', '9', '7', '0', '1', '9', '0', '5', ';', 'U', 'S', 'A', ';', '2', '0', '1', '9', '-', '0', '5', '-', '2', '6', ' ', '5', ':', '4', '1', ':', '5', '3', ' ', 'P', 'M', ';', '2', '0', '1', '9', '-', '0', '5', '-', '2', '6', ' ', '5', ':', '4', '4', ':', '5', '7', ' ', 'P', 'M', ';', '1', '8', '4', ';', '2', '1', '0', ';', '0', '.', '0', '7', '0', '0', '0', '0', '0', '0', ';', 'c', 'a', 'l', 'l', '\\n', 'j', 'u', 'l', 'i', 'a', 'n', 'r', ';', '1', '5', '0', '8', '9', '7', '0', '1', '9', '0', '5', ';', 'U', 'S', 'A', ';', '2', '0', '1', '9', '-', '0', '5', '-', '2', '6', ' ', '5', ':', '5', '9', ':', '4', '9', ' ', 'P', 'M', ';', '2', '0', '1', '9', '-', '0', '5', '-', '2', '6', ' ', '6', ':', '1', '1', ':', '2', '9', ' ', 'P', 'M', ';', '7', '0', '0', ';', '7', '2', '0', ';', '0', '.', '2', '4', '0', '0', '0', '0', '0', '0', ';', 'c', 'a', 'l', 'l', '\\n', 'j', 'u', 'l', 'i', 'a', 'n', 'r', ';', '8', '5', '2', '3', '1', '2', '7', '8', '0', '6', '2', ';', 'H', 'o', 'n', 'g', ' ', 'K', 'o', 'n', 'g', ';', '2', '0', '1', '9', '-', '0', '5', '-', '2', '6', ' ', '6', ':', '0', '2', ':', '1', '3', ' ', 'P', 'M', ';', '2', '0', '1', '9', '-', '0', '5', '-', '2', '6', ' ', '6', ':', '0', '2', ':', '5', '2', ' ', 'P', 'M', ';', '3', '9', ';', '6', '0', ';', '0', '.', '0', '3', '1', '5', '0', '0', '0', '0', ';', 'c', 'a', 'l', 'l', '\\n', 'j', 'u', 'l', 'i', 'a', 'n', 'r', ';', '8', '5', '2', '3', '1', '2', '7', '8', '0', '6', '2', ';', 'H', 'o', 'n', 'g', ' ', 'K', 'o', 'n', 'g', ';', '2', '0', '1', '9', '-', '0', '5', '-', '2', '6', ' ', '6', ':', '3', '9', ':', '5', '3', ' ', 'P', 'M', ';', '2', '0', '1', '9', '-', '0', '5', '-', '2', '6', ' ', '6', ':', '5', '3', ':', '3', '0', ' ', 'P', 'M', ';', '8', '1', '7', ';', '8', '4', '0', ';', '0', '.', '4', '4', '1', '0', '0', '0', '0', '0', ';', 'c', 'a', 'l', 'l', '\\n', 'j', 'u', 'l', 'i', 'a', 'n', 'r', ';', '8', '5', '2', '3', '1', '2', '7', '8', '0', '6', '2', ';', 'H', 'o', 'n', 'g', ' ', 'K', 'o', 'n', 'g', ';', '2', '0', '1', '9', '-', '0', '5', '-', '2', '6', ' ', '7', ':', '1', '6', ':', '5', '2', ' ', 'P', 'M', ';', '2', '0', '1', '9', '-', '0', '5', '-', '2', '6', ' ', '7', ':', '2', '5', ':', '4', '6', ' ', 'P', 'M', ';', '5', '3', '4', ';', '5', '4', '0', ';', '0', '.', '2', '8', '3', '5', '0', '0', '0', '0', ';', 'c', 'a', 'l', 'l', '\\n', 'j', 'u', 'l', 'i', 'a', 'n', 'r', ';', '8', '5', '2', '3', '1', '2', '7', '8', '0', '6', '2', ';', 'H', 'o', 'n', 'g', ' ', 'K', 'o', 'n', 'g', ';', '2', '0', '1', '9', '-', '0', '5', '-', '2', '6', ' ', '7', ':', '3', '3', ':', '3', '4', ' ', 'P', 'M', ';', '2', '0', '1', '9', '-', '0', '5', '-', '2', '6', ' ', '7', ':', '3', '6', ':', '3', '7', ' ', 'P', 'M', ';', '1', '8', '3', ';', '2', '1', '0', ';', '0', '.', '1', '1', '0', '2', '0', '0', '0', '0', ';', 'c', 'a', 'l', 'l', '\\n', 'j', 'u', 'l', 'i', 'a', 'n', 'r', ';', '8', '5', '2', '3', '1', '2', '7', '8', '0', '6', '2', ';', 'H', 'o', 'n', 'g', ' ', 'K', 'o', 'n', 'g', ';', '2', '0', '1', '9', '-', '0', '5', '-', '2', '6', ' ', '8', ':', '0', '1', ':', '5', '9', ' ', 'P', 'M', ';', '2', '0', '1', '9', '-', '0', '5', '-', '2', '6', ' ', '8', ':', '0', '3', ':', '3', '0', ' ', 'P', 'M', ';', '9', '1', ';', '1', '2', '0', ';', '0', '.', '0', '6', '3', '0', '0', '0', '0', '0', ';', 'c', 'a', 'l', 'l', '\\n', 'j', 'u', 'l', 'i', 'a', 'n', 'r', ';', '8', '5', '2', '3', '1', '2', '7', '8', '0', '6', '2', ';', 'H', 'o', 'n', 'g', ' ', 'K', 'o', 'n', 'g', ';', '2', '0', '1', '9', '-', '0', '5', '-', '2', '6', ' ', '8', ':', '2', '2', ':', '2', '1', ' ', 'P', 'M', ';', '2', '0', '1', '9', '-', '0', '5', '-', '2', '6', ' ', '8', ':', '2', '9', ':', '1', '5', ' ', 'P', 'M', ';', '4', '1', '4', ';', '4', '2', '0', ';', '0', '.', '2', '2', '0', '5', '0', '0', '0', '0', ';', 'c', 'a', 'l', 'l', '\\n', 'j', 'u', 'l', 'i', 'a', 'n', 'r', ';', '8', '5', '2', '3', '1', '2', '7', '8', '0', '6', '2', ';', 'H', 'o', 'n', 'g', ' ', 'K', 'o', 'n', 'g', ';', '2', '0', '1', '9', '-', '0', '5', '-', '2', '6', ' ', '8', ':', '3', '6', ':', '0', '7', ' ', 'P', 'M', ';', '2', '0', '1', '9', '-', '0', '5', '-', '2', '6', ' ', '8', ':', '3', '6', ':', '0', '9', ' ', 'P', 'M', ';', '2', ';', '3', '0', ';', '0', '.', '0', '1', '5', '8', '0', '0', '0', '0', ';', 'c', 'a', 'l', 'l', '\\n', 'j', 'u', 'l', 'i', 'a', 'n', 'r', ';', '8', '5', '2', '3', '1', '2', '7', '8', '0', '6', '2', ';', 'H', 'o', 'n', 'g', ' ', 'K', 'o', 'n', 'g', ';', '2', '0', '1', '9', '-', '0', '5', '-', '2', '6', ' ', '8', ':', '3', '6', ':', '4', '1', ' ', 'P', 'M', ';', '2', '0', '1', '9', '-', '0', '5', '-', '2', '6', ' ', '8', ':', '3', '9', ':', '5', '2', ' ', 'P', 'M', ';', '1', '9', '1', ';', '2', '1', '0', ';', '0', '.', '1', '1', '0', '2', '0', '0', '0', '0', ';', 'c', 'a', 'l', 'l', '\\n', 'j', 'u', 'l', 'i', 'a', 'n', 'r', ';', '8', '5', '2', '3', '1', '2', '7', '8', '0', '6', '2', ';', 'H', 'o', 'n', 'g', ' ', 'K', 'o', 'n', 'g', ';', '2', '0', '1', '9', '-', '0', '5', '-', '2', '6', ' ', '8', ':', '4', '0', ':', '2', '6', ' ', 'P', 'M', ';', '2', '0', '1', '9', '-', '0', '5', '-', '2', '6', ' ', '8', ':', '4', '4', ':', '4', '8', ' ', 'P', 'M', ';', '2', '6', '2', ';', '2', '7', '0', ';', '0', '.', '1', '4', '1', '7', '0', '0', '0', '0', ';', 'c', 'a', 'l', 'l', '\\n', 'j', 'u', 'l', 'i', 'a', 'n', 'r', ';', '8', '5', '2', '3', '1', '2', '7', '8', '0', '6', '2', ';', 'H', 'o', 'n', 'g', ' ', 'K', 'o', 'n', 'g', ';', '2', '0', '1', '9', '-', '0', '5', '-', '2', '6', ' ', '9', ':', '1', '5', ':', '2', '0', ' ', 'P', 'M', ';', '2', '0', '1', '9', '-', '0', '5', '-', '2', '6', ' ', '9', ':', '1', '9', ':', '5', '8', ' ', 'P', 'M', ';', '2', '7', '8', ';', '3', '0', '0', ';', '0', '.', '1', '5', '7', '5', '0', '0', '0', '0', ';', 'c', 'a', 'l', 'l', '\\n', 'j', 'u', 'l', 'i', 'a', 'n', 'r', ';', '8', '5', '2', '3', '1', '2', '7', '8', '0', '6', '2', ';', 'H', 'o', 'n', 'g', ' ', 'K', 'o', 'n', 'g', ';', '2', '0', '1', '9', '-', '0', '5', '-', '2', '6', ' ', '9', ':', '2', '0', ':', '0', '6', ' ', 'P', 'M', ';', '2', '0', '1', '9', '-', '0', '5', '-', '2', '6', ' ', '9', ':', '2', '0', ':', '5', '5', ' ', 'P', 'M', ';', '4', '9', ';', '6', '0', ';', '0', '.', '0', '3', '1', '5', '0', '0', '0', '0', ';', 'c', 'a', 'l', 'l', '\\n', 'j', 'u', 'l', 'i', 'a', 'n', 'r', ';', '8', '5', '2', '3', '1', '2', '7', '8', '0', '6', '2', ';', 'H', 'o', 'n', 'g', ' ', 'K', 'o', 'n', 'g', ';', '2', '0', '1', '9', '-', '0', '5', '-', '2', '6', ' ', '9', ':', '2', '1', ':', '3', '3', ' ', 'P', 'M', ';', '2', '0', '1', '9', '-', '0', '5', '-', '2', '6', ' ', '9', ':', '2', '3', ':', '3', '3', ' ', 'P', 'M', ';', '1', '2', '0', ';', '1', '2', '0', ';', '0', '.', '0', '6', '3', '0', '0', '0', '0', '0', ';', 'c', 'a', 'l', 'l', '\\n', 'j', 'u', 'l', 'i', 'a', 'n', 'r', ';', '8', '5', '2', '3', '1', '2', '7', '8', '0', '6', '2', ';', 'H', 'o', 'n', 'g', ' ', 'K', 'o', 'n', 'g', ';', '2', '0', '1', '9', '-', '0', '5', '-', '2', '6', ' ', '9', ':', '5', '8', ':', '3', '4', ' ', 'P', 'M', ';', '2', '0', '1', '9', '-', '0', '5', '-', '2', '6', ' ', '1', '0', ':', '0', '0', ':', '4', '3', ' ', 'P', 'M', ';', '1', '2', '9', ';', '1', '5', '0', ';', '0', '.', '0', '7', '8', '7', '0', '0', '0', '0', ';', 'c', 'a', 'l', 'l', '\\n', 'j', 'u', 'l', 'i', 'a', 'n', 'r', ';', '8', '5', '2', '3', '1', '2', '7', '8', '0', '6', '2', ';', 'H', 'o', 'n', 'g', ' ', 'K', 'o', 'n', 'g', ';', '2', '0', '1', '9', '-', '0', '5', '-', '2', '6', ' ', '1', '0', ':', '5', '9', ':', '5', '7', ' ', 'P', 'M', ';', '2', '0', '1', '9', '-', '0', '5', '-', '2', '6', ' ', '1', '1', ':', '0', '0', ':', '0', '4', ' ', 'P', 'M', ';', '7', ';', '3', '0', ';', '0', '.', '0', '1', '5', '8', '0', '0', '0', '0', ';', 'c', 'a', 'l', 'l', '\\n', 'j', 'u', 'l', 'i', 'a', 'n', 'r', ';', '8', '5', '2', '3', '1', '2', '7', '8', '0', '6', '2', ';', 'H', 'o', 'n', 'g', ' ', 'K', 'o', 'n', 'g', ';', '2', '0', '1', '9', '-', '0', '5', '-', '2', '6', ' ', '1', '1', ':', '5', '5', ':', '2', '8', ' ', 'P', 'M', ';', '9', '9', '9', '9', '-', '1', '2', '-', '3', '1', ' ', '1', '1', ':', '5', '9', ':', '5', '9', ' ', 'P', 'M', ';', '0', ';', '0', ';', '0', '.', '0', '0', '0', '0', '0', '0', '0', '0', ';', 'f', 'a', 'i', 'l', 'e', 'd', '\\n', 'j', 'u', 'l', 'i', 'a', 'n', 'r', ';', '1', '5', '0', '8', '9', '7', '0', '1', '9', '0', '5', ';', 'U', 'S', 'A', ';', '2', '0', '1', '9', '-', '0', '5', '-', '2', '7', ' ', '2', ':', '5', '0', ':', '1', '8', ' ', 'P', 'M', ';', '2', '0', '1', '9', '-', '0', '5', '-', '2', '7', ' ', '2', ':', '5', '5', ':', '0', '0', ' ', 'P', 'M', ';', '2', '8', '2', ';', '3', '0', '0', ';', '0', '.', '1', '0', '0', '0', '0', '0', '0', '0', ';', 'c', 'a', 'l', 'l', '\\n', 'j', 'u', 'l', 'i', 'a', 'n', 'r', ';', '1', '5', '0', '8', '9', '7', '0', '1', '9', '0', '5', ';', 'U', 'S', 'A', ';', '2', '0', '1', '9', '-', '0', '5', '-', '2', '7', ' ', '3', ':', '4', '0', ':', '1', '1', ' ', 'P', 'M', ';', '2', '0', '1', '9', '-', '0', '5', '-', '2', '7', ' ', '3', ':', '4', '8', ':', '5', '2', ' ', 'P', 'M', ';', '5', '2', '1', ';', '5', '4', '0', ';', '0', '.', '1', '8', '0', '0', '0', '0', '0', '0', ';', 'c', 'a', 'l', 'l', '\\n', 'j', 'u', 'l', 'i', 'a', 'n', 'r', ';', '1', '5', '0', '8', '9', '7', '0', '1', '9', '0', '5', ';', 'U', 'S', 'A', ';', '2', '0', '1', '9', '-', '0', '5', '-', '2', '7', ' ', '4', ':', '5', '6', ':', '3', '3', ' ', 'P', 'M', ';', '2', '0', '1', '9', '-', '0', '5', '-', '2', '7', ' ', '4', ':', '5', '7', ':', '2', '0', ' ', 'P', 'M', ';', '4', '7', ';', '6', '0', ';', '0', '.', '0', '2', '0', '0', '0', '0', '0', '0', ';', 'c', 'a', 'l', 'l', '\\n', 'j', 'u', 'l', 'i', 'a', 'n', 'r', ';', '8', '5', '2', '3', '1', '2', '7', '8', '0', '6', '2', ';', 'H', 'o', 'n', 'g', ' ', 'K', 'o', 'n', 'g', ';', '2', '0', '1', '9', '-', '0', '5', '-', '2', '7', ' ', '6', ':', '1', '8', ':', '5', '9', ' ', 'P', 'M', ';', '2', '0', '1', '9', '-', '0', '5', '-', '2', '7', ' ', '6', ':', '2', '1', ':', '2', '9', ' ', 'P', 'M', ';', '1', '5', '0', ';', '1', '5', '0', ';', '0', '.', '0', '7', '8', '7', '0', '0', '0', '0', ';', 'c', 'a', 'l', 'l', '\\n', 'j', 'u', 'l', 'i', 'a', 'n', 'r', ';', '8', '5', '2', '3', '1', '2', '7', '8', '0', '6', '2', ';', 'H', 'o', 'n', 'g', ' ', 'K', 'o', 'n', 'g', ';', '2', '0', '1', '9', '-', '0', '5', '-', '2', '7', ' ', '6', ':', '2', '6', ':', '2', '9', ' ', 'P', 'M', ';', '2', '0', '1', '9', '-', '0', '5', '-', '2', '7', ' ', '6', ':', '2', '8', ':', '4', '5', ' ', 'P', 'M', ';', '1', '3', '6', ';', '1', '5', '0', ';', '0', '.', '0', '7', '8', '7', '0', '0', '0', '0', ';', 'c', 'a', 'l', 'l', '\\n', 'j', 'u', 'l', 'i', 'a', 'n', 'r', ';', '8', '5', '2', '3', '1', '2', '7', '8', '0', '6', '2', ';', 'H', 'o', 'n', 'g', ' ', 'K', 'o', 'n', 'g', ';', '2', '0', '1', '9', '-', '0', '5', '-', '2', '7', ' ', '6', ':', '5', '7', ':', '1', '6', ' ', 'P', 'M', ';', '2', '0', '1', '9', '-', '0', '5', '-', '2', '7', ' ', '7', ':', '0', '4', ':', '2', '7', ' ', 'P', 'M', ';', '4', '3', '1', ';', '4', '5', '0', ';', '0', '.', '2', '3', '6', '2', '0', '0', '0', '0', ';', 'c', 'a', 'l', 'l', '\\n', 'j', 'u', 'l', 'i', 'a', 'n', 'r', ';', '8', '5', '2', '3', '1', '2', '7', '8', '0', '6', '2', ';', 'H', 'o', 'n', 'g', ' ', 'K', 'o', 'n', 'g', ';', '2', '0', '1', '9', '-', '0', '5', '-', '2', '7', ' ', '6', ':', '5', '7', ':', '3', '1', ' ', 'P', 'M', ';', '2', '0', '1', '9', '-', '0', '5', '-', '2', '7', ' ', '6', ':', '5', '8', ':', '1', '2', ' ', 'P', 'M', ';', '4', '1', ';', '6', '0', ';', '0', '.', '0', '3', '1', '5', '0', '0', '0', '0', ';', 'c', 'a', 'l', 'l', '\\n', 'j', 'u', 'l', 'i', 'a', 'n', 'r', ';', '8', '5', '2', '3', '1', '2', '7', '8', '0', '6', '2', ';', 'H', 'o', 'n', 'g', ' ', 'K', 'o', 'n', 'g', ';', '2', '0', '1', '9', '-', '0', '5', '-', '2', '7', ' ', '7', ':', '0', '3', ':', '1', '7', ' ', 'P', 'M', ';', '2', '0', '1', '9', '-', '0', '5', '-', '2', '7', ' ', '7', ':', '0', '3', ':', '3', '4', ' ', 'P', 'M', ';', '1', '7', ';', '3', '0', ';', '0', '.', '0', '1', '5', '8', '0', '0', '0', '0', ';', 'c', 'a', 'l', 'l', '\\n', 'j', 'u', 'l', 'i', 'a', 'n', 'r', ';', '8', '5', '2', '3', '1', '2', '7', '8', '0', '6', '2', ';', 'H', 'o', 'n', 'g', ' ', 'K', 'o', 'n', 'g', ';', '2', '0', '1', '9', '-', '0', '5', '-', '2', '7', ' ', '8', ':', '0', '2', ':', '2', '8', ' ', 'P', 'M', ';', '2', '0', '1', '9', '-', '0', '5', '-', '2', '7', ' ', '8', ':', '0', '4', ':', '1', '8', ' ', 'P', 'M', ';', '1', '1', '0', ';', '1', '2', '0', ';', '0', '.', '0', '6', '3', '0', '0', '0', '0', '0', ';', 'c', 'a', 'l', 'l', '\\n', 'j', 'u', 'l', 'i', 'a', 'n', 'r', ';', '8', '5', '2', '3', '1', '2', '7', '8', '0', '6', '2', ';', 'H', 'o', 'n', 'g', ' ', 'K', 'o', 'n', 'g', ';', '2', '0', '1', '9', '-', '0', '5', '-', '2', '7', ' ', '8', ':', '0', '8', ':', '4', '1', ' ', 'P', 'M', ';', '2', '0', '1', '9', '-', '0', '5', '-', '2', '7', ' ', '8', ':', '2', '0', ':', '5', '6', ' ', 'P', 'M', ';', '7', '3', '5', ';', '7', '5', '0', ';', '0', '.', '3', '9', '3', '7', '0', '0', '0', '0', ';', 'c', 'a', 'l', 'l', '\\n', 'j', 'u', 'l', 'i', 'a', 'n', 'r', ';', '8', '5', '2', '3', '1', '2', '7', '8', '0', '6', '2', ';', 'H', 'o', 'n', 'g', ' ', 'K', 'o', 'n', 'g', ';', '2', '0', '1', '9', '-', '0', '5', '-', '2', '7', ' ', '1', '0', ':', '1', '2', ':', '4', '2', ' ', 'P', 'M', ';', '2', '0', '1', '9', '-', '0', '5', '-', '2', '7', ' ', '1', '0', ':', '1', '3', ':', '4', '0', ' ', 'P', 'M', ';', '5', '8', ';', '6', '0', ';', '0', '.', '0', '3', '1', '5', '0', '0', '0', '0', ';', 'c', 'a', 'l', 'l', '\\n', 'j', 'u', 'l', 'i', 'a', 'n', 'r', ';', '8', '5', '2', '3', '1', '2', '7', '8', '0', '6', '2', ';', 'H', 'o', 'n', 'g', ' ', 'K', 'o', 'n', 'g', ';', '2', '0', '1', '9', '-', '0', '5', '-', '2', '7', ' ', '1', '0', ':', '1', '2', ':', '5', '7', ' ', 'P', 'M', ';', '2', '0', '1', '9', '-', '0', '5', '-', '2', '7', ' ', '1', '0', ':', '1', '3', ':', '2', '6', ' ', 'P', 'M', ';', '2', '9', ';', '3', '0', ';', '0', '.', '0', '1', '5', '8', '0', '0', '0', '0', ';', 'c', 'a', 'l', 'l', '\\n', 'j', 'u', 'l', 'i', 'a', 'n', 'r', ';', '8', '5', '2', '3', '1', '2', '7', '8', '0', '6', '2', ';', 'H', 'o', 'n', 'g', ' ', 'K', 'o', 'n', 'g', ';', '2', '0', '1', '9', '-', '0', '5', '-', '2', '7', ' ', '1', '0', ':', '1', '4', ':', '4', '8', ' ', 'P', 'M', ';', '2', '0', '1', '9', '-', '0', '5', '-', '2', '7', ' ', '1', '0', ':', '1', '5', ':', '3', '3', ' ', 'P', 'M', ';', '4', '5', ';', '6', '0', ';', '0', '.', '0', '3', '1', '5', '0', '0', '0', '0', ';', 'c', 'a', 'l', 'l', '\\n', 'j', 'u', 'l', 'i', 'a', 'n', 'r', ';', '8', '5', '2', '3', '1', '2', '7', '8', '0', '6', '2', ';', 'H', 'o', 'n', 'g', ' ', 'K', 'o', 'n', 'g', ';', '2', '0', '1', '9', '-', '0', '5', '-', '2', '7', ' ', '1', '1', ':', '1', '0', ':', '1', '0', ' ', 'P', 'M', ';', '2', '0', '1', '9', '-', '0', '5', '-', '2', '7', ' ', '1', '1', ':', '1', '0', ':', '1', '6', ' ', 'P', 'M', ';', '6', ';', '3', '0', ';', '0', '.', '0', '1', '5', '8', '0', '0', '0', '0', ';', 'c', 'a', 'l', 'l', '\\n', 'j', 'u', 'l', 'i', 'a', 'n', 'r', ';', '1', '5', '0', '8', '9', '7', '0', '1', '9', '0', '5', ';', 'U', 'S', 'A', ';', '2', '0', '1', '9', '-', '0', '5', '-', '2', '8', ' ', '4', ':', '4', '3', ':', '1', '0', ' ', 'P', 'M', ';', '2', '0', '1', '9', '-', '0', '5', '-', '2', '8', ' ', '5', ':', '1', '8', ':', '5', '3', ' ', 'P', 'M', ';', '2', '1', '4', '3', ';', '2', '1', '6', '0', ';', '0', '.', '7', '2', '0', '0', '0', '0', '0', '0', ';', 'c', 'a', 'l', 'l', '\\n', 'j', 'u', 'l', 'i', 'a', 'n', 'r', ';', '8', '5', '2', '3', '1', '2', '7', '8', '0', '6', '2', ';', 'H', 'o', 'n', 'g', ' ', 'K', 'o', 'n', 'g', ';', '2', '0', '1', '9', '-', '0', '5', '-', '2', '8', ' ', '8', ':', '3', '5', ':', '2', '5', ' ', 'P', 'M', ';', '2', '0', '1', '9', '-', '0', '5', '-', '2', '8', ' ', '8', ':', '3', '8', ':', '0', '9', ' ', 'P', 'M', ';', '1', '6', '4', ';', '1', '8', '0', ';', '0', '.', '0', '9', '4', '5', '0', '0', '0', '0', ';', 'c', 'a', 'l', 'l', '\\n', 'j', 'u', 'l', 'i', 'a', 'n', 'r', ';', '8', '5', '2', '3', '1', '2', '7', '8', '0', '6', '2', ';', 'H', 'o', 'n', 'g', ' ', 'K', 'o', 'n', 'g', ';', '2', '0', '1', '9', '-', '0', '5', '-', '2', '8', ' ', '9', ':', '5', '9', ':', '4', '3', ' ', 'P', 'M', ';', '2', '0', '1', '9', '-', '0', '5', '-', '2', '8', ' ', '9', ':', '5', '9', ':', '5', '9', ' ', 'P', 'M', ';', '1', '6', ';', '3', '0', ';', '0', '.', '0', '1', '5', '8', '0', '0', '0', '0', ';', 'c', 'a', 'l', 'l', '\\n', 'j', 'u', 'l', 'i', 'a', 'n', 'r', ';', '8', '5', '2', '3', '1', '2', '7', '8', '0', '6', '2', ';', 'H', 'o', 'n', 'g', ' ', 'K', 'o', 'n', 'g', ';', '2', '0', '1', '9', '-', '0', '5', '-', '2', '8', ' ', '1', '0', ':', '1', '6', ':', '0', '5', ' ', 'P', 'M', ';', '2', '0', '1', '9', '-', '0', '5', '-', '2', '8', ' ', '1', '0', ':', '1', '6', ':', '4', '7', ' ', 'P', 'M', ';', '4', '2', ';', '6', '0', ';', '0', '.', '0', '3', '1', '5', '0', '0', '0', '0', ';', 'c', 'a', 'l', 'l', '\\n', 'j', 'u', 'l', 'i', 'a', 'n', 'r', ';', '8', '5', '2', '3', '1', '2', '7', '8', '0', '6', '2', ';', 'H', 'o', 'n', 'g', ' ', 'K', 'o', 'n', 'g', ';', '2', '0', '1', '9', '-', '0', '5', '-', '2', '8', ' ', '1', '0', ':', '5', '0', ':', '5', '3', ' ', 'P', 'M', ';', '2', '0', '1', '9', '-', '0', '5', '-', '2', '8', ' ', '1', '0', ':', '5', '1', ':', '4', '1', ' ', 'P', 'M', ';', '4', '8', ';', '6', '0', ';', '0', '.', '0', '3', '1', '5', '0', '0', '0', '0', ';', 'c', 'a', 'l', 'l', '\\n', 'j', 'u', 'l', 'i', 'a', 'n', 'r', ';', '8', '5', '2', '3', '1', '2', '7', '8', '0', '6', '2', ';', 'H', 'o', 'n', 'g', ' ', 'K', 'o', 'n', 'g', ';', '2', '0', '1', '9', '-', '0', '5', '-', '2', '8', ' ', '1', '0', ':', '5', '2', ':', '1', '2', ' ', 'P', 'M', ';', '2', '0', '1', '9', '-', '0', '5', '-', '2', '8', ' ', '1', '0', ':', '5', '2', ':', '5', '9', ' ', 'P', 'M', ';', '4', '7', ';', '6', '0', ';', '0', '.', '0', '3', '1', '5', '0', '0', '0', '0', ';', 'c', 'a', 'l', 'l', '\\n', 'j', 'u', 'l', 'i', 'a', 'n', 'r', ';', '8', '5', '2', '3', '1', '2', '7', '8', '0', '6', '2', ';', 'H', 'o', 'n', 'g', ' ', 'K', 'o', 'n', 'g', ';', '2', '0', '1', '9', '-', '0', '5', '-', '2', '8', ' ', '1', '1', ':', '5', '6', ':', '0', '7', ' ', 'P', 'M', ';', '2', '0', '1', '9', '-', '0', '5', '-', '2', '9', ' ', '1', '2', ':', '0', '1', ':', '5', '1', ' ', 'A', 'M', ';', '3', '4', '4', ';', '3', '6', '0', ';', '0', '.', '1', '8', '9', '0', '0', '0', '0', '0', ';', 'c', 'a', 'l', 'l', '\\n', 'j', 'u', 'l', 'i', 'a', 'n', 'r', ';', '1', '5', '0', '8', '9', '7', '0', '1', '9', '0', '5', ';', 'U', 'S', 'A', ';', '2', '0', '1', '9', '-', '0', '5', '-', '2', '9', ' ', '2', ':', '3', '1', ':', '1', '9', ' ', 'P', 'M', ';', '2', '0', '1', '9', '-', '0', '5', '-', '2', '9', ' ', '2', ':', '5', '9', ':', '5', '9', ' ', 'P', 'M', ';', '1', '7', '2', '0', ';', '1', '7', '4', '0', ';', '0', '.', '5', '8', '0', '0', '0', '0', '0', '0', ';', 'c', 'a', 'l', 'l', '\\n', 'j', 'u', 'l', 'i', 'a', 'n', 'r', ';', '8', '5', '2', '3', '1', '2', '7', '8', '0', '6', '2', ';', 'H', 'o', 'n', 'g', ' ', 'K', 'o', 'n', 'g', ';', '2', '0', '1', '9', '-', '0', '5', '-', '2', '9', ' ', '6', ':', '0', '8', ':', '2', '6', ' ', 'P', 'M', ';', '2', '0', '1', '9', '-', '0', '5', '-', '2', '9', ' ', '6', ':', '0', '9', ':', '1', '5', ' ', 'P', 'M', ';', '4', '9', ';', '6', '0', ';', '0', '.', '0', '3', '1', '5', '0', '0', '0', '0', ';', 'c', 'a', 'l', 'l', '\\n', 'j', 'u', 'l', 'i', 'a', 'n', 'r', ';', '8', '5', '2', '3', '1', '2', '7', '8', '0', '6', '2', ';', 'H', 'o', 'n', 'g', ' ', 'K', 'o', 'n', 'g', ';', '2', '0', '1', '9', '-', '0', '5', '-', '2', '9', ' ', '6', ':', '1', '6', ':', '0', '9', ' ', 'P', 'M', ';', '2', '0', '1', '9', '-', '0', '5', '-', '2', '9', ' ', '6', ':', '1', '6', ':', '1', '5', ' ', 'P', 'M', ';', '6', ';', '3', '0', ';', '0', '.', '0', '1', '5', '8', '0', '0', '0', '0', ';', 'c', 'a', 'l', 'l', '\\n', 'j', 'u', 'l', 'i', 'a', 'n', 'r', ';', '8', '5', '2', '3', '1', '2', '7', '8', '0', '6', '2', ';', 'H', 'o', 'n', 'g', ' ', 'K', 'o', 'n', 'g', ';', '2', '0', '1', '9', '-', '0', '5', '-', '2', '9', ' ', '6', ':', '4', '8', ':', '5', '9', ' ', 'P', 'M', ';', '2', '0', '1', '9', '-', '0', '5', '-', '2', '9', ' ', '7', ':', '0', '3', ':', '0', '0', ' ', 'P', 'M', ';', '8', '4', '1', ';', '8', '7', '0', ';', '0', '.', '4', '5', '6', '7', '0', '0', '0', '0', ';', 'c', 'a', 'l', 'l', '\\n', 'j', 'u', 'l', 'i', 'a', 'n', 'r', ';', '8', '5', '2', '3', '1', '2', '7', '8', '0', '6', '2', ';', 'H', 'o', 'n', 'g', ' ', 'K', 'o', 'n', 'g', ';', '2', '0', '1', '9', '-', '0', '5', '-', '2', '9', ' ', '7', ':', '5', '0', ':', '1', '6', ' ', 'P', 'M', ';', '2', '0', '1', '9', '-', '0', '5', '-', '2', '9', ' ', '7', ':', '5', '0', ':', '2', '0', ' ', 'P', 'M', ';', '4', ';', '3', '0', ';', '0', '.', '0', '1', '5', '8', '0', '0', '0', '0', ';', 'c', 'a', 'l', 'l', '\\n', 'j', 'u', 'l', 'i', 'a', 'n', 'r', ';', '8', '5', '2', '3', '1', '2', '7', '8', '0', '6', '2', ';', 'H', 'o', 'n', 'g', ' ', 'K', 'o', 'n', 'g', ';', '2', '0', '1', '9', '-', '0', '5', '-', '2', '9', ' ', '7', ':', '5', '0', ':', '4', '6', ' ', 'P', 'M', ';', '2', '0', '1', '9', '-', '0', '5', '-', '2', '9', ' ', '8', ':', '0', '6', ':', '1', '8', ' ', 'P', 'M', ';', '9', '3', '2', ';', '9', '6', '0', ';', '0', '.', '5', '0', '4', '0', '0', '0', '0', '0', ';', 'c', 'a', 'l', 'l', '\\n', 'j', 'u', 'l', 'i', 'a', 'n', 'r', ';', '8', '5', '2', '3', '1', '2', '7', '8', '0', '6', '2', ';', 'H', 'o', 'n', 'g', ' ', 'K', 'o', 'n', 'g', ';', '2', '0', '1', '9', '-', '0', '5', '-', '2', '9', ' ', '7', ':', '5', '1', ':', '4', '3', ' ', 'P', 'M', ';', '2', '0', '1', '9', '-', '0', '5', '-', '2', '9', ' ', '7', ':', '5', '2', ':', '2', '0', ' ', 'P', 'M', ';', '3', '7', ';', '6', '0', ';', '0', '.', '0', '3', '1', '5', '0', '0', '0', '0', ';', 'c', 'a', 'l', 'l', '\\n', 'j', 'u', 'l', 'i', 'a', 'n', 'r', ';', '8', '5', '2', '3', '1', '2', '7', '8', '0', '6', '2', ';', 'H', 'o', 'n', 'g', ' ', 'K', 'o', 'n', 'g', ';', '2', '0', '1', '9', '-', '0', '5', '-', '2', '9', ' ', '8', ':', '2', '7', ':', '3', '5', ' ', 'P', 'M', ';', '2', '0', '1', '9', '-', '0', '5', '-', '2', '9', ' ', '8', ':', '2', '8', ':', '5', '2', ' ', 'P', 'M', ';', '7', '7', ';', '9', '0', ';', '0', '.', '0', '4', '7', '2', '0', '0', '0', '0', ';', 'c', 'a', 'l', 'l', '\\n', 'j', 'u', 'l', 'i', 'a', 'n', 'r', ';', '8', '5', '2', '3', '1', '2', '7', '8', '0', '6', '2', ';', 'H', 'o', 'n', 'g', ' ', 'K', 'o', 'n', 'g', ';', '2', '0', '1', '9', '-', '0', '5', '-', '2', '9', ' ', '1', '0', ':', '2', '1', ':', '2', '0', ' ', 'P', 'M', ';', '2', '0', '1', '9', '-', '0', '5', '-', '2', '9', ' ', '1', '0', ':', '2', '2', ':', '0', '3', ' ', 'P', 'M', ';', '4', '3', ';', '6', '0', ';', '0', '.', '0', '3', '1', '5', '0', '0', '0', '0', ';', 'c', 'a', 'l', 'l', '\\n', 'j', 'u', 'l', 'i', 'a', 'n', 'r', ';', '8', '5', '2', '3', '1', '2', '7', '8', '0', '6', '2', ';', 'H', 'o', 'n', 'g', ' ', 'K', 'o', 'n', 'g', ';', '2', '0', '1', '9', '-', '0', '5', '-', '2', '9', ' ', '1', '1', ':', '1', '0', ':', '4', '7', ' ', 'P', 'M', ';', '2', '0', '1', '9', '-', '0', '5', '-', '2', '9', ' ', '1', '1', ':', '1', '1', ':', '5', '6', ' ', 'P', 'M', ';', '6', '9', ';', '9', '0', ';', '0', '.', '0', '4', '7', '2', '0', '0', '0', '0', ';', 'c', 'a', 'l', 'l', '\\n', 'j', 'u', 'l', 'i', 'a', 'n', 'r', ';', '8', '5', '2', '3', '1', '2', '7', '8', '0', '6', '2', ';', 'H', 'o', 'n', 'g', ' ', 'K', 'o', 'n', 'g', ';', '2', '0', '1', '9', '-', '0', '5', '-', '2', '9', ' ', '1', '1', ':', '3', '1', ':', '0', '4', ' ', 'P', 'M', ';', '2', '0', '1', '9', '-', '0', '5', '-', '2', '9', ' ', '1', '1', ':', '3', '1', ':', '4', '2', ' ', 'P', 'M', ';', '3', '8', ';', '6', '0', ';', '0', '.', '0', '3', '1', '5', '0', '0', '0', '0', ';', 'c', 'a', 'l', 'l', '\\n', 'j', 'u', 'l', 'i', 'a', 'n', 'r', ';', '1', '5', '0', '8', '9', '7', '0', '1', '9', '0', '5', ';', 'U', 'S', 'A', ';', '2', '0', '1', '9', '-', '0', '5', '-', '3', '0', ' ', '5', ':', '1', '5', ':', '1', '6', ' ', 'P', 'M', ';', '2', '0', '1', '9', '-', '0', '5', '-', '3', '0', ' ', '5', ':', '2', '2', ':', '1', '3', ' ', 'P', 'M', ';', '4', '1', '7', ';', '4', '2', '0', ';', '0', '.', '1', '4', '0', '0', '0', '0', '0', '0', ';', 'c', 'a', 'l', 'l', '\\n', 'j', 'u', 'l', 'i', 'a', 'n', 'r', ';', '1', '5', '0', '8', '9', '7', '0', '1', '9', '0', '5', ';', 'U', 'S', 'A', ';', '2', '0', '1', '9', '-', '0', '5', '-', '3', '0', ' ', '5', ':', '3', '4', ':', '5', '7', ' ', 'P', 'M', ';', '2', '0', '1', '9', '-', '0', '5', '-', '3', '0', ' ', '5', ':', '5', '3', ':', '3', '0', ' ', 'P', 'M', ';', '1', '1', '1', '3', ';', '1', '1', '4', '0', ';', '0', '.', '3', '8', '0', '0', '0', '0', '0', '0', ';', 'c', 'a', 'l', 'l', '\\n', 'j', 'u', 'l', 'i', 'a', 'n', 'r', ';', '8', '5', '2', '3', '1', '2', '7', '8', '0', '6', '2', ';', 'H', 'o', 'n', 'g', ' ', 'K', 'o', 'n', 'g', ';', '2', '0', '1', '9', '-', '0', '5', '-', '3', '0', ' ', '6', ':', '4', '8', ':', '5', '3', ' ', 'P', 'M', ';', '2', '0', '1', '9', '-', '0', '5', '-', '3', '0', ' ', '6', ':', '5', '2', ':', '1', '4', ' ', 'P', 'M', ';', '2', '0', '1', ';', '2', '1', '0', ';', '0', '.', '1', '1', '0', '2', '0', '0', '0', '0', ';', 'c', 'a', 'l', 'l', '\\n', 'j', 'u', 'l', 'i', 'a', 'n', 'r', ';', '8', '5', '2', '3', '1', '2', '7', '8', '0', '6', '2', ';', 'H', 'o', 'n', 'g', ' ', 'K', 'o', 'n', 'g', ';', '2', '0', '1', '9', '-', '0', '5', '-', '3', '0', ' ', '9', ':', '1', '9', ':', '1', '0', ' ', 'P', 'M', ';', '2', '0', '1', '9', '-', '0', '5', '-', '3', '0', ' ', '9', ':', '2', '2', ':', '2', '2', ' ', 'P', 'M', ';', '1', '9', '2', ';', '2', '1', '0', ';', '0', '.', '1', '1', '0', '2', '0', '0', '0', '0', ';', 'c', 'a', 'l', 'l', '\\n', 'j', 'u', 'l', 'i', 'a', 'n', 'r', ';', '8', '5', '2', '3', '1', '2', '7', '8', '0', '6', '2', ';', 'H', 'o', 'n', 'g', ' ', 'K', 'o', 'n', 'g', ';', '2', '0', '1', '9', '-', '0', '5', '-', '3', '0', ' ', '9', ':', '1', '9', ':', '5', '2', ' ', 'P', 'M', ';', '2', '0', '1', '9', '-', '0', '5', '-', '3', '0', ' ', '9', ':', '2', '0', ':', '2', '8', ' ', 'P', 'M', ';', '3', '6', ';', '6', '0', ';', '0', '.', '0', '3', '1', '5', '0', '0', '0', '0', ';', 'c', 'a', 'l', 'l', '\\n', 'j', 'u', 'l', 'i', 'a', 'n', 'r', ';', '8', '5', '2', '3', '1', '2', '7', '8', '0', '6', '2', ';', 'H', 'o', 'n', 'g', ' ', 'K', 'o', 'n', 'g', ';', '2', '0', '1', '9', '-', '0', '5', '-', '3', '0', ' ', '9', ':', '2', '1', ':', '1', '4', ' ', 'P', 'M', ';', '2', '0', '1', '9', '-', '0', '5', '-', '3', '0', ' ', '9', ':', '2', '1', ':', '2', '3', ' ', 'P', 'M', ';', '9', ';', '3', '0', ';', '0', '.', '0', '1', '5', '8', '0', '0', '0', '0', ';', 'c', 'a', 'l', 'l', '\\n', 'j', 'u', 'l', 'i', 'a', 'n', 'r', ';', '8', '5', '2', '3', '1', '2', '7', '8', '0', '6', '2', ';', 'H', 'o', 'n', 'g', ' ', 'K', 'o', 'n', 'g', ';', '2', '0', '1', '9', '-', '0', '5', '-', '3', '0', ' ', '9', ':', '2', '3', ':', '3', '3', ' ', 'P', 'M', ';', '2', '0', '1', '9', '-', '0', '5', '-', '3', '0', ' ', '9', ':', '2', '6', ':', '2', '7', ' ', 'P', 'M', ';', '1', '7', '4', ';', '1', '8', '0', ';', '0', '.', '0', '9', '4', '5', '0', '0', '0', '0', ';', 'c', 'a', 'l', 'l', '\\n', 'j', 'u', 'l', 'i', 'a', 'n', 'r', ';', '8', '5', '2', '3', '1', '2', '7', '8', '0', '6', '2', ';', 'H', 'o', 'n', 'g', ' ', 'K', 'o', 'n', 'g', ';', '2', '0', '1', '9', '-', '0', '5', '-', '3', '0', ' ', '9', ':', '4', '7', ':', '4', '1', ' ', 'P', 'M', ';', '2', '0', '1', '9', '-', '0', '5', '-', '3', '0', ' ', '9', ':', '4', '9', ':', '2', '8', ' ', 'P', 'M', ';', '1', '0', '7', ';', '1', '2', '0', ';', '0', '.', '0', '6', '3', '0', '0', '0', '0', '0', ';', 'c', 'a', 'l', 'l', '\\n', 'j', 'u', 'l', 'i', 'a', 'n', 'r', ';', '8', '5', '2', '3', '1', '2', '7', '8', '0', '6', '2', ';', 'H', 'o', 'n', 'g', ' ', 'K', 'o', 'n', 'g', ';', '2', '0', '1', '9', '-', '0', '5', '-', '3', '0', ' ', '9', ':', '5', '0', ':', '2', '3', ' ', 'P', 'M', ';', '2', '0', '1', '9', '-', '0', '5', '-', '3', '0', ' ', '9', ':', '5', '2', ':', '3', '2', ' ', 'P', 'M', ';', '1', '2', '9', ';', '1', '5', '0', ';', '0', '.', '0', '7', '8', '7', '0', '0', '0', '0', ';', 'c', 'a', 'l', 'l', '\\n', 'j', 'u', 'l', 'i', 'a', 'n', 'r', ';', '8', '5', '2', '3', '1', '2', '7', '8', '0', '6', '2', ';', 'H', 'o', 'n', 'g', ' ', 'K', 'o', 'n', 'g', ';', '2', '0', '1', '9', '-', '0', '5', '-', '3', '0', ' ', '1', '0', ':', '1', '4', ':', '3', '3', ' ', 'P', 'M', ';', '2', '0', '1', '9', '-', '0', '5', '-', '3', '0', ' ', '1', '0', ':', '1', '5', ':', '2', '3', ' ', 'P', 'M', ';', '5', '0', ';', '6', '0', ';', '0', '.', '0', '3', '1', '5', '0', '0', '0', '0', ';', 'c', 'a', 'l', 'l', '\\n', 'j', 'u', 'l', 'i', 'a', 'n', 'r', ';', '8', '5', '2', '3', '1', '2', '7', '8', '0', '6', '2', ';', 'H', 'o', 'n', 'g', ' ', 'K', 'o', 'n', 'g', ';', '2', '0', '1', '9', '-', '0', '5', '-', '3', '0', ' ', '1', '0', ':', '4', '3', ':', '0', '5', ' ', 'P', 'M', ';', '2', '0', '1', '9', '-', '0', '5', '-', '3', '0', ' ', '1', '0', ':', '4', '4', ':', '1', '1', ' ', 'P', 'M', ';', '6', '6', ';', '9', '0', ';', '0', '.', '0', '4', '7', '2', '0', '0', '0', '0', ';', 'c', 'a', 'l', 'l', '\\n', 'j', 'u', 'l', 'i', 'a', 'n', 'r', ';', '8', '5', '2', '3', '1', '2', '7', '8', '0', '6', '2', ';', 'H', 'o', 'n', 'g', ' ', 'K', 'o', 'n', 'g', ';', '2', '0', '1', '9', '-', '0', '5', '-', '3', '0', ' ', '1', '1', ':', '0', '6', ':', '2', '3', ' ', 'P', 'M', ';', '2', '0', '1', '9', '-', '0', '5', '-', '3', '0', ' ', '1', '1', ':', '0', '6', ':', '3', '6', ' ', 'P', 'M', ';', '1', '3', ';', '3', '0', ';', '0', '.', '0', '1', '5', '8', '0', '0', '0', '0', ';', 'c', 'a', 'l', 'l', '\\n', 'j', 'u', 'l', 'i', 'a', 'n', 'r', ';', '8', '5', '2', '3', '1', '2', '7', '8', '0', '6', '2', ';', 'H', 'o', 'n', 'g', ' ', 'K', 'o', 'n', 'g', ';', '2', '0', '1', '9', '-', '0', '5', '-', '3', '0', ' ', '1', '1', ':', '0', '7', ':', '1', '8', ' ', 'P', 'M', ';', '2', '0', '1', '9', '-', '0', '5', '-', '3', '0', ' ', '1', '1', ':', '0', '7', ':', '2', '3', ' ', 'P', 'M', ';', '5', ';', '3', '0', ';', '0', '.', '0', '1', '5', '8', '0', '0', '0', '0', ';', 'c', 'a', 'l', 'l', '\\n', 'j', 'u', 'l', 'i', 'a', 'n', 'r', ';', '8', '5', '2', '3', '1', '2', '7', '8', '0', '6', '2', ';', 'H', 'o', 'n', 'g', ' ', 'K', 'o', 'n', 'g', ';', '2', '0', '1', '9', '-', '0', '5', '-', '3', '1', ' ', '1', '2', ':', '0', '9', ':', '4', '4', ' ', 'A', 'M', ';', '2', '0', '1', '9', '-', '0', '5', '-', '3', '1', ' ', '1', '2', ':', '2', '6', ':', '2', '1', ' ', 'A', 'M', ';', '9', '9', '7', ';', '1', '0', '2', '0', ';', '0', '.', '5', '3', '5', '5', '0', '0', '0', '0', ';', 'c', 'a', 'l', 'l', '\\n']\n"
     ]
    }
   ],
   "source": [
    "with (open(\"billing.csv\")) as line:\n",
    "    sent=list(line.read())\n",
    "    print(sent)\n",
    "    \n",
    "    \n",
    "    "
   ]
  },
  {
   "cell_type": "code",
   "execution_count": 52,
   "metadata": {},
   "outputs": [],
   "source": [
    "a = 'ZENOVW'"
   ]
  },
  {
   "cell_type": "code",
   "execution_count": 57,
   "metadata": {},
   "outputs": [
    {
     "data": {
      "text/plain": [
       "['W', 'V', 'O', 'N', 'E', 'Z']"
      ]
     },
     "execution_count": 57,
     "metadata": {},
     "output_type": "execute_result"
    }
   ],
   "source": [
    "list(reversed(a))"
   ]
  },
  {
   "cell_type": "code",
   "execution_count": 55,
   "metadata": {},
   "outputs": [
    {
     "data": {
      "text/plain": [
       "False"
      ]
     },
     "execution_count": 55,
     "metadata": {},
     "output_type": "execute_result"
    }
   ],
   "source": [
    "['A','B','C']==['A','B','D']"
   ]
  },
  {
   "cell_type": "code",
   "execution_count": 64,
   "metadata": {},
   "outputs": [
    {
     "data": {
      "text/plain": [
       "2"
      ]
     },
     "execution_count": 64,
     "metadata": {},
     "output_type": "execute_result"
    }
   ],
   "source": [
    "len([['A','B'],['C','D']])"
   ]
  },
  {
   "cell_type": "code",
   "execution_count": 69,
   "metadata": {},
   "outputs": [
    {
     "data": {
      "text/plain": [
       "282"
      ]
     },
     "execution_count": 69,
     "metadata": {},
     "output_type": "execute_result"
    }
   ],
   "source": [
    "len(list(open(\"billing.csv\")))"
   ]
  },
  {
   "cell_type": "code",
   "execution_count": 81,
   "metadata": {},
   "outputs": [
    {
     "name": "stdout",
     "output_type": "stream",
     "text": [
      "['julianr;85231278062;Hong Kong;2019-05-31 12:09:44 AM;2019-05-31 12:26:21 AM;997;1020;0.53550000;call\\n', 'julianr;85231278062;Hong Kong;2019-05-30 11:07:18 PM;2019-05-30 11:07:23 PM;5;30;0.01580000;call\\n', 'julianr;85231278062;Hong Kong;2019-05-30 11:06:23 PM;2019-05-30 11:06:36 PM;13;30;0.01580000;call\\n', 'julianr;85231278062;Hong Kong;2019-05-30 10:43:05 PM;2019-05-30 10:44:11 PM;66;90;0.04720000;call\\n', 'julianr;85231278062;Hong Kong;2019-05-30 10:14:33 PM;2019-05-30 10:15:23 PM;50;60;0.03150000;call\\n', 'julianr;85231278062;Hong Kong;2019-05-30 9:50:23 PM;2019-05-30 9:52:32 PM;129;150;0.07870000;call\\n', 'julianr;85231278062;Hong Kong;2019-05-30 9:47:41 PM;2019-05-30 9:49:28 PM;107;120;0.06300000;call\\n', 'julianr;85231278062;Hong Kong;2019-05-30 9:23:33 PM;2019-05-30 9:26:27 PM;174;180;0.09450000;call\\n', 'julianr;85231278062;Hong Kong;2019-05-30 9:21:14 PM;2019-05-30 9:21:23 PM;9;30;0.01580000;call\\n', 'julianr;85231278062;Hong Kong;2019-05-30 9:19:52 PM;2019-05-30 9:20:28 PM;36;60;0.03150000;call\\n', 'julianr;85231278062;Hong Kong;2019-05-30 9:19:10 PM;2019-05-30 9:22:22 PM;192;210;0.11020000;call\\n', 'julianr;85231278062;Hong Kong;2019-05-30 6:48:53 PM;2019-05-30 6:52:14 PM;201;210;0.11020000;call\\n', 'julianr;15089701905;USA;2019-05-30 5:34:57 PM;2019-05-30 5:53:30 PM;1113;1140;0.38000000;call\\n', 'julianr;15089701905;USA;2019-05-30 5:15:16 PM;2019-05-30 5:22:13 PM;417;420;0.14000000;call\\n', 'julianr;85231278062;Hong Kong;2019-05-29 11:31:04 PM;2019-05-29 11:31:42 PM;38;60;0.03150000;call\\n', 'julianr;85231278062;Hong Kong;2019-05-29 11:10:47 PM;2019-05-29 11:11:56 PM;69;90;0.04720000;call\\n', 'julianr;85231278062;Hong Kong;2019-05-29 10:21:20 PM;2019-05-29 10:22:03 PM;43;60;0.03150000;call\\n', 'julianr;85231278062;Hong Kong;2019-05-29 8:27:35 PM;2019-05-29 8:28:52 PM;77;90;0.04720000;call\\n', 'julianr;85231278062;Hong Kong;2019-05-29 7:51:43 PM;2019-05-29 7:52:20 PM;37;60;0.03150000;call\\n', 'julianr;85231278062;Hong Kong;2019-05-29 7:50:46 PM;2019-05-29 8:06:18 PM;932;960;0.50400000;call\\n', 'julianr;85231278062;Hong Kong;2019-05-29 7:50:16 PM;2019-05-29 7:50:20 PM;4;30;0.01580000;call\\n', 'julianr;85231278062;Hong Kong;2019-05-29 6:48:59 PM;2019-05-29 7:03:00 PM;841;870;0.45670000;call\\n', 'julianr;85231278062;Hong Kong;2019-05-29 6:16:09 PM;2019-05-29 6:16:15 PM;6;30;0.01580000;call\\n', 'julianr;85231278062;Hong Kong;2019-05-29 6:08:26 PM;2019-05-29 6:09:15 PM;49;60;0.03150000;call\\n', 'julianr;15089701905;USA;2019-05-29 2:31:19 PM;2019-05-29 2:59:59 PM;1720;1740;0.58000000;call\\n', 'julianr;85231278062;Hong Kong;2019-05-28 11:56:07 PM;2019-05-29 12:01:51 AM;344;360;0.18900000;call\\n', 'julianr;85231278062;Hong Kong;2019-05-28 10:52:12 PM;2019-05-28 10:52:59 PM;47;60;0.03150000;call\\n', 'julianr;85231278062;Hong Kong;2019-05-28 10:50:53 PM;2019-05-28 10:51:41 PM;48;60;0.03150000;call\\n', 'julianr;85231278062;Hong Kong;2019-05-28 10:16:05 PM;2019-05-28 10:16:47 PM;42;60;0.03150000;call\\n', 'julianr;85231278062;Hong Kong;2019-05-28 9:59:43 PM;2019-05-28 9:59:59 PM;16;30;0.01580000;call\\n', 'julianr;85231278062;Hong Kong;2019-05-28 8:35:25 PM;2019-05-28 8:38:09 PM;164;180;0.09450000;call\\n', 'julianr;15089701905;USA;2019-05-28 4:43:10 PM;2019-05-28 5:18:53 PM;2143;2160;0.72000000;call\\n', 'julianr;85231278062;Hong Kong;2019-05-27 11:10:10 PM;2019-05-27 11:10:16 PM;6;30;0.01580000;call\\n', 'julianr;85231278062;Hong Kong;2019-05-27 10:14:48 PM;2019-05-27 10:15:33 PM;45;60;0.03150000;call\\n', 'julianr;85231278062;Hong Kong;2019-05-27 10:12:57 PM;2019-05-27 10:13:26 PM;29;30;0.01580000;call\\n', 'julianr;85231278062;Hong Kong;2019-05-27 10:12:42 PM;2019-05-27 10:13:40 PM;58;60;0.03150000;call\\n', 'julianr;85231278062;Hong Kong;2019-05-27 8:08:41 PM;2019-05-27 8:20:56 PM;735;750;0.39370000;call\\n', 'julianr;85231278062;Hong Kong;2019-05-27 8:02:28 PM;2019-05-27 8:04:18 PM;110;120;0.06300000;call\\n', 'julianr;85231278062;Hong Kong;2019-05-27 7:03:17 PM;2019-05-27 7:03:34 PM;17;30;0.01580000;call\\n', 'julianr;85231278062;Hong Kong;2019-05-27 6:57:31 PM;2019-05-27 6:58:12 PM;41;60;0.03150000;call\\n', 'julianr;85231278062;Hong Kong;2019-05-27 6:57:16 PM;2019-05-27 7:04:27 PM;431;450;0.23620000;call\\n', 'julianr;85231278062;Hong Kong;2019-05-27 6:26:29 PM;2019-05-27 6:28:45 PM;136;150;0.07870000;call\\n', 'julianr;85231278062;Hong Kong;2019-05-27 6:18:59 PM;2019-05-27 6:21:29 PM;150;150;0.07870000;call\\n', 'julianr;15089701905;USA;2019-05-27 4:56:33 PM;2019-05-27 4:57:20 PM;47;60;0.02000000;call\\n', 'julianr;15089701905;USA;2019-05-27 3:40:11 PM;2019-05-27 3:48:52 PM;521;540;0.18000000;call\\n', 'julianr;15089701905;USA;2019-05-27 2:50:18 PM;2019-05-27 2:55:00 PM;282;300;0.10000000;call\\n', 'julianr;85231278062;Hong Kong;2019-05-26 11:55:28 PM;9999-12-31 11:59:59 PM;0;0;0.00000000;failed\\n', 'julianr;85231278062;Hong Kong;2019-05-26 10:59:57 PM;2019-05-26 11:00:04 PM;7;30;0.01580000;call\\n', 'julianr;85231278062;Hong Kong;2019-05-26 9:58:34 PM;2019-05-26 10:00:43 PM;129;150;0.07870000;call\\n', 'julianr;85231278062;Hong Kong;2019-05-26 9:21:33 PM;2019-05-26 9:23:33 PM;120;120;0.06300000;call\\n', 'julianr;85231278062;Hong Kong;2019-05-26 9:20:06 PM;2019-05-26 9:20:55 PM;49;60;0.03150000;call\\n', 'julianr;85231278062;Hong Kong;2019-05-26 9:15:20 PM;2019-05-26 9:19:58 PM;278;300;0.15750000;call\\n', 'julianr;85231278062;Hong Kong;2019-05-26 8:40:26 PM;2019-05-26 8:44:48 PM;262;270;0.14170000;call\\n', 'julianr;85231278062;Hong Kong;2019-05-26 8:36:41 PM;2019-05-26 8:39:52 PM;191;210;0.11020000;call\\n', 'julianr;85231278062;Hong Kong;2019-05-26 8:36:07 PM;2019-05-26 8:36:09 PM;2;30;0.01580000;call\\n', 'julianr;85231278062;Hong Kong;2019-05-26 8:22:21 PM;2019-05-26 8:29:15 PM;414;420;0.22050000;call\\n', 'julianr;85231278062;Hong Kong;2019-05-26 8:01:59 PM;2019-05-26 8:03:30 PM;91;120;0.06300000;call\\n', 'julianr;85231278062;Hong Kong;2019-05-26 7:33:34 PM;2019-05-26 7:36:37 PM;183;210;0.11020000;call\\n', 'julianr;85231278062;Hong Kong;2019-05-26 7:16:52 PM;2019-05-26 7:25:46 PM;534;540;0.28350000;call\\n', 'julianr;85231278062;Hong Kong;2019-05-26 6:39:53 PM;2019-05-26 6:53:30 PM;817;840;0.44100000;call\\n', 'julianr;85231278062;Hong Kong;2019-05-26 6:02:13 PM;2019-05-26 6:02:52 PM;39;60;0.03150000;call\\n', 'julianr;15089701905;USA;2019-05-26 5:59:49 PM;2019-05-26 6:11:29 PM;700;720;0.24000000;call\\n', 'julianr;15089701905;USA;2019-05-26 5:41:53 PM;2019-05-26 5:44:57 PM;184;210;0.07000000;call\\n', 'julianr;15089701905;USA;2019-05-26 4:55:28 PM;2019-05-26 4:55:50 PM;22;30;0.01000000;call\\n', 'julianr;15089701905;USA;2019-05-26 4:40:01 PM;2019-05-26 4:43:50 PM;229;240;0.08000000;call\\n', 'julianr;85231278062;Hong Kong;2019-05-23 11:51:50 PM;2019-05-23 11:56:58 PM;308;330;0.17320000;call\\n', 'julianr;85231278062;Hong Kong;2019-05-23 11:20:35 PM;2019-05-23 11:23:56 PM;201;210;0.11020000;call\\n', 'julianr;85231278062;Hong Kong;2019-05-23 10:57:05 PM;2019-05-23 10:57:34 PM;29;30;0.01580000;call\\n', 'julianr;85231278062;Hong Kong;2019-05-23 10:42:26 PM;2019-05-23 10:43:03 PM;37;60;0.03150000;call\\n', 'julianr;85231278062;Hong Kong;2019-05-23 10:28:07 PM;2019-05-23 10:28:47 PM;40;60;0.03150000;call\\n', 'julianr;85231278062;Hong Kong;2019-05-23 10:22:54 PM;2019-05-23 10:23:40 PM;46;60;0.03150000;call\\n', 'julianr;85231278062;Hong Kong;2019-05-23 10:21:33 PM;2019-05-23 10:22:03 PM;30;30;0.01580000;call\\n', 'julianr;85231278062;Hong Kong;2019-05-23 9:30:39 PM;2019-05-23 9:31:08 PM;29;30;0.01580000;call\\n', 'julianr;85231278062;Hong Kong;2019-05-23 9:07:20 PM;2019-05-23 9:19:19 PM;719;720;0.37800000;call\\n', 'julianr;85231278062;Hong Kong;2019-05-23 8:52:56 PM;2019-05-23 9:00:01 PM;425;450;0.23620000;call\\n', 'julianr;85231278062;Hong Kong;2019-05-23 8:44:36 PM;2019-05-23 8:46:21 PM;105;120;0.06300000;call\\n', 'julianr;85231278062;Hong Kong;2019-05-23 7:09:19 PM;2019-05-23 7:11:50 PM;151;180;0.09450000;call\\n', 'julianr;15089701905;USA;2019-05-23 5:15:59 PM;2019-05-23 5:59:17 PM;2598;2610;0.87000000;call\\n', 'julianr;15089701905;USA;2019-05-23 5:14:31 PM;2019-05-23 5:15:37 PM;66;90;0.03000000;call\\n', 'julianr;15089701905;USA;2019-05-23 4:50:45 PM;2019-05-23 4:56:32 PM;347;360;0.12000000;call\\n', 'julianr;15089701905;USA;2019-05-23 4:06:34 PM;2019-05-23 4:09:31 PM;177;180;0.06000000;call\\n', 'julianr;85231278062;Hong Kong;2019-05-22 10:43:56 PM;9999-12-31 11:59:59 PM;0;0;0.00000000;failed\\n', 'julianr;85231278062;Hong Kong;2019-05-22 10:36:11 PM;2019-05-22 10:36:29 PM;18;30;0.01580000;call\\n', 'julianr;85231278062;Hong Kong;2019-05-22 10:34:20 PM;2019-05-22 10:34:55 PM;35;60;0.03150000;call\\n', 'julianr;85231278062;Hong Kong;2019-05-22 9:33:48 PM;2019-05-22 9:38:54 PM;306;330;0.17320000;call\\n', 'julianr;85231278062;Hong Kong;2019-05-22 9:13:30 PM;2019-05-22 9:18:48 PM;318;330;0.17320000;call\\n', 'julianr;85231278062;Hong Kong;2019-05-22 9:00:34 PM;2019-05-22 9:05:48 PM;314;330;0.17320000;call\\n', 'julianr;85231278062;Hong Kong;2019-05-22 8:56:43 PM;2019-05-22 8:58:36 PM;113;120;0.06300000;call\\n', 'julianr;85231278062;Hong Kong;2019-05-22 7:43:04 PM;2019-05-22 7:48:26 PM;322;330;0.17320000;call\\n', 'julianr;85231278062;Hong Kong;2019-05-22 7:15:49 PM;2019-05-22 7:16:26 PM;37;60;0.03150000;call\\n', 'julianr;85231278062;Hong Kong;2019-05-22 6:24:34 PM;2019-05-22 6:31:18 PM;404;420;0.22050000;call\\n', 'julianr;85231278062;Hong Kong;2019-05-22 6:06:19 PM;2019-05-22 6:11:21 PM;302;330;0.17320000;call\\n', 'julianr;85231278062;Hong Kong;2019-05-22 6:05:02 PM;2019-05-22 6:05:34 PM;32;60;0.03150000;call\\n', 'julianr;15089701905;USA;2019-05-22 5:42:47 PM;2019-05-22 5:52:12 PM;565;570;0.19000000;call\\n', 'julianr;15089701905;USA;2019-05-22 4:31:24 PM;2019-05-22 4:31:28 PM;4;30;0.01000000;call\\n', 'julianr;15089701905;USA;2019-05-22 4:23:25 PM;2019-05-22 4:28:48 PM;323;330;0.11000000;call\\n', 'julianr;15089701905;USA;2019-05-22 3:52:08 PM;2019-05-22 4:03:22 PM;674;690;0.23000000;call\\n', 'julianr;15089701905;USA;2019-05-22 3:01:38 PM;2019-05-22 3:07:32 PM;354;360;0.12000000;call\\n', 'julianr;85231278062;Hong Kong;2019-05-22 2:30:54 AM;9999-12-31 11:59:59 PM;0;0;0.00000000;failed\\n', 'julianr;85231278062;Hong Kong;2019-05-22 2:30:25 AM;9999-12-31 11:59:59 PM;0;0;0.00000000;failed\\n', 'julianr;85231278062;Hong Kong;2019-05-21 10:20:55 PM;2019-05-21 10:21:07 PM;12;30;0.01580000;call\\n', 'julianr;85231278062;Hong Kong;2019-05-21 10:16:16 PM;2019-05-21 10:16:29 PM;13;30;0.01580000;call\\n', 'julianr;85231278062;Hong Kong;2019-05-21 9:37:40 PM;2019-05-21 9:39:46 PM;126;150;0.07870000;call\\n', 'julianr;85231278062;Hong Kong;2019-05-21 9:02:34 PM;2019-05-21 9:03:17 PM;43;60;0.03150000;call\\n', 'julianr;85231278062;Hong Kong;2019-05-21 8:03:05 PM;2019-05-21 8:07:08 PM;243;270;0.14170000;call\\n', 'julianr;85231278062;Hong Kong;2019-05-21 6:50:11 PM;2019-05-21 6:50:30 PM;19;30;0.01580000;call\\n', 'julianr;85231278062;Hong Kong;2019-05-21 6:47:58 PM;2019-05-21 6:48:54 PM;56;60;0.03150000;call\\n', 'julianr;85231278062;Hong Kong;2019-05-21 6:37:55 PM;2019-05-21 6:43:18 PM;323;330;0.17320000;call\\n', 'julianr;85231278062;Hong Kong;2019-05-20 11:32:58 PM;2019-05-20 11:33:45 PM;47;60;0.03150000;call\\n', 'julianr;85231278062;Hong Kong;2019-05-20 7:39:45 PM;2019-05-20 7:44:01 PM;256;270;0.14170000;call\\n', 'julianr;85231278062;Hong Kong;2019-05-20 7:32:47 PM;2019-05-20 7:33:38 PM;51;60;0.03150000;call\\n', 'julianr;85231278062;Hong Kong;2019-05-19 11:51:56 PM;2019-05-19 11:53:25 PM;89;90;0.04720000;call\\n', 'julianr;85231278062;Hong Kong;2019-05-19 7:34:11 PM;2019-05-19 7:36:50 PM;159;180;0.09450000;call\\n', 'julianr;85231278062;Hong Kong;2019-05-19 7:16:06 PM;2019-05-19 7:21:59 PM;353;360;0.18900000;call\\n', 'julianr;85231278062;Hong Kong;2019-05-19 6:43:07 PM;2019-05-19 6:46:55 PM;228;240;0.12600000;call\\n', 'julianr;15089701905;USA;2019-05-19 5:51:44 PM;2019-05-19 5:56:51 PM;307;330;0.11000000;call\\n', 'julianr;15089701905;USA;2019-05-19 5:13:02 PM;2019-05-19 5:21:04 PM;482;510;0.17000000;call\\n', 'julianr;15089701905;USA;2019-05-19 3:55:21 PM;2019-05-19 3:58:13 PM;172;180;0.06000000;call\\n', 'julianr;15089701905;USA;2019-05-19 3:41:23 PM;2019-05-19 3:42:07 PM;44;60;0.02000000;call\\n', 'julianr;85231278062;Hong Kong;2019-05-17 5:31:43 AM;9999-12-31 11:59:59 PM;0;0;0.00000000;failed\\n', 'julianr;441512373424;United Kingdom;2019-05-16 10:48:16 PM;2019-05-16 10:52:18 PM;242;270;0.09000000;call\\n', 'julianr;441512373424;United Kingdom;2019-05-16 9:04:38 PM;2019-05-16 9:05:04 PM;26;30;0.01000000;call\\n', 'julianr;15089701905;USA;2019-05-16 8:24:34 PM;2019-05-16 8:33:40 PM;546;570;0.19000000;call\\n', 'julianr;15089701905;USA;2019-05-16 6:06:11 PM;2019-05-16 6:07:22 PM;71;90;0.03000000;call\\n', 'julianr;15089701905;USA;2019-05-16 5:24:23 PM;2019-05-16 5:27:35 PM;192;210;0.07000000;call\\n', 'julianr;15089701905;USA;2019-05-16 4:19:58 PM;2019-05-16 4:30:17 PM;619;630;0.21000000;call\\n', 'julianr;441512373424;United Kingdom;2019-05-15 11:27:05 PM;2019-05-15 11:27:26 PM;21;30;0.01000000;call\\n', 'julianr;441512373424;United Kingdom;2019-05-15 10:09:18 PM;2019-05-15 10:11:27 PM;129;150;0.05000000;call\\n', 'julianr;441512373424;United Kingdom;2019-05-15 10:07:19 PM;2019-05-15 10:08:20 PM;61;90;0.03000000;call\\n', 'julianr;441512373424;United Kingdom;2019-05-15 9:16:26 PM;2019-05-15 9:20:37 PM;251;270;0.09000000;call\\n', 'julianr;441512373424;United Kingdom;2019-05-15 9:03:53 PM;2019-05-15 9:04:18 PM;25;30;0.01000000;call\\n', 'julianr;15089701905;USA;2019-05-15 6:06:24 PM;2019-05-15 6:07:32 PM;68;90;0.03000000;call\\n', 'julianr;15089701905;USA;2019-05-15 5:07:27 PM;2019-05-15 5:15:41 PM;494;510;0.17000000;call\\n', 'julianr;16503166945;USA;2019-05-15 2:16:40 AM;9999-12-31 11:59:59 PM;0;0;0.00000000;failed\\n', 'julianr;16503166945;USA;2019-05-15 1:25:24 AM;9999-12-31 11:59:59 PM;0;0;0.00000000;failed\\n', 'julianr;16503166945;USA;2019-05-15 1:21:08 AM;9999-12-31 11:59:59 PM;0;0;0.00000000;failed\\n', 'julianr;16503166945;USA;2019-05-15 1:20:38 AM;9999-12-31 11:59:59 PM;0;0;0.00000000;failed\\n', 'julianr;85231278062;Hong Kong;2019-05-14 10:43:17 PM;2019-05-14 10:43:25 PM;8;30;0.01580000;call\\n', 'julianr;85231278062;Hong Kong;2019-05-14 8:52:27 PM;2019-05-14 8:55:26 PM;179;180;0.09450000;call\\n', 'julianr;85231278062;Hong Kong;2019-05-14 7:22:24 PM;2019-05-14 7:27:54 PM;330;330;0.17320000;call\\n', 'julianr;85231278062;Hong Kong;2019-05-14 6:55:26 PM;2019-05-14 6:59:31 PM;245;270;0.14170000;call\\n', 'julianr;85231278062;Hong Kong;2019-05-14 6:41:59 PM;2019-05-14 6:44:48 PM;169;180;0.09450000;call\\n', 'julianr;85231278062;Hong Kong;2019-05-14 6:10:12 PM;2019-05-14 6:10:19 PM;7;30;0.01580000;call\\n', 'julianr;85231278062;Hong Kong;2019-05-14 6:08:06 PM;9999-12-31 11:59:59 PM;0;0;0.00000000;failed\\n', 'julianr;85231278062;Hong Kong;2019-05-13 11:53:55 PM;2019-05-13 11:54:07 PM;12;30;0.01580000;call\\n', 'julianr;85231278062;Hong Kong;2019-05-13 10:14:16 PM;2019-05-13 10:15:35 PM;79;90;0.04720000;call\\n', 'julianr;85231278062;Hong Kong;2019-05-13 9:47:38 PM;2019-05-13 9:47:50 PM;12;30;0.01580000;call\\n', 'julianr;85231278062;Hong Kong;2019-05-13 9:40:19 PM;2019-05-13 9:40:41 PM;22;30;0.01580000;call\\n', 'julianr;85231278062;Hong Kong;2019-05-13 8:57:37 PM;2019-05-13 8:58:41 PM;64;90;0.04720000;call\\n', 'julianr;85231278062;Hong Kong;2019-05-13 8:55:12 PM;9999-12-31 11:59:59 PM;0;0;0.00000000;failed\\n', 'julianr;85231278062;Hong Kong;2019-05-13 8:52:11 PM;2019-05-13 8:52:59 PM;48;60;0.03150000;call\\n', 'julianr;85231278062;Hong Kong;2019-05-13 8:49:39 PM;2019-05-13 8:51:23 PM;104;120;0.06300000;call\\n', 'julianr;85231278062;Hong Kong;2019-05-13 8:16:19 PM;2019-05-13 8:16:50 PM;31;60;0.03150000;call\\n', 'julianr;85231278062;Hong Kong;2019-05-13 7:58:57 PM;9999-12-31 11:59:59 PM;0;0;0.00000000;failed\\n', 'julianr;85231278062;Hong Kong;2019-05-13 7:50:46 PM;2019-05-13 7:51:03 PM;17;30;0.01580000;call\\n', 'julianr;85231278062;Hong Kong;2019-05-13 7:31:58 PM;2019-05-13 7:35:43 PM;225;240;0.12600000;call\\n', 'julianr;85231278062;Hong Kong;2019-05-13 7:23:30 PM;2019-05-13 7:27:31 PM;241;270;0.14170000;call\\n', 'julianr;85231278062;Hong Kong;2019-05-13 7:05:41 PM;2019-05-13 7:05:52 PM;11;30;0.01580000;call\\n', 'julianr;85231278062;Hong Kong;2019-05-13 7:03:52 PM;2019-05-13 7:05:42 PM;110;120;0.06300000;call\\n', 'julianr;85231278062;Hong Kong;2019-05-13 6:40:08 PM;2019-05-13 6:40:11 PM;3;30;0.01580000;call\\n', 'julianr;85231278062;Hong Kong;2019-05-13 6:39:06 PM;2019-05-13 6:39:17 PM;11;30;0.01580000;call\\n', 'julianr;85231278062;Hong Kong;2019-05-13 6:05:54 PM;2019-05-13 6:06:40 PM;46;60;0.03150000;call\\n', 'julianr;15089701905;USA;2019-05-13 5:52:17 PM;2019-05-13 5:52:30 PM;13;30;0.01000000;call\\n', 'julianr;15089701905;USA;2019-05-13 5:07:08 PM;2019-05-13 5:11:52 PM;284;300;0.10000000;call\\n', 'julianr;15089701905;USA;2019-05-13 4:58:22 PM;2019-05-13 5:04:30 PM;368;390;0.13000000;call\\n', 'julianr;15089701905;USA;2019-05-13 4:25:48 PM;2019-05-13 4:29:21 PM;213;240;0.08000000;call\\n', 'julianr;15089701905;USA;2019-05-13 2:40:17 PM;2019-05-13 2:46:58 PM;401;420;0.14000000;call\\n', 'julianr;15089701905;USA;2019-05-12 10:16:53 PM;2019-05-12 10:18:32 PM;99;120;0.04000000;call\\n', 'julianr;15089701905;USA;2019-05-12 10:16:04 PM;2019-05-12 10:18:30 PM;146;150;0.05000000;call\\n', 'julianr;15089701905;USA;2019-05-12 10:14:08 PM;2019-05-12 10:15:34 PM;86;90;0.03000000;call\\n', 'julianr;15089701905;USA;2019-05-12 10:13:20 PM;2019-05-12 10:15:32 PM;132;150;0.05000000;call\\n', 'julianr;15089701905;USA;2019-05-12 9:48:20 PM;2019-05-12 9:48:22 PM;2;30;0.01000000;call\\n', 'julianr;15089701905;USA;2019-05-12 9:07:30 PM;2019-05-12 9:08:26 PM;56;60;0.02000000;call\\n', 'julianr;15089701905;USA;2019-05-12 9:06:42 PM;2019-05-12 9:08:25 PM;103;120;0.04000000;call\\n', 'julianr;15089701905;USA;2019-05-12 9:04:30 PM;2019-05-12 9:05:39 PM;69;90;0.03000000;call\\n', 'julianr;15089701905;USA;2019-05-12 9:03:42 PM;2019-05-12 9:05:38 PM;116;120;0.04000000;call\\n', 'julianr;15089701905;USA;2019-05-12 9:01:52 PM;2019-05-12 9:03:10 PM;78;90;0.03000000;call\\n', 'julianr;15089701905;USA;2019-05-12 9:01:15 PM;2019-05-12 9:03:02 PM;107;120;0.04000000;call\\n', 'julianr;15089701905;USA;2019-05-12 8:42:19 PM;2019-05-12 8:46:49 PM;270;270;0.09000000;call\\n', 'julianr;15089701905;USA;2019-05-12 6:49:54 PM;2019-05-12 7:00:55 PM;661;690;0.23000000;call\\n', 'julianr;15089701905;USA;2019-05-12 6:47:38 PM;2019-05-12 6:49:12 PM;94;120;0.04000000;call\\n', 'julianr;15089701905;USA;2019-05-12 6:32:01 PM;2019-05-12 6:43:38 PM;697;720;0.24000000;call\\n', 'julianr;15089701905;USA;2019-05-12 6:02:31 PM;2019-05-12 6:03:46 PM;75;90;0.03000000;call\\n', 'julianr;15089701905;USA;2019-05-12 3:28:05 PM;2019-05-12 4:23:53 PM;3348;3360;1.12000000;call\\n', 'julianr;85231278062;Hong Kong;2019-05-10 12:54:28 AM;2019-05-10 1:04:57 AM;629;630;0.33070000;call\\n', 'julianr;441512373424;United Kingdom;2019-05-09 11:58:55 PM;2019-05-10 12:00:57 AM;122;150;0.05000000;call\\n', 'julianr;441512373424;United Kingdom;2019-05-09 11:27:57 PM;2019-05-09 11:30:51 PM;174;180;0.06000000;call\\n', 'julianr;441512373424;United Kingdom;2019-05-09 9:29:21 PM;2019-05-09 9:32:30 PM;189;210;0.07000000;call\\n', 'julianr;441512373424;United Kingdom;2019-05-09 9:06:30 PM;2019-05-09 9:07:08 PM;38;60;0.02000000;call\\n', 'julianr;85231278062;Hong Kong;2019-05-09 8:15:35 PM;2019-05-09 8:19:37 PM;242;270;0.14170000;call\\n', 'julianr;85231278062;Hong Kong;2019-05-09 7:48:46 PM;2019-05-09 7:57:58 PM;552;570;0.29920000;call\\n', 'julianr;85231278062;Hong Kong;2019-05-09 7:31:03 PM;2019-05-09 7:31:12 PM;9;30;0.01580000;call\\n', 'julianr;85231278062;Hong Kong;2019-05-09 7:07:38 PM;2019-05-09 7:07:54 PM;16;30;0.01580000;call\\n', 'julianr;85231278062;Hong Kong;2019-05-09 7:04:46 PM;9999-12-31 11:59:59 PM;0;0;0.00000000;failed\\n', 'julianr;85231278062;Hong Kong;2019-05-09 7:02:26 PM;2019-05-09 7:02:35 PM;9;30;0.01580000;call\\n', 'julianr;85231278062;Hong Kong;2019-05-09 6:28:16 PM;2019-05-09 6:28:46 PM;30;30;0.01580000;call\\n', 'julianr;85231278062;Hong Kong;2019-05-09 6:09:48 PM;2019-05-09 6:10:02 PM;14;30;0.01580000;call\\n', 'julianr;85231278062;Hong Kong;2019-05-09 6:08:37 PM;2019-05-09 6:08:38 PM;1;30;0.01580000;call\\n', 'julianr;85231278062;Hong Kong;2019-05-09 6:07:26 PM;2019-05-09 6:07:37 PM;11;30;0.01580000;call\\n', 'julianr;15089701905;USA;2019-05-09 5:40:07 PM;2019-05-09 5:49:49 PM;582;600;0.20000000;call\\n', 'julianr;15089701905;USA;2019-05-09 5:20:03 PM;2019-05-09 5:32:54 PM;771;780;0.26000000;call\\n', 'julianr;15089701905;USA;2019-05-09 4:50:03 PM;2019-05-09 4:53:57 PM;234;240;0.08000000;call\\n', 'julianr;441512373424;United Kingdom;2019-05-09 12:24:38 AM;2019-05-09 12:26:35 AM;117;120;0.04000000;call\\n', 'julianr;441512373424;United Kingdom;2019-05-09 12:00:56 AM;2019-05-09 12:06:17 AM;321;330;0.11000000;call\\n', 'julianr;441512373424;United Kingdom;2019-05-08 11:43:00 PM;2019-05-08 11:47:05 PM;245;270;0.09000000;call\\n', 'julianr;441512373424;United Kingdom;2019-05-08 11:39:10 PM;2019-05-08 11:40:28 PM;78;90;0.03000000;call\\n', 'julianr;441512373424;United Kingdom;2019-05-08 11:36:11 PM;2019-05-08 11:38:13 PM;122;150;0.05000000;call\\n', 'julianr;441512373424;United Kingdom;2019-05-08 11:13:42 PM;2019-05-08 11:15:49 PM;127;150;0.05000000;call\\n', 'julianr;441512373424;United Kingdom;2019-05-08 10:55:57 PM;2019-05-08 10:56:12 PM;15;30;0.01000000;call\\n', 'julianr;441512373424;United Kingdom;2019-05-08 10:54:41 PM;2019-05-08 10:55:20 PM;39;60;0.02000000;call\\n', 'julianr;441512373424;United Kingdom;2019-05-08 10:37:34 PM;2019-05-08 10:40:36 PM;182;210;0.07000000;call\\n', 'julianr;441512373424;United Kingdom;2019-05-08 10:32:01 PM;2019-05-08 10:32:26 PM;25;30;0.01000000;call\\n', 'julianr;441512373424;United Kingdom;2019-05-08 10:09:41 PM;2019-05-08 10:09:46 PM;5;30;0.01000000;call\\n', 'julianr;441512373424;United Kingdom;2019-05-08 9:52:57 PM;2019-05-08 9:56:18 PM;201;210;0.07000000;call\\n', 'julianr;441512373424;United Kingdom;2019-05-08 9:40:31 PM;2019-05-08 9:49:14 PM;523;540;0.18000000;call\\n', 'julianr;441512373424;United Kingdom;2019-05-08 9:36:06 PM;2019-05-08 9:37:46 PM;100;120;0.04000000;call\\n', 'julianr;441512373424;United Kingdom;2019-05-08 9:31:48 PM;2019-05-08 9:32:01 PM;13;30;0.01000000;call\\n', 'julianr;441512373424;United Kingdom;2019-05-08 9:19:01 PM;2019-05-08 9:22:13 PM;192;210;0.07000000;call\\n', 'julianr;441512373424;United Kingdom;2019-05-08 9:03:23 PM;2019-05-08 9:04:14 PM;51;60;0.02000000;call\\n', 'julianr;441512373424;United Kingdom;2019-05-08 8:58:25 PM;2019-05-08 9:01:50 PM;205;210;0.07000000;call\\n', 'julianr;441512373424;United Kingdom;2019-05-08 8:48:27 PM;2019-05-08 8:51:27 PM;180;180;0.06000000;call\\n', 'julianr;441512373424;United Kingdom;2019-05-08 8:25:36 PM;2019-05-08 8:32:43 PM;427;450;0.15000000;call\\n', 'julianr;441512373424;United Kingdom;2019-05-08 6:31:00 PM;2019-05-08 6:31:04 PM;4;30;0.01000000;call\\n', 'julianr;441512373424;United Kingdom;2019-05-08 6:28:47 PM;2019-05-08 6:28:53 PM;6;30;0.01000000;call\\n', 'julianr;441512373424;United Kingdom;2019-05-08 6:16:55 PM;2019-05-08 6:17:00 PM;5;30;0.01000000;call\\n', 'julianr;441512373424;United Kingdom;2019-05-08 6:11:44 PM;2019-05-08 6:11:50 PM;6;30;0.01000000;call\\n', 'julianr;441512373424;United Kingdom;2019-05-08 6:07:52 PM;2019-05-08 6:08:38 PM;46;60;0.02000000;call\\n', 'julianr;441512373424;United Kingdom;2019-05-08 6:04:54 PM;2019-05-08 6:07:25 PM;151;180;0.06000000;call\\n', 'julianr;441512373424;United Kingdom;2019-05-08 6:03:01 PM;2019-05-08 6:04:29 PM;88;90;0.03000000;call\\n', 'julianr;15089701905;USA;2019-05-08 3:50:50 PM;2019-05-08 3:51:13 PM;23;30;0.01000000;call\\n', 'julianr;441512373424;United Kingdom;2019-05-07 9:53:15 PM;2019-05-07 10:01:23 PM;488;510;0.17000000;call\\n', 'julianr;441512373424;United Kingdom;2019-05-07 9:13:18 PM;2019-05-07 9:14:07 PM;49;60;0.02000000;call\\n', 'julianr;441512373424;United Kingdom;2019-05-07 9:11:33 PM;2019-05-07 9:12:35 PM;62;90;0.03000000;call\\n', 'julianr;15089701905;USA;2019-05-07 9:09:43 PM;2019-05-07 9:10:37 PM;54;60;0.02000000;call\\n', 'julianr;15089701905;USA;2019-05-07 9:08:12 PM;2019-05-07 9:09:10 PM;58;60;0.02000000;call\\n', 'julianr;15089701905;USA;2019-05-07 9:04:02 PM;2019-05-07 9:05:07 PM;65;90;0.03000000;call\\n', 'julianr;15089701905;USA;2019-05-07 9:02:07 PM;2019-05-07 9:03:09 PM;62;90;0.03000000;call\\n', 'julianr;15089701905;USA;2019-05-07 7:36:53 PM;2019-05-07 7:42:13 PM;320;330;0.11000000;call\\n', 'julianr;15089701905;USA;2019-05-07 7:16:26 PM;2019-05-07 7:27:48 PM;682;690;0.23000000;call\\n', 'julianr;15089701905;USA;2019-05-07 6:50:34 PM;2019-05-07 6:53:31 PM;177;180;0.06000000;call\\n', 'julianr;15089701905;USA;2019-05-07 6:03:32 PM;2019-05-07 6:04:36 PM;64;90;0.03000000;call\\n', 'julianr;15089701905;USA;2019-05-07 4:04:43 PM;2019-05-07 4:12:49 PM;486;510;0.17000000;call\\n', 'julianr;85231278062;Hong Kong;2019-05-06 9:00:57 PM;2019-05-06 9:01:05 PM;8;30;0.01580000;call\\n', 'julianr;85231278062;Hong Kong;2019-05-06 6:30:56 PM;2019-05-06 6:31:13 PM;17;30;0.01580000;call\\n', 'julianr;15089701905;USA;2019-05-06 5:48:44 PM;2019-05-06 5:49:08 PM;24;30;0.01000000;call\\n', 'julianr;15089701905;USA;2019-05-06 4:27:31 PM;2019-05-06 4:28:08 PM;37;60;0.02000000;call\\n', 'julianr;15089701905;USA;2019-05-06 4:26:55 PM;2019-05-06 4:27:04 PM;9;30;0.01000000;call\\n', 'julianr;85231278062;Hong Kong;2019-05-05 6:32:10 PM;2019-05-05 6:39:46 PM;456;480;0.25200000;call\\n', 'julianr;85231278062;Hong Kong;2019-05-05 6:18:47 PM;2019-05-05 6:19:47 PM;60;60;0.03150000;call\\n', 'julianr;15089701905;USA;2019-05-05 5:42:47 PM;2019-05-05 5:46:55 PM;248;270;0.09000000;call\\n', 'julianr;15089701905;USA;2019-05-05 4:56:52 PM;2019-05-05 4:59:13 PM;141;150;0.05000000;call\\n', 'julianr;15089701905;USA;2019-05-05 4:47:29 PM;2019-05-05 4:52:09 PM;280;300;0.10000000;call\\n', 'julianr;15089701905;USA;2019-05-05 4:16:33 PM;2019-05-05 4:26:15 PM;582;600;0.20000000;call\\n', 'julianr;15089701905;USA;2019-05-05 4:06:21 PM;2019-05-05 4:10:59 PM;278;300;0.10000000;call\\n', 'julianr;85231278062;Hong Kong;2019-05-03 12:52:16 AM;2019-05-03 12:53:21 AM;65;90;0.04720000;call\\n', 'julianr;85231278062;Hong Kong;2019-05-02 10:54:51 PM;2019-05-02 10:55:13 PM;22;30;0.01580000;call\\n', 'julianr;85231278062;Hong Kong;2019-05-02 10:25:21 PM;2019-05-02 10:25:32 PM;11;30;0.01580000;call\\n', 'julianr;85231278062;Hong Kong;2019-05-02 10:23:54 PM;2019-05-02 10:24:09 PM;15;30;0.01580000;call\\n', 'julianr;85231278062;Hong Kong;2019-05-02 7:28:47 PM;2019-05-02 7:32:10 PM;203;210;0.11020000;call\\n', 'julianr;85231278062;Hong Kong;2019-05-02 6:16:51 PM;2019-05-02 6:23:30 PM;399;420;0.22050000;call\\n', 'julianr;85231278062;Hong Kong;2019-05-01 11:55:59 PM;2019-05-01 11:56:04 PM;5;30;0.01580000;call\\n', 'julianr;85231278062;Hong Kong;2019-05-01 11:51:54 PM;2019-05-01 11:52:09 PM;15;30;0.01580000;call\\n', 'julianr;85231278062;Hong Kong;2019-05-01 11:07:54 PM;2019-05-01 11:08:24 PM;30;30;0.01580000;call\\n', 'julianr;85231278062;Hong Kong;2019-05-01 11:00:50 PM;2019-05-01 11:01:04 PM;14;30;0.01580000;call\\n', 'julianr;85231278062;Hong Kong;2019-05-01 10:58:53 PM;2019-05-01 10:59:14 PM;21;30;0.01580000;call\\n', 'julianr;85231278062;Hong Kong;2019-05-01 10:56:28 PM;2019-05-01 10:56:32 PM;4;30;0.01580000;call\\n', 'julianr;85231278062;Hong Kong;2019-05-01 7:53:17 PM;2019-05-01 7:53:30 PM;13;30;0.01580000;call\\n', 'julianr;85231278062;Hong Kong;2019-05-01 7:14:59 PM;2019-05-01 7:15:44 PM;45;60;0.03150000;call\\n', 'julianr;15089701905;USA;2019-05-01 5:07:41 PM;2019-05-01 5:18:39 PM;658;660;0.22000000;call\\n', 'julianr;15089701905;USA;2019-05-01 6:13:11 AM;2019-05-01 6:13:24 AM;13;30;0.01000000;call\\n', 'julianr;441512373424;United Kingdom;2019-05-01 6:11:10 AM;2019-05-01 6:11:31 AM;21;30;0.01000000;call\\n', 'julianr;441512373424;United Kingdom;2019-05-01 5:35:29 AM;2019-05-01 5:35:38 AM;9;30;0.01000000;call\\n', 'julianr;441512373424;United Kingdom;2019-05-01 5:26:41 AM;2019-05-01 5:27:09 AM;28;30;0.01000000;call\\n', 'julianr;15089701905;USA;2019-05-01 5:11:34 AM;2019-05-01 5:11:53 AM;19;30;0.01000000;call\\n', 'julianr;441512373424;United Kingdom;2019-05-01 5:09:27 AM;2019-05-01 5:09:28 AM;1;30;0.01000000;call\\n', 'julianr;441512373424;United Kingdom;2019-05-01 5:08:27 AM;2019-05-01 5:08:28 AM;1;30;0.01000000;call\\n', 'julianr;61282221200;Australia;2019-05-01 5:07:16 AM;2019-05-01 5:07:23 AM;7;30;0.01080000;call\\n', 'julianr;85231278062;Hong Kong;2019-05-01 4:14:04 AM;9999-12-31 11:59:59 PM;0;0;0.00000000;failed\\n', 'julianr;85231278062;Hong Kong;2019-05-01 4:13:39 AM;9999-12-31 11:59:59 PM;0;0;0.00000000;failed\\n', 'julianr;85231278062;Hong Kong;2019-05-01 4:09:48 AM;2019-05-01 4:09:53 AM;5;30;0.01580000;call\\n', 'julianr;85231278062;Hong Kong;2019-05-01 4:08:00 AM;2019-05-01 4:08:21 AM;21;30;0.01580000;call\\n', 'CallerId;CalledNumber;TariffDescription;CallStart;CallEnd;Duration;EffectiveDuration;Cost;calltype\\n']\n"
     ]
    }
   ],
   "source": [
    "with open(\"billing.csv.\") as f:\n",
    "    print(list(reversed(list(f))))"
   ]
  },
  {
   "cell_type": "code",
   "execution_count": 5,
   "metadata": {},
   "outputs": [],
   "source": [
    "lst=[\"my\",\"name\",\"is\",\"khan\"]"
   ]
  },
  {
   "cell_type": "raw",
   "metadata": {},
   "source": []
  },
  {
   "cell_type": "code",
   "execution_count": 12,
   "metadata": {},
   "outputs": [],
   "source": [
    "str=[]\n",
    "for i in range(len(lst)-1,-1,-1):\n",
    "    str.append(lst[i])"
   ]
  },
  {
   "cell_type": "code",
   "execution_count": 13,
   "metadata": {},
   "outputs": [
    {
     "data": {
      "text/plain": [
       "['khan', 'is', 'name', 'my']"
      ]
     },
     "execution_count": 13,
     "metadata": {},
     "output_type": "execute_result"
    }
   ],
   "source": [
    "str"
   ]
  },
  {
   "cell_type": "code",
   "execution_count": 14,
   "metadata": {},
   "outputs": [],
   "source": [
    "str=\"my name is khan\""
   ]
  },
  {
   "cell_type": "code",
   "execution_count": 15,
   "metadata": {},
   "outputs": [
    {
     "data": {
      "text/plain": [
       "'nahk si eman ym'"
      ]
     },
     "execution_count": 15,
     "metadata": {},
     "output_type": "execute_result"
    }
   ],
   "source": [
    "str[::-1]"
   ]
  },
  {
   "cell_type": "code",
   "execution_count": 19,
   "metadata": {},
   "outputs": [
    {
     "data": {
      "text/plain": [
       "{' ', 'a', 'e', 'h', 'i', 'k', 'm', 'n', 's', 'y'}"
      ]
     },
     "execution_count": 19,
     "metadata": {},
     "output_type": "execute_result"
    }
   ],
   "source": [
    "set(reversed(str))"
   ]
  },
  {
   "cell_type": "code",
   "execution_count": 68,
   "metadata": {},
   "outputs": [],
   "source": [
    "f=open(\"billing.csv\")"
   ]
  },
  {
   "cell_type": "code",
   "execution_count": 69,
   "metadata": {},
   "outputs": [],
   "source": [
    "lst=f.readlines()"
   ]
  },
  {
   "cell_type": "code",
   "execution_count": 71,
   "metadata": {},
   "outputs": [
    {
     "data": {
      "text/plain": [
       "282"
      ]
     },
     "execution_count": 71,
     "metadata": {},
     "output_type": "execute_result"
    }
   ],
   "source": [
    "len(lst)"
   ]
  },
  {
   "cell_type": "code",
   "execution_count": 86,
   "metadata": {},
   "outputs": [
    {
     "name": "stdout",
     "output_type": "stream",
     "text": [
      "0\n",
      "1\n",
      "2\n",
      "3\n",
      "4\n",
      "5\n",
      "6\n",
      "7\n",
      "8\n",
      "9\n",
      "10\n",
      "11\n",
      "12\n",
      "13\n",
      "14\n",
      "15\n",
      "16\n",
      "17\n",
      "18\n",
      "19\n",
      "20\n",
      "21\n",
      "22\n",
      "23\n",
      "24\n",
      "25\n",
      "26\n",
      "27\n",
      "28\n",
      "29\n",
      "30\n",
      "31\n",
      "32\n",
      "33\n",
      "34\n",
      "35\n",
      "36\n",
      "37\n",
      "38\n",
      "39\n",
      "40\n",
      "41\n",
      "42\n",
      "43\n",
      "44\n",
      "45\n",
      "46\n",
      "47\n",
      "48\n",
      "49\n",
      "50\n",
      "51\n",
      "52\n",
      "53\n",
      "54\n",
      "55\n",
      "56\n",
      "57\n",
      "58\n",
      "59\n",
      "60\n",
      "61\n",
      "62\n",
      "63\n",
      "64\n",
      "65\n",
      "66\n",
      "67\n",
      "68\n",
      "69\n",
      "70\n",
      "71\n",
      "72\n",
      "73\n",
      "74\n",
      "75\n",
      "76\n",
      "77\n",
      "78\n",
      "79\n",
      "80\n",
      "81\n",
      "82\n",
      "83\n",
      "84\n",
      "85\n",
      "86\n",
      "87\n",
      "88\n",
      "89\n",
      "90\n",
      "91\n",
      "92\n",
      "93\n",
      "94\n",
      "95\n",
      "96\n",
      "97\n",
      "98\n",
      "99\n",
      "100\n",
      "101\n",
      "102\n",
      "103\n",
      "104\n",
      "105\n",
      "106\n",
      "107\n",
      "108\n",
      "109\n",
      "110\n",
      "111\n",
      "112\n",
      "113\n",
      "114\n",
      "115\n",
      "116\n",
      "117\n",
      "118\n",
      "119\n",
      "120\n",
      "121\n",
      "122\n",
      "123\n",
      "124\n",
      "125\n",
      "126\n",
      "127\n",
      "128\n",
      "129\n",
      "130\n",
      "131\n",
      "132\n",
      "133\n",
      "134\n",
      "135\n",
      "136\n",
      "137\n",
      "138\n",
      "139\n",
      "140\n",
      "141\n",
      "142\n",
      "143\n",
      "144\n",
      "145\n",
      "146\n",
      "147\n",
      "148\n",
      "149\n",
      "150\n",
      "151\n",
      "152\n",
      "153\n",
      "154\n",
      "155\n",
      "156\n",
      "157\n",
      "158\n",
      "159\n",
      "160\n",
      "161\n",
      "162\n",
      "163\n",
      "164\n",
      "165\n",
      "166\n",
      "167\n",
      "168\n",
      "169\n",
      "170\n",
      "171\n",
      "172\n",
      "173\n",
      "174\n",
      "175\n",
      "176\n",
      "177\n",
      "178\n",
      "179\n",
      "180\n",
      "181\n",
      "182\n",
      "183\n",
      "184\n",
      "185\n",
      "186\n",
      "187\n",
      "188\n",
      "189\n",
      "190\n",
      "191\n",
      "192\n",
      "193\n",
      "194\n",
      "195\n",
      "196\n",
      "197\n",
      "198\n",
      "199\n",
      "200\n",
      "201\n",
      "202\n",
      "203\n",
      "204\n",
      "205\n",
      "206\n",
      "207\n",
      "208\n",
      "209\n",
      "210\n",
      "211\n",
      "212\n",
      "213\n",
      "214\n",
      "215\n",
      "216\n",
      "217\n",
      "218\n",
      "219\n",
      "220\n",
      "221\n",
      "222\n",
      "223\n",
      "224\n",
      "225\n",
      "226\n",
      "227\n",
      "228\n",
      "229\n",
      "230\n",
      "231\n",
      "232\n",
      "233\n",
      "234\n",
      "235\n",
      "236\n",
      "237\n",
      "238\n",
      "239\n",
      "240\n",
      "241\n",
      "242\n",
      "243\n",
      "244\n",
      "245\n",
      "246\n",
      "247\n",
      "248\n",
      "249\n",
      "250\n",
      "251\n",
      "252\n",
      "253\n",
      "254\n",
      "255\n",
      "256\n",
      "257\n",
      "258\n",
      "259\n",
      "260\n",
      "261\n",
      "262\n",
      "263\n",
      "264\n",
      "265\n",
      "266\n",
      "267\n",
      "268\n",
      "269\n",
      "270\n",
      "271\n",
      "272\n",
      "273\n",
      "274\n",
      "275\n",
      "276\n",
      "277\n",
      "278\n",
      "279\n",
      "280\n",
      "281\n"
     ]
    }
   ],
   "source": [
    "with open(\"billing.csv\") as f:\n",
    "    for no,line in enumerate(f):\n",
    "        print(no)"
   ]
  },
  {
   "cell_type": "code",
   "execution_count": 87,
   "metadata": {},
   "outputs": [],
   "source": [
    "lst=[1,3,4,5]"
   ]
  },
  {
   "cell_type": "code",
   "execution_count": 93,
   "metadata": {},
   "outputs": [
    {
     "data": {
      "text/plain": [
       "[5, 4, 3, 1]"
      ]
     },
     "execution_count": 93,
     "metadata": {},
     "output_type": "execute_result"
    }
   ],
   "source": [
    "sorted(lst)[::-1]"
   ]
  },
  {
   "cell_type": "code",
   "execution_count": 94,
   "metadata": {},
   "outputs": [
    {
     "data": {
      "text/plain": [
       "[1, 3, 4, 5]"
      ]
     },
     "execution_count": 94,
     "metadata": {},
     "output_type": "execute_result"
    }
   ],
   "source": [
    "lst"
   ]
  },
  {
   "cell_type": "code",
   "execution_count": 7,
   "metadata": {},
   "outputs": [
    {
     "data": {
      "text/plain": [
       "[False, True, False, True]"
      ]
     },
     "execution_count": 7,
     "metadata": {},
     "output_type": "execute_result"
    }
   ],
   "source": [
    "list(map(lambda x:x%2==0,[1,2,3,4]))"
   ]
  },
  {
   "cell_type": "code",
   "execution_count": 8,
   "metadata": {},
   "outputs": [],
   "source": [
    "seq=[5,7,9,3,4,1,2,8]"
   ]
  },
  {
   "cell_type": "code",
   "execution_count": 9,
   "metadata": {},
   "outputs": [],
   "source": [
    "for i in range(len(seq)-1,0,-1):\n",
    "    for j in range(i):\n",
    "        if seq[j]>seq[j+1]:\n",
    "            temp=seq[j]\n",
    "            seq[j]=seq[j+1]\n",
    "            seq[j+1]=temp"
   ]
  },
  {
   "cell_type": "code",
   "execution_count": 10,
   "metadata": {},
   "outputs": [
    {
     "data": {
      "text/plain": [
       "[1, 2, 3, 4, 5, 7, 8, 9]"
      ]
     },
     "execution_count": 10,
     "metadata": {},
     "output_type": "execute_result"
    }
   ],
   "source": [
    "seq"
   ]
  },
  {
   "cell_type": "code",
   "execution_count": 11,
   "metadata": {},
   "outputs": [
    {
     "name": "stdout",
     "output_type": "stream",
     "text": [
      "0\n",
      "1\n",
      "2\n",
      "3\n",
      "4\n",
      "5\n",
      "6\n",
      "7\n"
     ]
    }
   ],
   "source": [
    "for index,value in enumerate(seq):\n",
    "    print(index)"
   ]
  },
  {
   "cell_type": "code",
   "execution_count": 15,
   "metadata": {},
   "outputs": [
    {
     "data": {
      "text/plain": [
       "{(0, 1), (1, 2), (2, 3), (3, 4), (4, 5), (5, 7), (6, 8), (7, 9)}"
      ]
     },
     "execution_count": 15,
     "metadata": {},
     "output_type": "execute_result"
    }
   ],
   "source": [
    "set(enumerate(seq))"
   ]
  },
  {
   "cell_type": "code",
   "execution_count": 17,
   "metadata": {},
   "outputs": [
    {
     "data": {
      "text/plain": [
       "[1, 3, 5, 8]"
      ]
     },
     "execution_count": 17,
     "metadata": {},
     "output_type": "execute_result"
    }
   ],
   "source": [
    "[seq[i] for i in range(0,len(seq),2) if i%2==0]"
   ]
  },
  {
   "cell_type": "code",
   "execution_count": 66,
   "metadata": {},
   "outputs": [],
   "source": [
    "import numpy as np"
   ]
  },
  {
   "cell_type": "code",
   "execution_count": 67,
   "metadata": {},
   "outputs": [],
   "source": [
    "seq=[5,7,9,3,4,1,2,8]"
   ]
  },
  {
   "cell_type": "code",
   "execution_count": 68,
   "metadata": {},
   "outputs": [],
   "source": [
    "arr=np.array(seq)"
   ]
  },
  {
   "cell_type": "code",
   "execution_count": 69,
   "metadata": {},
   "outputs": [
    {
     "data": {
      "text/plain": [
       "array([5, 7, 9, 3, 4, 1, 2, 8])"
      ]
     },
     "execution_count": 69,
     "metadata": {},
     "output_type": "execute_result"
    }
   ],
   "source": [
    "arr"
   ]
  },
  {
   "cell_type": "code",
   "execution_count": 70,
   "metadata": {},
   "outputs": [],
   "source": [
    "arr.sort()"
   ]
  },
  {
   "cell_type": "code",
   "execution_count": null,
   "metadata": {},
   "outputs": [],
   "source": []
  },
  {
   "cell_type": "code",
   "execution_count": 73,
   "metadata": {},
   "outputs": [
    {
     "data": {
      "text/plain": [
       "array([9, 8, 7])"
      ]
     },
     "execution_count": 73,
     "metadata": {},
     "output_type": "execute_result"
    }
   ],
   "source": [
    "arr[::-1][:3]"
   ]
  },
  {
   "cell_type": "code",
   "execution_count": 57,
   "metadata": {},
   "outputs": [],
   "source": [
    "m.reverse()"
   ]
  },
  {
   "cell_type": "code",
   "execution_count": 58,
   "metadata": {},
   "outputs": [
    {
     "data": {
      "text/plain": [
       "[7, 6, 5, 4, 3, 2, 1, 0]"
      ]
     },
     "execution_count": 58,
     "metadata": {},
     "output_type": "execute_result"
    }
   ],
   "source": [
    "m"
   ]
  },
  {
   "cell_type": "code",
   "execution_count": 52,
   "metadata": {},
   "outputs": [
    {
     "data": {
      "text/plain": [
       "array([1, 2, 3, 4, 5, 7, 8, 9])"
      ]
     },
     "execution_count": 52,
     "metadata": {},
     "output_type": "execute_result"
    }
   ],
   "source": [
    "arr"
   ]
  },
  {
   "cell_type": "code",
   "execution_count": 80,
   "metadata": {},
   "outputs": [],
   "source": [
    "seq.sort()"
   ]
  },
  {
   "cell_type": "code",
   "execution_count": 82,
   "metadata": {},
   "outputs": [
    {
     "data": {
      "text/plain": [
       "[9, 8, 7, 5, 4, 3, 2, 1]"
      ]
     },
     "execution_count": 82,
     "metadata": {},
     "output_type": "execute_result"
    }
   ],
   "source": [
    "seq[::-1]"
   ]
  },
  {
   "cell_type": "code",
   "execution_count": 41,
   "metadata": {},
   "outputs": [],
   "source": [
    "str=\"My name is is aa aa\""
   ]
  },
  {
   "cell_type": "code",
   "execution_count": 42,
   "metadata": {},
   "outputs": [],
   "source": [
    "lst=str.split()"
   ]
  },
  {
   "cell_type": "code",
   "execution_count": 44,
   "metadata": {},
   "outputs": [
    {
     "name": "stdout",
     "output_type": "stream",
     "text": [
      "{'My': 1, 'name': 1, 'is': 2, 'aa': 2}\n"
     ]
    }
   ],
   "source": [
    "d={}\n",
    "for i in lst:\n",
    "    if i in d:\n",
    "        d[i]+=1\n",
    "    else:\n",
    "        d[i]=1\n",
    "print(d)"
   ]
  },
  {
   "cell_type": "code",
   "execution_count": 47,
   "metadata": {},
   "outputs": [
    {
     "name": "stdout",
     "output_type": "stream",
     "text": [
      "is\n",
      "aa\n"
     ]
    }
   ],
   "source": [
    "for i in d:\n",
    "    if d[i]>1:\n",
    "        print(i)"
   ]
  },
  {
   "cell_type": "code",
   "execution_count": 5,
   "metadata": {},
   "outputs": [],
   "source": [
    "import pandas as pd"
   ]
  },
  {
   "cell_type": "code",
   "execution_count": 7,
   "metadata": {},
   "outputs": [],
   "source": [
    "df=pd.DataFrame(list(d.items()))"
   ]
  },
  {
   "cell_type": "code",
   "execution_count": 8,
   "metadata": {},
   "outputs": [
    {
     "data": {
      "text/html": [
       "<div>\n",
       "<style scoped>\n",
       "    .dataframe tbody tr th:only-of-type {\n",
       "        vertical-align: middle;\n",
       "    }\n",
       "\n",
       "    .dataframe tbody tr th {\n",
       "        vertical-align: top;\n",
       "    }\n",
       "\n",
       "    .dataframe thead th {\n",
       "        text-align: right;\n",
       "    }\n",
       "</style>\n",
       "<table border=\"1\" class=\"dataframe\">\n",
       "  <thead>\n",
       "    <tr style=\"text-align: right;\">\n",
       "      <th></th>\n",
       "      <th>0</th>\n",
       "      <th>1</th>\n",
       "    </tr>\n",
       "  </thead>\n",
       "  <tbody>\n",
       "    <tr>\n",
       "      <th>0</th>\n",
       "      <td>My</td>\n",
       "      <td>1</td>\n",
       "    </tr>\n",
       "    <tr>\n",
       "      <th>1</th>\n",
       "      <td>name</td>\n",
       "      <td>1</td>\n",
       "    </tr>\n",
       "    <tr>\n",
       "      <th>2</th>\n",
       "      <td>is</td>\n",
       "      <td>1</td>\n",
       "    </tr>\n",
       "    <tr>\n",
       "      <th>3</th>\n",
       "      <td>aa</td>\n",
       "      <td>2</td>\n",
       "    </tr>\n",
       "  </tbody>\n",
       "</table>\n",
       "</div>"
      ],
      "text/plain": [
       "      0  1\n",
       "0    My  1\n",
       "1  name  1\n",
       "2    is  1\n",
       "3    aa  2"
      ]
     },
     "execution_count": 8,
     "metadata": {},
     "output_type": "execute_result"
    }
   ],
   "source": [
    "df"
   ]
  },
  {
   "cell_type": "code",
   "execution_count": 9,
   "metadata": {},
   "outputs": [],
   "source": [
    "hist(df)"
   ]
  },
  {
   "cell_type": "code",
   "execution_count": 10,
   "metadata": {},
   "outputs": [
    {
     "data": {
      "text/plain": [
       "array([[<matplotlib.axes._subplots.AxesSubplot object at 0x000001A276733CF8>]],\n",
       "      dtype=object)"
      ]
     },
     "execution_count": 10,
     "metadata": {},
     "output_type": "execute_result"
    }
   ],
   "source": [
    "df.hist()"
   ]
  },
  {
   "cell_type": "code",
   "execution_count": 11,
   "metadata": {},
   "outputs": [
    {
     "data": {
      "text/plain": [
       "array([[<matplotlib.axes._subplots.AxesSubplot object at 0x000001A276733CC0>]],\n",
       "      dtype=object)"
      ]
     },
     "execution_count": 11,
     "metadata": {},
     "output_type": "execute_result"
    },
    {
     "data": {
      "image/png": "[encoded data removed]",
      "text/plain": [
       "<Figure size 432x288 with 1 Axes>"
      ]
     },
     "metadata": {
      "needs_background": "light"
     },
     "output_type": "display_data"
    }
   ],
   "source": [
    "df.hist()"
   ]
  },
  {
   "cell_type": "code",
   "execution_count": 12,
   "metadata": {},
   "outputs": [],
   "source": [
    "import re"
   ]
  },
  {
   "cell_type": "code",
   "execution_count": 13,
   "metadata": {},
   "outputs": [],
   "source": [
    "str=re.sub(\"a\",\"*\",str)"
   ]
  },
  {
   "cell_type": "code",
   "execution_count": 14,
   "metadata": {},
   "outputs": [
    {
     "data": {
      "text/plain": [
       "'My n*me is ** **'"
      ]
     },
     "execution_count": 14,
     "metadata": {},
     "output_type": "execute_result"
    }
   ],
   "source": [
    "str"
   ]
  },
  {
   "cell_type": "code",
   "execution_count": 17,
   "metadata": {},
   "outputs": [
    {
     "name": "stdout",
     "output_type": "stream",
     "text": [
      "False\n"
     ]
    }
   ],
   "source": [
    "str1='dad'\n",
    "str2='ad'\n",
    "if sorted(str1)==sorted(str2):\n",
    "    print(True)\n",
    "else:\n",
    "    print(False)"
   ]
  },
  {
   "cell_type": "code",
   "execution_count": 18,
   "metadata": {},
   "outputs": [
    {
     "data": {
      "text/plain": [
       "['a', 'd', 'd']"
      ]
     },
     "execution_count": 18,
     "metadata": {},
     "output_type": "execute_result"
    }
   ],
   "source": [
    "sorted(str1)"
   ]
  },
  {
   "cell_type": "code",
   "execution_count": 19,
   "metadata": {},
   "outputs": [
    {
     "data": {
      "text/plain": [
       "['a', 'd']"
      ]
     },
     "execution_count": 19,
     "metadata": {},
     "output_type": "execute_result"
    }
   ],
   "source": [
    "sorted(str2)"
   ]
  },
  {
   "cell_type": "code",
   "execution_count": 21,
   "metadata": {},
   "outputs": [
    {
     "data": {
      "text/plain": [
       "<reversed at 0x1a26fb75e10>"
      ]
     },
     "execution_count": 21,
     "metadata": {},
     "output_type": "execute_result"
    }
   ],
   "source": [
    "reversed(str1)"
   ]
  },
  {
   "cell_type": "code",
   "execution_count": 23,
   "metadata": {},
   "outputs": [],
   "source": [
    "str=\"My name is khan\".split()"
   ]
  },
  {
   "cell_type": "raw",
   "metadata": {},
   "source": []
  },
  {
   "cell_type": "code",
   "execution_count": 24,
   "metadata": {},
   "outputs": [
    {
     "data": {
      "text/plain": [
       "['My', 'name', 'is', 'khan']"
      ]
     },
     "execution_count": 24,
     "metadata": {},
     "output_type": "execute_result"
    }
   ],
   "source": [
    "str"
   ]
  },
  {
   "cell_type": "code",
   "execution_count": 27,
   "metadata": {},
   "outputs": [
    {
     "data": {
      "text/plain": [
       "['n', 'a', 'h', 'k', ' ', 's', 'i', ' ', 'e', 'm', 'a', 'n', ' ', 'y', 'M']"
      ]
     },
     "execution_count": 27,
     "metadata": {},
     "output_type": "execute_result"
    }
   ],
   "source": [
    "list(reversed(\"My name is khan\"))"
   ]
  },
  {
   "cell_type": "code",
   "execution_count": 36,
   "metadata": {},
   "outputs": [],
   "source": [
    "str1=\"dap\""
   ]
  },
  {
   "cell_type": "code",
   "execution_count": 37,
   "metadata": {},
   "outputs": [
    {
     "data": {
      "text/plain": [
       "False"
      ]
     },
     "execution_count": 37,
     "metadata": {},
     "output_type": "execute_result"
    }
   ],
   "source": [
    "str1==str1[::-1]"
   ]
  },
  {
   "cell_type": "code",
   "execution_count": 33,
   "metadata": {},
   "outputs": [
    {
     "data": {
      "text/plain": [
       "['d', 'a', 'd']"
      ]
     },
     "execution_count": 33,
     "metadata": {},
     "output_type": "execute_result"
    }
   ],
   "source": [
    "list(reversed(str1))"
   ]
  },
  {
   "cell_type": "code",
   "execution_count": 38,
   "metadata": {},
   "outputs": [
    {
     "data": {
      "text/plain": [
       "'pad'"
      ]
     },
     "execution_count": 38,
     "metadata": {},
     "output_type": "execute_result"
    }
   ],
   "source": [
    "str1[::-1]"
   ]
  },
  {
   "cell_type": "code",
   "execution_count": 52,
   "metadata": {},
   "outputs": [],
   "source": [
    "lst=\"my name is khan khan\".split()"
   ]
  },
  {
   "cell_type": "code",
   "execution_count": 53,
   "metadata": {},
   "outputs": [
    {
     "data": {
      "text/plain": [
       "['my', 'name', 'is', 'khan', 'khan']"
      ]
     },
     "execution_count": 53,
     "metadata": {},
     "output_type": "execute_result"
    }
   ],
   "source": [
    "lst"
   ]
  },
  {
   "cell_type": "code",
   "execution_count": 54,
   "metadata": {},
   "outputs": [
    {
     "name": "stdout",
     "output_type": "stream",
     "text": [
      "khan\n"
     ]
    }
   ],
   "source": [
    "seen_words =[]\n",
    "for i in lst:\n",
    "    if i in seen_words:\n",
    "        print(i)\n",
    "        break\n",
    "    else:\n",
    "        seen_words.append(i)"
   ]
  },
  {
   "cell_type": "code",
   "execution_count": 60,
   "metadata": {},
   "outputs": [],
   "source": [
    "first=0\n",
    "second=1\n",
    "fb=[]\n",
    "fb.append(first)\n",
    "fb.append(second)\n",
    "for i in range(10-2):\n",
    "    third=first+second\n",
    "    first=second\n",
    "    second= third  \n",
    "    fb.append(third)\n",
    "     "
   ]
  },
  {
   "cell_type": "code",
   "execution_count": 61,
   "metadata": {},
   "outputs": [
    {
     "data": {
      "text/plain": [
       "[0, 1, 1, 2, 3, 5, 8, 13, 21, 34]"
      ]
     },
     "execution_count": 61,
     "metadata": {},
     "output_type": "execute_result"
    }
   ],
   "source": [
    "fb"
   ]
  },
  {
   "cell_type": "code",
   "execution_count": 69,
   "metadata": {},
   "outputs": [
    {
     "data": {
      "text/plain": [
       "{'a': 2, 'b': [1, 2, 3, 4]}"
      ]
     },
     "execution_count": 69,
     "metadata": {},
     "output_type": "execute_result"
    }
   ],
   "source": [
    "dict(a=2,b=[1,2,3,4])"
   ]
  },
  {
   "cell_type": "code",
   "execution_count": 79,
   "metadata": {},
   "outputs": [],
   "source": [
    "a=map(lambda x:x*2,(5,6))"
   ]
  },
  {
   "cell_type": "code",
   "execution_count": 80,
   "metadata": {},
   "outputs": [
    {
     "data": {
      "text/plain": [
       "(10, 12)"
      ]
     },
     "execution_count": 80,
     "metadata": {},
     "output_type": "execute_result"
    }
   ],
   "source": [
    "tuple(a)"
   ]
  },
  {
   "cell_type": "code",
   "execution_count": 83,
   "metadata": {},
   "outputs": [],
   "source": [
    "str='dad'"
   ]
  },
  {
   "cell_type": "code",
   "execution_count": 85,
   "metadata": {},
   "outputs": [
    {
     "data": {
      "text/plain": [
       "True"
      ]
     },
     "execution_count": 85,
     "metadata": {},
     "output_type": "execute_result"
    }
   ],
   "source": [
    "list(str)==list(reversed(str))"
   ]
  },
  {
   "cell_type": "code",
   "execution_count": 87,
   "metadata": {},
   "outputs": [
    {
     "data": {
      "text/plain": [
       "'Dad'"
      ]
     },
     "execution_count": 87,
     "metadata": {},
     "output_type": "execute_result"
    }
   ],
   "source": [
    "str.capitalize()"
   ]
  },
  {
   "cell_type": "code",
   "execution_count": 88,
   "metadata": {},
   "outputs": [
    {
     "data": {
      "text/plain": [
       "'dad'"
      ]
     },
     "execution_count": 88,
     "metadata": {},
     "output_type": "execute_result"
    }
   ],
   "source": [
    "str"
   ]
  },
  {
   "cell_type": "code",
   "execution_count": 89,
   "metadata": {},
   "outputs": [
    {
     "data": {
      "text/plain": [
       "'d*d'"
      ]
     },
     "execution_count": 89,
     "metadata": {},
     "output_type": "execute_result"
    }
   ],
   "source": [
    "str.replace(\"a\",\"*\",)"
   ]
  },
  {
   "cell_type": "code",
   "execution_count": 90,
   "metadata": {},
   "outputs": [
    {
     "data": {
      "text/plain": [
       "'dad'"
      ]
     },
     "execution_count": 90,
     "metadata": {},
     "output_type": "execute_result"
    }
   ],
   "source": [
    "str"
   ]
  },
  {
   "cell_type": "code",
   "execution_count": 93,
   "metadata": {},
   "outputs": [
    {
     "ename": "TypeError",
     "evalue": "print() argument after * must be an iterable, not int",
     "output_type": "error",
     "traceback": [
      "\u001b[1;31m---------------------------------------------------------------------------\u001b[0m",
      "\u001b[1;31mTypeError\u001b[0m                                 Traceback (most recent call last)",
      "\u001b[1;32m<ipython-input-93-94a0ceac8344>\u001b[0m in \u001b[0;36m<module>\u001b[1;34m\u001b[0m\n\u001b[1;32m----> 1\u001b[1;33m \u001b[0mprint\u001b[0m\u001b[1;33m(\u001b[0m\u001b[1;33m*\u001b[0m\u001b[1;36m2\u001b[0m\u001b[1;33m)\u001b[0m\u001b[1;33m\u001b[0m\u001b[1;33m\u001b[0m\u001b[0m\n\u001b[0m",
      "\u001b[1;31mTypeError\u001b[0m: print() argument after * must be an iterable, not int"
     ]
    }
   ],
   "source": [
    "print(*)"
   ]
  },
  {
   "cell_type": "code",
   "execution_count": 98,
   "metadata": {},
   "outputs": [
    {
     "data": {
      "text/plain": [
       "['CallerId;CalledNumber;TariffDescription;CallStart;CallEnd;Duration;EffectiveDuration;Cost;calltype\\n',\n",
       " 'julianr;85231278062;Hong Kong;2019-05-01 4:08:00 AM;2019-05-01 4:08:21 AM;21;30;0.01580000;call\\n',\n",
       " 'julianr;85231278062;Hong Kong;2019-05-01 4:09:48 AM;2019-05-01 4:09:53 AM;5;30;0.01580000;call\\n',\n",
       " 'julianr;85231278062;Hong Kong;2019-05-01 4:13:39 AM;9999-12-31 11:59:59 PM;0;0;0.00000000;failed\\n',\n",
       " 'julianr;85231278062;Hong Kong;2019-05-01 4:14:04 AM;9999-12-31 11:59:59 PM;0;0;0.00000000;failed\\n',\n",
       " 'julianr;61282221200;Australia;2019-05-01 5:07:16 AM;2019-05-01 5:07:23 AM;7;30;0.01080000;call\\n',\n",
       " 'julianr;441512373424;United Kingdom;2019-05-01 5:08:27 AM;2019-05-01 5:08:28 AM;1;30;0.01000000;call\\n',\n",
       " 'julianr;441512373424;United Kingdom;2019-05-01 5:09:27 AM;2019-05-01 5:09:28 AM;1;30;0.01000000;call\\n',\n",
       " 'julianr;15089701905;USA;2019-05-01 5:11:34 AM;2019-05-01 5:11:53 AM;19;30;0.01000000;call\\n',\n",
       " 'julianr;441512373424;United Kingdom;2019-05-01 5:26:41 AM;2019-05-01 5:27:09 AM;28;30;0.01000000;call\\n',\n",
       " 'julianr;441512373424;United Kingdom;2019-05-01 5:35:29 AM;2019-05-01 5:35:38 AM;9;30;0.01000000;call\\n',\n",
       " 'julianr;441512373424;United Kingdom;2019-05-01 6:11:10 AM;2019-05-01 6:11:31 AM;21;30;0.01000000;call\\n',\n",
       " 'julianr;15089701905;USA;2019-05-01 6:13:11 AM;2019-05-01 6:13:24 AM;13;30;0.01000000;call\\n',\n",
       " 'julianr;15089701905;USA;2019-05-01 5:07:41 PM;2019-05-01 5:18:39 PM;658;660;0.22000000;call\\n',\n",
       " 'julianr;85231278062;Hong Kong;2019-05-01 7:14:59 PM;2019-05-01 7:15:44 PM;45;60;0.03150000;call\\n',\n",
       " 'julianr;85231278062;Hong Kong;2019-05-01 7:53:17 PM;2019-05-01 7:53:30 PM;13;30;0.01580000;call\\n',\n",
       " 'julianr;85231278062;Hong Kong;2019-05-01 10:56:28 PM;2019-05-01 10:56:32 PM;4;30;0.01580000;call\\n',\n",
       " 'julianr;85231278062;Hong Kong;2019-05-01 10:58:53 PM;2019-05-01 10:59:14 PM;21;30;0.01580000;call\\n',\n",
       " 'julianr;85231278062;Hong Kong;2019-05-01 11:00:50 PM;2019-05-01 11:01:04 PM;14;30;0.01580000;call\\n',\n",
       " 'julianr;85231278062;Hong Kong;2019-05-01 11:07:54 PM;2019-05-01 11:08:24 PM;30;30;0.01580000;call\\n',\n",
       " 'julianr;85231278062;Hong Kong;2019-05-01 11:51:54 PM;2019-05-01 11:52:09 PM;15;30;0.01580000;call\\n',\n",
       " 'julianr;85231278062;Hong Kong;2019-05-01 11:55:59 PM;2019-05-01 11:56:04 PM;5;30;0.01580000;call\\n',\n",
       " 'julianr;85231278062;Hong Kong;2019-05-02 6:16:51 PM;2019-05-02 6:23:30 PM;399;420;0.22050000;call\\n',\n",
       " 'julianr;85231278062;Hong Kong;2019-05-02 7:28:47 PM;2019-05-02 7:32:10 PM;203;210;0.11020000;call\\n',\n",
       " 'julianr;85231278062;Hong Kong;2019-05-02 10:23:54 PM;2019-05-02 10:24:09 PM;15;30;0.01580000;call\\n',\n",
       " 'julianr;85231278062;Hong Kong;2019-05-02 10:25:21 PM;2019-05-02 10:25:32 PM;11;30;0.01580000;call\\n',\n",
       " 'julianr;85231278062;Hong Kong;2019-05-02 10:54:51 PM;2019-05-02 10:55:13 PM;22;30;0.01580000;call\\n',\n",
       " 'julianr;85231278062;Hong Kong;2019-05-03 12:52:16 AM;2019-05-03 12:53:21 AM;65;90;0.04720000;call\\n',\n",
       " 'julianr;15089701905;USA;2019-05-05 4:06:21 PM;2019-05-05 4:10:59 PM;278;300;0.10000000;call\\n',\n",
       " 'julianr;15089701905;USA;2019-05-05 4:16:33 PM;2019-05-05 4:26:15 PM;582;600;0.20000000;call\\n',\n",
       " 'julianr;15089701905;USA;2019-05-05 4:47:29 PM;2019-05-05 4:52:09 PM;280;300;0.10000000;call\\n',\n",
       " 'julianr;15089701905;USA;2019-05-05 4:56:52 PM;2019-05-05 4:59:13 PM;141;150;0.05000000;call\\n',\n",
       " 'julianr;15089701905;USA;2019-05-05 5:42:47 PM;2019-05-05 5:46:55 PM;248;270;0.09000000;call\\n',\n",
       " 'julianr;85231278062;Hong Kong;2019-05-05 6:18:47 PM;2019-05-05 6:19:47 PM;60;60;0.03150000;call\\n',\n",
       " 'julianr;85231278062;Hong Kong;2019-05-05 6:32:10 PM;2019-05-05 6:39:46 PM;456;480;0.25200000;call\\n',\n",
       " 'julianr;15089701905;USA;2019-05-06 4:26:55 PM;2019-05-06 4:27:04 PM;9;30;0.01000000;call\\n',\n",
       " 'julianr;15089701905;USA;2019-05-06 4:27:31 PM;2019-05-06 4:28:08 PM;37;60;0.02000000;call\\n',\n",
       " 'julianr;15089701905;USA;2019-05-06 5:48:44 PM;2019-05-06 5:49:08 PM;24;30;0.01000000;call\\n',\n",
       " 'julianr;85231278062;Hong Kong;2019-05-06 6:30:56 PM;2019-05-06 6:31:13 PM;17;30;0.01580000;call\\n',\n",
       " 'julianr;85231278062;Hong Kong;2019-05-06 9:00:57 PM;2019-05-06 9:01:05 PM;8;30;0.01580000;call\\n',\n",
       " 'julianr;15089701905;USA;2019-05-07 4:04:43 PM;2019-05-07 4:12:49 PM;486;510;0.17000000;call\\n',\n",
       " 'julianr;15089701905;USA;2019-05-07 6:03:32 PM;2019-05-07 6:04:36 PM;64;90;0.03000000;call\\n',\n",
       " 'julianr;15089701905;USA;2019-05-07 6:50:34 PM;2019-05-07 6:53:31 PM;177;180;0.06000000;call\\n',\n",
       " 'julianr;15089701905;USA;2019-05-07 7:16:26 PM;2019-05-07 7:27:48 PM;682;690;0.23000000;call\\n',\n",
       " 'julianr;15089701905;USA;2019-05-07 7:36:53 PM;2019-05-07 7:42:13 PM;320;330;0.11000000;call\\n',\n",
       " 'julianr;15089701905;USA;2019-05-07 9:02:07 PM;2019-05-07 9:03:09 PM;62;90;0.03000000;call\\n',\n",
       " 'julianr;15089701905;USA;2019-05-07 9:04:02 PM;2019-05-07 9:05:07 PM;65;90;0.03000000;call\\n',\n",
       " 'julianr;15089701905;USA;2019-05-07 9:08:12 PM;2019-05-07 9:09:10 PM;58;60;0.02000000;call\\n',\n",
       " 'julianr;15089701905;USA;2019-05-07 9:09:43 PM;2019-05-07 9:10:37 PM;54;60;0.02000000;call\\n',\n",
       " 'julianr;441512373424;United Kingdom;2019-05-07 9:11:33 PM;2019-05-07 9:12:35 PM;62;90;0.03000000;call\\n',\n",
       " 'julianr;441512373424;United Kingdom;2019-05-07 9:13:18 PM;2019-05-07 9:14:07 PM;49;60;0.02000000;call\\n',\n",
       " 'julianr;441512373424;United Kingdom;2019-05-07 9:53:15 PM;2019-05-07 10:01:23 PM;488;510;0.17000000;call\\n',\n",
       " 'julianr;15089701905;USA;2019-05-08 3:50:50 PM;2019-05-08 3:51:13 PM;23;30;0.01000000;call\\n',\n",
       " 'julianr;441512373424;United Kingdom;2019-05-08 6:03:01 PM;2019-05-08 6:04:29 PM;88;90;0.03000000;call\\n',\n",
       " 'julianr;441512373424;United Kingdom;2019-05-08 6:04:54 PM;2019-05-08 6:07:25 PM;151;180;0.06000000;call\\n',\n",
       " 'julianr;441512373424;United Kingdom;2019-05-08 6:07:52 PM;2019-05-08 6:08:38 PM;46;60;0.02000000;call\\n',\n",
       " 'julianr;441512373424;United Kingdom;2019-05-08 6:11:44 PM;2019-05-08 6:11:50 PM;6;30;0.01000000;call\\n',\n",
       " 'julianr;441512373424;United Kingdom;2019-05-08 6:16:55 PM;2019-05-08 6:17:00 PM;5;30;0.01000000;call\\n',\n",
       " 'julianr;441512373424;United Kingdom;2019-05-08 6:28:47 PM;2019-05-08 6:28:53 PM;6;30;0.01000000;call\\n',\n",
       " 'julianr;441512373424;United Kingdom;2019-05-08 6:31:00 PM;2019-05-08 6:31:04 PM;4;30;0.01000000;call\\n',\n",
       " 'julianr;441512373424;United Kingdom;2019-05-08 8:25:36 PM;2019-05-08 8:32:43 PM;427;450;0.15000000;call\\n',\n",
       " 'julianr;441512373424;United Kingdom;2019-05-08 8:48:27 PM;2019-05-08 8:51:27 PM;180;180;0.06000000;call\\n',\n",
       " 'julianr;441512373424;United Kingdom;2019-05-08 8:58:25 PM;2019-05-08 9:01:50 PM;205;210;0.07000000;call\\n',\n",
       " 'julianr;441512373424;United Kingdom;2019-05-08 9:03:23 PM;2019-05-08 9:04:14 PM;51;60;0.02000000;call\\n',\n",
       " 'julianr;441512373424;United Kingdom;2019-05-08 9:19:01 PM;2019-05-08 9:22:13 PM;192;210;0.07000000;call\\n',\n",
       " 'julianr;441512373424;United Kingdom;2019-05-08 9:31:48 PM;2019-05-08 9:32:01 PM;13;30;0.01000000;call\\n',\n",
       " 'julianr;441512373424;United Kingdom;2019-05-08 9:36:06 PM;2019-05-08 9:37:46 PM;100;120;0.04000000;call\\n',\n",
       " 'julianr;441512373424;United Kingdom;2019-05-08 9:40:31 PM;2019-05-08 9:49:14 PM;523;540;0.18000000;call\\n',\n",
       " 'julianr;441512373424;United Kingdom;2019-05-08 9:52:57 PM;2019-05-08 9:56:18 PM;201;210;0.07000000;call\\n',\n",
       " 'julianr;441512373424;United Kingdom;2019-05-08 10:09:41 PM;2019-05-08 10:09:46 PM;5;30;0.01000000;call\\n',\n",
       " 'julianr;441512373424;United Kingdom;2019-05-08 10:32:01 PM;2019-05-08 10:32:26 PM;25;30;0.01000000;call\\n',\n",
       " 'julianr;441512373424;United Kingdom;2019-05-08 10:37:34 PM;2019-05-08 10:40:36 PM;182;210;0.07000000;call\\n',\n",
       " 'julianr;441512373424;United Kingdom;2019-05-08 10:54:41 PM;2019-05-08 10:55:20 PM;39;60;0.02000000;call\\n',\n",
       " 'julianr;441512373424;United Kingdom;2019-05-08 10:55:57 PM;2019-05-08 10:56:12 PM;15;30;0.01000000;call\\n',\n",
       " 'julianr;441512373424;United Kingdom;2019-05-08 11:13:42 PM;2019-05-08 11:15:49 PM;127;150;0.05000000;call\\n',\n",
       " 'julianr;441512373424;United Kingdom;2019-05-08 11:36:11 PM;2019-05-08 11:38:13 PM;122;150;0.05000000;call\\n',\n",
       " 'julianr;441512373424;United Kingdom;2019-05-08 11:39:10 PM;2019-05-08 11:40:28 PM;78;90;0.03000000;call\\n',\n",
       " 'julianr;441512373424;United Kingdom;2019-05-08 11:43:00 PM;2019-05-08 11:47:05 PM;245;270;0.09000000;call\\n',\n",
       " 'julianr;441512373424;United Kingdom;2019-05-09 12:00:56 AM;2019-05-09 12:06:17 AM;321;330;0.11000000;call\\n',\n",
       " 'julianr;441512373424;United Kingdom;2019-05-09 12:24:38 AM;2019-05-09 12:26:35 AM;117;120;0.04000000;call\\n',\n",
       " 'julianr;15089701905;USA;2019-05-09 4:50:03 PM;2019-05-09 4:53:57 PM;234;240;0.08000000;call\\n',\n",
       " 'julianr;15089701905;USA;2019-05-09 5:20:03 PM;2019-05-09 5:32:54 PM;771;780;0.26000000;call\\n',\n",
       " 'julianr;15089701905;USA;2019-05-09 5:40:07 PM;2019-05-09 5:49:49 PM;582;600;0.20000000;call\\n',\n",
       " 'julianr;85231278062;Hong Kong;2019-05-09 6:07:26 PM;2019-05-09 6:07:37 PM;11;30;0.01580000;call\\n',\n",
       " 'julianr;85231278062;Hong Kong;2019-05-09 6:08:37 PM;2019-05-09 6:08:38 PM;1;30;0.01580000;call\\n',\n",
       " 'julianr;85231278062;Hong Kong;2019-05-09 6:09:48 PM;2019-05-09 6:10:02 PM;14;30;0.01580000;call\\n',\n",
       " 'julianr;85231278062;Hong Kong;2019-05-09 6:28:16 PM;2019-05-09 6:28:46 PM;30;30;0.01580000;call\\n',\n",
       " 'julianr;85231278062;Hong Kong;2019-05-09 7:02:26 PM;2019-05-09 7:02:35 PM;9;30;0.01580000;call\\n',\n",
       " 'julianr;85231278062;Hong Kong;2019-05-09 7:04:46 PM;9999-12-31 11:59:59 PM;0;0;0.00000000;failed\\n',\n",
       " 'julianr;85231278062;Hong Kong;2019-05-09 7:07:38 PM;2019-05-09 7:07:54 PM;16;30;0.01580000;call\\n',\n",
       " 'julianr;85231278062;Hong Kong;2019-05-09 7:31:03 PM;2019-05-09 7:31:12 PM;9;30;0.01580000;call\\n',\n",
       " 'julianr;85231278062;Hong Kong;2019-05-09 7:48:46 PM;2019-05-09 7:57:58 PM;552;570;0.29920000;call\\n',\n",
       " 'julianr;85231278062;Hong Kong;2019-05-09 8:15:35 PM;2019-05-09 8:19:37 PM;242;270;0.14170000;call\\n',\n",
       " 'julianr;441512373424;United Kingdom;2019-05-09 9:06:30 PM;2019-05-09 9:07:08 PM;38;60;0.02000000;call\\n',\n",
       " 'julianr;441512373424;United Kingdom;2019-05-09 9:29:21 PM;2019-05-09 9:32:30 PM;189;210;0.07000000;call\\n',\n",
       " 'julianr;441512373424;United Kingdom;2019-05-09 11:27:57 PM;2019-05-09 11:30:51 PM;174;180;0.06000000;call\\n',\n",
       " 'julianr;441512373424;United Kingdom;2019-05-09 11:58:55 PM;2019-05-10 12:00:57 AM;122;150;0.05000000;call\\n',\n",
       " 'julianr;85231278062;Hong Kong;2019-05-10 12:54:28 AM;2019-05-10 1:04:57 AM;629;630;0.33070000;call\\n',\n",
       " 'julianr;15089701905;USA;2019-05-12 3:28:05 PM;2019-05-12 4:23:53 PM;3348;3360;1.12000000;call\\n',\n",
       " 'julianr;15089701905;USA;2019-05-12 6:02:31 PM;2019-05-12 6:03:46 PM;75;90;0.03000000;call\\n',\n",
       " 'julianr;15089701905;USA;2019-05-12 6:32:01 PM;2019-05-12 6:43:38 PM;697;720;0.24000000;call\\n',\n",
       " 'julianr;15089701905;USA;2019-05-12 6:47:38 PM;2019-05-12 6:49:12 PM;94;120;0.04000000;call\\n',\n",
       " 'julianr;15089701905;USA;2019-05-12 6:49:54 PM;2019-05-12 7:00:55 PM;661;690;0.23000000;call\\n',\n",
       " 'julianr;15089701905;USA;2019-05-12 8:42:19 PM;2019-05-12 8:46:49 PM;270;270;0.09000000;call\\n',\n",
       " 'julianr;15089701905;USA;2019-05-12 9:01:15 PM;2019-05-12 9:03:02 PM;107;120;0.04000000;call\\n',\n",
       " 'julianr;15089701905;USA;2019-05-12 9:01:52 PM;2019-05-12 9:03:10 PM;78;90;0.03000000;call\\n',\n",
       " 'julianr;15089701905;USA;2019-05-12 9:03:42 PM;2019-05-12 9:05:38 PM;116;120;0.04000000;call\\n',\n",
       " 'julianr;15089701905;USA;2019-05-12 9:04:30 PM;2019-05-12 9:05:39 PM;69;90;0.03000000;call\\n',\n",
       " 'julianr;15089701905;USA;2019-05-12 9:06:42 PM;2019-05-12 9:08:25 PM;103;120;0.04000000;call\\n',\n",
       " 'julianr;15089701905;USA;2019-05-12 9:07:30 PM;2019-05-12 9:08:26 PM;56;60;0.02000000;call\\n',\n",
       " 'julianr;15089701905;USA;2019-05-12 9:48:20 PM;2019-05-12 9:48:22 PM;2;30;0.01000000;call\\n',\n",
       " 'julianr;15089701905;USA;2019-05-12 10:13:20 PM;2019-05-12 10:15:32 PM;132;150;0.05000000;call\\n',\n",
       " 'julianr;15089701905;USA;2019-05-12 10:14:08 PM;2019-05-12 10:15:34 PM;86;90;0.03000000;call\\n',\n",
       " 'julianr;15089701905;USA;2019-05-12 10:16:04 PM;2019-05-12 10:18:30 PM;146;150;0.05000000;call\\n',\n",
       " 'julianr;15089701905;USA;2019-05-12 10:16:53 PM;2019-05-12 10:18:32 PM;99;120;0.04000000;call\\n',\n",
       " 'julianr;15089701905;USA;2019-05-13 2:40:17 PM;2019-05-13 2:46:58 PM;401;420;0.14000000;call\\n',\n",
       " 'julianr;15089701905;USA;2019-05-13 4:25:48 PM;2019-05-13 4:29:21 PM;213;240;0.08000000;call\\n',\n",
       " 'julianr;15089701905;USA;2019-05-13 4:58:22 PM;2019-05-13 5:04:30 PM;368;390;0.13000000;call\\n',\n",
       " 'julianr;15089701905;USA;2019-05-13 5:07:08 PM;2019-05-13 5:11:52 PM;284;300;0.10000000;call\\n',\n",
       " 'julianr;15089701905;USA;2019-05-13 5:52:17 PM;2019-05-13 5:52:30 PM;13;30;0.01000000;call\\n',\n",
       " 'julianr;85231278062;Hong Kong;2019-05-13 6:05:54 PM;2019-05-13 6:06:40 PM;46;60;0.03150000;call\\n',\n",
       " 'julianr;85231278062;Hong Kong;2019-05-13 6:39:06 PM;2019-05-13 6:39:17 PM;11;30;0.01580000;call\\n',\n",
       " 'julianr;85231278062;Hong Kong;2019-05-13 6:40:08 PM;2019-05-13 6:40:11 PM;3;30;0.01580000;call\\n',\n",
       " 'julianr;85231278062;Hong Kong;2019-05-13 7:03:52 PM;2019-05-13 7:05:42 PM;110;120;0.06300000;call\\n',\n",
       " 'julianr;85231278062;Hong Kong;2019-05-13 7:05:41 PM;2019-05-13 7:05:52 PM;11;30;0.01580000;call\\n',\n",
       " 'julianr;85231278062;Hong Kong;2019-05-13 7:23:30 PM;2019-05-13 7:27:31 PM;241;270;0.14170000;call\\n',\n",
       " 'julianr;85231278062;Hong Kong;2019-05-13 7:31:58 PM;2019-05-13 7:35:43 PM;225;240;0.12600000;call\\n',\n",
       " 'julianr;85231278062;Hong Kong;2019-05-13 7:50:46 PM;2019-05-13 7:51:03 PM;17;30;0.01580000;call\\n',\n",
       " 'julianr;85231278062;Hong Kong;2019-05-13 7:58:57 PM;9999-12-31 11:59:59 PM;0;0;0.00000000;failed\\n',\n",
       " 'julianr;85231278062;Hong Kong;2019-05-13 8:16:19 PM;2019-05-13 8:16:50 PM;31;60;0.03150000;call\\n',\n",
       " 'julianr;85231278062;Hong Kong;2019-05-13 8:49:39 PM;2019-05-13 8:51:23 PM;104;120;0.06300000;call\\n',\n",
       " 'julianr;85231278062;Hong Kong;2019-05-13 8:52:11 PM;2019-05-13 8:52:59 PM;48;60;0.03150000;call\\n',\n",
       " 'julianr;85231278062;Hong Kong;2019-05-13 8:55:12 PM;9999-12-31 11:59:59 PM;0;0;0.00000000;failed\\n',\n",
       " 'julianr;85231278062;Hong Kong;2019-05-13 8:57:37 PM;2019-05-13 8:58:41 PM;64;90;0.04720000;call\\n',\n",
       " 'julianr;85231278062;Hong Kong;2019-05-13 9:40:19 PM;2019-05-13 9:40:41 PM;22;30;0.01580000;call\\n',\n",
       " 'julianr;85231278062;Hong Kong;2019-05-13 9:47:38 PM;2019-05-13 9:47:50 PM;12;30;0.01580000;call\\n',\n",
       " 'julianr;85231278062;Hong Kong;2019-05-13 10:14:16 PM;2019-05-13 10:15:35 PM;79;90;0.04720000;call\\n',\n",
       " 'julianr;85231278062;Hong Kong;2019-05-13 11:53:55 PM;2019-05-13 11:54:07 PM;12;30;0.01580000;call\\n',\n",
       " 'julianr;85231278062;Hong Kong;2019-05-14 6:08:06 PM;9999-12-31 11:59:59 PM;0;0;0.00000000;failed\\n',\n",
       " 'julianr;85231278062;Hong Kong;2019-05-14 6:10:12 PM;2019-05-14 6:10:19 PM;7;30;0.01580000;call\\n',\n",
       " 'julianr;85231278062;Hong Kong;2019-05-14 6:41:59 PM;2019-05-14 6:44:48 PM;169;180;0.09450000;call\\n',\n",
       " 'julianr;85231278062;Hong Kong;2019-05-14 6:55:26 PM;2019-05-14 6:59:31 PM;245;270;0.14170000;call\\n',\n",
       " 'julianr;85231278062;Hong Kong;2019-05-14 7:22:24 PM;2019-05-14 7:27:54 PM;330;330;0.17320000;call\\n',\n",
       " 'julianr;85231278062;Hong Kong;2019-05-14 8:52:27 PM;2019-05-14 8:55:26 PM;179;180;0.09450000;call\\n',\n",
       " 'julianr;85231278062;Hong Kong;2019-05-14 10:43:17 PM;2019-05-14 10:43:25 PM;8;30;0.01580000;call\\n',\n",
       " 'julianr;16503166945;USA;2019-05-15 1:20:38 AM;9999-12-31 11:59:59 PM;0;0;0.00000000;failed\\n',\n",
       " 'julianr;16503166945;USA;2019-05-15 1:21:08 AM;9999-12-31 11:59:59 PM;0;0;0.00000000;failed\\n',\n",
       " 'julianr;16503166945;USA;2019-05-15 1:25:24 AM;9999-12-31 11:59:59 PM;0;0;0.00000000;failed\\n',\n",
       " 'julianr;16503166945;USA;2019-05-15 2:16:40 AM;9999-12-31 11:59:59 PM;0;0;0.00000000;failed\\n',\n",
       " 'julianr;15089701905;USA;2019-05-15 5:07:27 PM;2019-05-15 5:15:41 PM;494;510;0.17000000;call\\n',\n",
       " 'julianr;15089701905;USA;2019-05-15 6:06:24 PM;2019-05-15 6:07:32 PM;68;90;0.03000000;call\\n',\n",
       " 'julianr;441512373424;United Kingdom;2019-05-15 9:03:53 PM;2019-05-15 9:04:18 PM;25;30;0.01000000;call\\n',\n",
       " 'julianr;441512373424;United Kingdom;2019-05-15 9:16:26 PM;2019-05-15 9:20:37 PM;251;270;0.09000000;call\\n',\n",
       " 'julianr;441512373424;United Kingdom;2019-05-15 10:07:19 PM;2019-05-15 10:08:20 PM;61;90;0.03000000;call\\n',\n",
       " 'julianr;441512373424;United Kingdom;2019-05-15 10:09:18 PM;2019-05-15 10:11:27 PM;129;150;0.05000000;call\\n',\n",
       " 'julianr;441512373424;United Kingdom;2019-05-15 11:27:05 PM;2019-05-15 11:27:26 PM;21;30;0.01000000;call\\n',\n",
       " 'julianr;15089701905;USA;2019-05-16 4:19:58 PM;2019-05-16 4:30:17 PM;619;630;0.21000000;call\\n',\n",
       " 'julianr;15089701905;USA;2019-05-16 5:24:23 PM;2019-05-16 5:27:35 PM;192;210;0.07000000;call\\n',\n",
       " 'julianr;15089701905;USA;2019-05-16 6:06:11 PM;2019-05-16 6:07:22 PM;71;90;0.03000000;call\\n',\n",
       " 'julianr;15089701905;USA;2019-05-16 8:24:34 PM;2019-05-16 8:33:40 PM;546;570;0.19000000;call\\n',\n",
       " 'julianr;441512373424;United Kingdom;2019-05-16 9:04:38 PM;2019-05-16 9:05:04 PM;26;30;0.01000000;call\\n',\n",
       " 'julianr;441512373424;United Kingdom;2019-05-16 10:48:16 PM;2019-05-16 10:52:18 PM;242;270;0.09000000;call\\n',\n",
       " 'julianr;85231278062;Hong Kong;2019-05-17 5:31:43 AM;9999-12-31 11:59:59 PM;0;0;0.00000000;failed\\n',\n",
       " 'julianr;15089701905;USA;2019-05-19 3:41:23 PM;2019-05-19 3:42:07 PM;44;60;0.02000000;call\\n',\n",
       " 'julianr;15089701905;USA;2019-05-19 3:55:21 PM;2019-05-19 3:58:13 PM;172;180;0.06000000;call\\n',\n",
       " 'julianr;15089701905;USA;2019-05-19 5:13:02 PM;2019-05-19 5:21:04 PM;482;510;0.17000000;call\\n',\n",
       " 'julianr;15089701905;USA;2019-05-19 5:51:44 PM;2019-05-19 5:56:51 PM;307;330;0.11000000;call\\n',\n",
       " 'julianr;85231278062;Hong Kong;2019-05-19 6:43:07 PM;2019-05-19 6:46:55 PM;228;240;0.12600000;call\\n',\n",
       " 'julianr;85231278062;Hong Kong;2019-05-19 7:16:06 PM;2019-05-19 7:21:59 PM;353;360;0.18900000;call\\n',\n",
       " 'julianr;85231278062;Hong Kong;2019-05-19 7:34:11 PM;2019-05-19 7:36:50 PM;159;180;0.09450000;call\\n',\n",
       " 'julianr;85231278062;Hong Kong;2019-05-19 11:51:56 PM;2019-05-19 11:53:25 PM;89;90;0.04720000;call\\n',\n",
       " 'julianr;85231278062;Hong Kong;2019-05-20 7:32:47 PM;2019-05-20 7:33:38 PM;51;60;0.03150000;call\\n',\n",
       " 'julianr;85231278062;Hong Kong;2019-05-20 7:39:45 PM;2019-05-20 7:44:01 PM;256;270;0.14170000;call\\n',\n",
       " 'julianr;85231278062;Hong Kong;2019-05-20 11:32:58 PM;2019-05-20 11:33:45 PM;47;60;0.03150000;call\\n',\n",
       " 'julianr;85231278062;Hong Kong;2019-05-21 6:37:55 PM;2019-05-21 6:43:18 PM;323;330;0.17320000;call\\n',\n",
       " 'julianr;85231278062;Hong Kong;2019-05-21 6:47:58 PM;2019-05-21 6:48:54 PM;56;60;0.03150000;call\\n',\n",
       " 'julianr;85231278062;Hong Kong;2019-05-21 6:50:11 PM;2019-05-21 6:50:30 PM;19;30;0.01580000;call\\n',\n",
       " 'julianr;85231278062;Hong Kong;2019-05-21 8:03:05 PM;2019-05-21 8:07:08 PM;243;270;0.14170000;call\\n',\n",
       " 'julianr;85231278062;Hong Kong;2019-05-21 9:02:34 PM;2019-05-21 9:03:17 PM;43;60;0.03150000;call\\n',\n",
       " 'julianr;85231278062;Hong Kong;2019-05-21 9:37:40 PM;2019-05-21 9:39:46 PM;126;150;0.07870000;call\\n',\n",
       " 'julianr;85231278062;Hong Kong;2019-05-21 10:16:16 PM;2019-05-21 10:16:29 PM;13;30;0.01580000;call\\n',\n",
       " 'julianr;85231278062;Hong Kong;2019-05-21 10:20:55 PM;2019-05-21 10:21:07 PM;12;30;0.01580000;call\\n',\n",
       " 'julianr;85231278062;Hong Kong;2019-05-22 2:30:25 AM;9999-12-31 11:59:59 PM;0;0;0.00000000;failed\\n',\n",
       " 'julianr;85231278062;Hong Kong;2019-05-22 2:30:54 AM;9999-12-31 11:59:59 PM;0;0;0.00000000;failed\\n',\n",
       " 'julianr;15089701905;USA;2019-05-22 3:01:38 PM;2019-05-22 3:07:32 PM;354;360;0.12000000;call\\n',\n",
       " 'julianr;15089701905;USA;2019-05-22 3:52:08 PM;2019-05-22 4:03:22 PM;674;690;0.23000000;call\\n',\n",
       " 'julianr;15089701905;USA;2019-05-22 4:23:25 PM;2019-05-22 4:28:48 PM;323;330;0.11000000;call\\n',\n",
       " 'julianr;15089701905;USA;2019-05-22 4:31:24 PM;2019-05-22 4:31:28 PM;4;30;0.01000000;call\\n',\n",
       " 'julianr;15089701905;USA;2019-05-22 5:42:47 PM;2019-05-22 5:52:12 PM;565;570;0.19000000;call\\n',\n",
       " 'julianr;85231278062;Hong Kong;2019-05-22 6:05:02 PM;2019-05-22 6:05:34 PM;32;60;0.03150000;call\\n',\n",
       " 'julianr;85231278062;Hong Kong;2019-05-22 6:06:19 PM;2019-05-22 6:11:21 PM;302;330;0.17320000;call\\n',\n",
       " 'julianr;85231278062;Hong Kong;2019-05-22 6:24:34 PM;2019-05-22 6:31:18 PM;404;420;0.22050000;call\\n',\n",
       " 'julianr;85231278062;Hong Kong;2019-05-22 7:15:49 PM;2019-05-22 7:16:26 PM;37;60;0.03150000;call\\n',\n",
       " 'julianr;85231278062;Hong Kong;2019-05-22 7:43:04 PM;2019-05-22 7:48:26 PM;322;330;0.17320000;call\\n',\n",
       " 'julianr;85231278062;Hong Kong;2019-05-22 8:56:43 PM;2019-05-22 8:58:36 PM;113;120;0.06300000;call\\n',\n",
       " 'julianr;85231278062;Hong Kong;2019-05-22 9:00:34 PM;2019-05-22 9:05:48 PM;314;330;0.17320000;call\\n',\n",
       " 'julianr;85231278062;Hong Kong;2019-05-22 9:13:30 PM;2019-05-22 9:18:48 PM;318;330;0.17320000;call\\n',\n",
       " 'julianr;85231278062;Hong Kong;2019-05-22 9:33:48 PM;2019-05-22 9:38:54 PM;306;330;0.17320000;call\\n',\n",
       " 'julianr;85231278062;Hong Kong;2019-05-22 10:34:20 PM;2019-05-22 10:34:55 PM;35;60;0.03150000;call\\n',\n",
       " 'julianr;85231278062;Hong Kong;2019-05-22 10:36:11 PM;2019-05-22 10:36:29 PM;18;30;0.01580000;call\\n',\n",
       " 'julianr;85231278062;Hong Kong;2019-05-22 10:43:56 PM;9999-12-31 11:59:59 PM;0;0;0.00000000;failed\\n',\n",
       " 'julianr;15089701905;USA;2019-05-23 4:06:34 PM;2019-05-23 4:09:31 PM;177;180;0.06000000;call\\n',\n",
       " 'julianr;15089701905;USA;2019-05-23 4:50:45 PM;2019-05-23 4:56:32 PM;347;360;0.12000000;call\\n',\n",
       " 'julianr;15089701905;USA;2019-05-23 5:14:31 PM;2019-05-23 5:15:37 PM;66;90;0.03000000;call\\n',\n",
       " 'julianr;15089701905;USA;2019-05-23 5:15:59 PM;2019-05-23 5:59:17 PM;2598;2610;0.87000000;call\\n',\n",
       " 'julianr;85231278062;Hong Kong;2019-05-23 7:09:19 PM;2019-05-23 7:11:50 PM;151;180;0.09450000;call\\n',\n",
       " 'julianr;85231278062;Hong Kong;2019-05-23 8:44:36 PM;2019-05-23 8:46:21 PM;105;120;0.06300000;call\\n',\n",
       " 'julianr;85231278062;Hong Kong;2019-05-23 8:52:56 PM;2019-05-23 9:00:01 PM;425;450;0.23620000;call\\n',\n",
       " 'julianr;85231278062;Hong Kong;2019-05-23 9:07:20 PM;2019-05-23 9:19:19 PM;719;720;0.37800000;call\\n',\n",
       " 'julianr;85231278062;Hong Kong;2019-05-23 9:30:39 PM;2019-05-23 9:31:08 PM;29;30;0.01580000;call\\n',\n",
       " 'julianr;85231278062;Hong Kong;2019-05-23 10:21:33 PM;2019-05-23 10:22:03 PM;30;30;0.01580000;call\\n',\n",
       " 'julianr;85231278062;Hong Kong;2019-05-23 10:22:54 PM;2019-05-23 10:23:40 PM;46;60;0.03150000;call\\n',\n",
       " 'julianr;85231278062;Hong Kong;2019-05-23 10:28:07 PM;2019-05-23 10:28:47 PM;40;60;0.03150000;call\\n',\n",
       " 'julianr;85231278062;Hong Kong;2019-05-23 10:42:26 PM;2019-05-23 10:43:03 PM;37;60;0.03150000;call\\n',\n",
       " 'julianr;85231278062;Hong Kong;2019-05-23 10:57:05 PM;2019-05-23 10:57:34 PM;29;30;0.01580000;call\\n',\n",
       " 'julianr;85231278062;Hong Kong;2019-05-23 11:20:35 PM;2019-05-23 11:23:56 PM;201;210;0.11020000;call\\n',\n",
       " 'julianr;85231278062;Hong Kong;2019-05-23 11:51:50 PM;2019-05-23 11:56:58 PM;308;330;0.17320000;call\\n',\n",
       " 'julianr;15089701905;USA;2019-05-26 4:40:01 PM;2019-05-26 4:43:50 PM;229;240;0.08000000;call\\n',\n",
       " 'julianr;15089701905;USA;2019-05-26 4:55:28 PM;2019-05-26 4:55:50 PM;22;30;0.01000000;call\\n',\n",
       " 'julianr;15089701905;USA;2019-05-26 5:41:53 PM;2019-05-26 5:44:57 PM;184;210;0.07000000;call\\n',\n",
       " 'julianr;15089701905;USA;2019-05-26 5:59:49 PM;2019-05-26 6:11:29 PM;700;720;0.24000000;call\\n',\n",
       " 'julianr;85231278062;Hong Kong;2019-05-26 6:02:13 PM;2019-05-26 6:02:52 PM;39;60;0.03150000;call\\n',\n",
       " 'julianr;85231278062;Hong Kong;2019-05-26 6:39:53 PM;2019-05-26 6:53:30 PM;817;840;0.44100000;call\\n',\n",
       " 'julianr;85231278062;Hong Kong;2019-05-26 7:16:52 PM;2019-05-26 7:25:46 PM;534;540;0.28350000;call\\n',\n",
       " 'julianr;85231278062;Hong Kong;2019-05-26 7:33:34 PM;2019-05-26 7:36:37 PM;183;210;0.11020000;call\\n',\n",
       " 'julianr;85231278062;Hong Kong;2019-05-26 8:01:59 PM;2019-05-26 8:03:30 PM;91;120;0.06300000;call\\n',\n",
       " 'julianr;85231278062;Hong Kong;2019-05-26 8:22:21 PM;2019-05-26 8:29:15 PM;414;420;0.22050000;call\\n',\n",
       " 'julianr;85231278062;Hong Kong;2019-05-26 8:36:07 PM;2019-05-26 8:36:09 PM;2;30;0.01580000;call\\n',\n",
       " 'julianr;85231278062;Hong Kong;2019-05-26 8:36:41 PM;2019-05-26 8:39:52 PM;191;210;0.11020000;call\\n',\n",
       " 'julianr;85231278062;Hong Kong;2019-05-26 8:40:26 PM;2019-05-26 8:44:48 PM;262;270;0.14170000;call\\n',\n",
       " 'julianr;85231278062;Hong Kong;2019-05-26 9:15:20 PM;2019-05-26 9:19:58 PM;278;300;0.15750000;call\\n',\n",
       " 'julianr;85231278062;Hong Kong;2019-05-26 9:20:06 PM;2019-05-26 9:20:55 PM;49;60;0.03150000;call\\n',\n",
       " 'julianr;85231278062;Hong Kong;2019-05-26 9:21:33 PM;2019-05-26 9:23:33 PM;120;120;0.06300000;call\\n',\n",
       " 'julianr;85231278062;Hong Kong;2019-05-26 9:58:34 PM;2019-05-26 10:00:43 PM;129;150;0.07870000;call\\n',\n",
       " 'julianr;85231278062;Hong Kong;2019-05-26 10:59:57 PM;2019-05-26 11:00:04 PM;7;30;0.01580000;call\\n',\n",
       " 'julianr;85231278062;Hong Kong;2019-05-26 11:55:28 PM;9999-12-31 11:59:59 PM;0;0;0.00000000;failed\\n',\n",
       " 'julianr;15089701905;USA;2019-05-27 2:50:18 PM;2019-05-27 2:55:00 PM;282;300;0.10000000;call\\n',\n",
       " 'julianr;15089701905;USA;2019-05-27 3:40:11 PM;2019-05-27 3:48:52 PM;521;540;0.18000000;call\\n',\n",
       " 'julianr;15089701905;USA;2019-05-27 4:56:33 PM;2019-05-27 4:57:20 PM;47;60;0.02000000;call\\n',\n",
       " 'julianr;85231278062;Hong Kong;2019-05-27 6:18:59 PM;2019-05-27 6:21:29 PM;150;150;0.07870000;call\\n',\n",
       " 'julianr;85231278062;Hong Kong;2019-05-27 6:26:29 PM;2019-05-27 6:28:45 PM;136;150;0.07870000;call\\n',\n",
       " 'julianr;85231278062;Hong Kong;2019-05-27 6:57:16 PM;2019-05-27 7:04:27 PM;431;450;0.23620000;call\\n',\n",
       " 'julianr;85231278062;Hong Kong;2019-05-27 6:57:31 PM;2019-05-27 6:58:12 PM;41;60;0.03150000;call\\n',\n",
       " 'julianr;85231278062;Hong Kong;2019-05-27 7:03:17 PM;2019-05-27 7:03:34 PM;17;30;0.01580000;call\\n',\n",
       " 'julianr;85231278062;Hong Kong;2019-05-27 8:02:28 PM;2019-05-27 8:04:18 PM;110;120;0.06300000;call\\n',\n",
       " 'julianr;85231278062;Hong Kong;2019-05-27 8:08:41 PM;2019-05-27 8:20:56 PM;735;750;0.39370000;call\\n',\n",
       " 'julianr;85231278062;Hong Kong;2019-05-27 10:12:42 PM;2019-05-27 10:13:40 PM;58;60;0.03150000;call\\n',\n",
       " 'julianr;85231278062;Hong Kong;2019-05-27 10:12:57 PM;2019-05-27 10:13:26 PM;29;30;0.01580000;call\\n',\n",
       " 'julianr;85231278062;Hong Kong;2019-05-27 10:14:48 PM;2019-05-27 10:15:33 PM;45;60;0.03150000;call\\n',\n",
       " 'julianr;85231278062;Hong Kong;2019-05-27 11:10:10 PM;2019-05-27 11:10:16 PM;6;30;0.01580000;call\\n',\n",
       " 'julianr;15089701905;USA;2019-05-28 4:43:10 PM;2019-05-28 5:18:53 PM;2143;2160;0.72000000;call\\n',\n",
       " 'julianr;85231278062;Hong Kong;2019-05-28 8:35:25 PM;2019-05-28 8:38:09 PM;164;180;0.09450000;call\\n',\n",
       " 'julianr;85231278062;Hong Kong;2019-05-28 9:59:43 PM;2019-05-28 9:59:59 PM;16;30;0.01580000;call\\n',\n",
       " 'julianr;85231278062;Hong Kong;2019-05-28 10:16:05 PM;2019-05-28 10:16:47 PM;42;60;0.03150000;call\\n',\n",
       " 'julianr;85231278062;Hong Kong;2019-05-28 10:50:53 PM;2019-05-28 10:51:41 PM;48;60;0.03150000;call\\n',\n",
       " 'julianr;85231278062;Hong Kong;2019-05-28 10:52:12 PM;2019-05-28 10:52:59 PM;47;60;0.03150000;call\\n',\n",
       " 'julianr;85231278062;Hong Kong;2019-05-28 11:56:07 PM;2019-05-29 12:01:51 AM;344;360;0.18900000;call\\n',\n",
       " 'julianr;15089701905;USA;2019-05-29 2:31:19 PM;2019-05-29 2:59:59 PM;1720;1740;0.58000000;call\\n',\n",
       " 'julianr;85231278062;Hong Kong;2019-05-29 6:08:26 PM;2019-05-29 6:09:15 PM;49;60;0.03150000;call\\n',\n",
       " 'julianr;85231278062;Hong Kong;2019-05-29 6:16:09 PM;2019-05-29 6:16:15 PM;6;30;0.01580000;call\\n',\n",
       " 'julianr;85231278062;Hong Kong;2019-05-29 6:48:59 PM;2019-05-29 7:03:00 PM;841;870;0.45670000;call\\n',\n",
       " 'julianr;85231278062;Hong Kong;2019-05-29 7:50:16 PM;2019-05-29 7:50:20 PM;4;30;0.01580000;call\\n',\n",
       " 'julianr;85231278062;Hong Kong;2019-05-29 7:50:46 PM;2019-05-29 8:06:18 PM;932;960;0.50400000;call\\n',\n",
       " 'julianr;85231278062;Hong Kong;2019-05-29 7:51:43 PM;2019-05-29 7:52:20 PM;37;60;0.03150000;call\\n',\n",
       " 'julianr;85231278062;Hong Kong;2019-05-29 8:27:35 PM;2019-05-29 8:28:52 PM;77;90;0.04720000;call\\n',\n",
       " 'julianr;85231278062;Hong Kong;2019-05-29 10:21:20 PM;2019-05-29 10:22:03 PM;43;60;0.03150000;call\\n',\n",
       " 'julianr;85231278062;Hong Kong;2019-05-29 11:10:47 PM;2019-05-29 11:11:56 PM;69;90;0.04720000;call\\n',\n",
       " 'julianr;85231278062;Hong Kong;2019-05-29 11:31:04 PM;2019-05-29 11:31:42 PM;38;60;0.03150000;call\\n',\n",
       " 'julianr;15089701905;USA;2019-05-30 5:15:16 PM;2019-05-30 5:22:13 PM;417;420;0.14000000;call\\n',\n",
       " 'julianr;15089701905;USA;2019-05-30 5:34:57 PM;2019-05-30 5:53:30 PM;1113;1140;0.38000000;call\\n',\n",
       " 'julianr;85231278062;Hong Kong;2019-05-30 6:48:53 PM;2019-05-30 6:52:14 PM;201;210;0.11020000;call\\n',\n",
       " 'julianr;85231278062;Hong Kong;2019-05-30 9:19:10 PM;2019-05-30 9:22:22 PM;192;210;0.11020000;call\\n',\n",
       " 'julianr;85231278062;Hong Kong;2019-05-30 9:19:52 PM;2019-05-30 9:20:28 PM;36;60;0.03150000;call\\n',\n",
       " 'julianr;85231278062;Hong Kong;2019-05-30 9:21:14 PM;2019-05-30 9:21:23 PM;9;30;0.01580000;call\\n',\n",
       " 'julianr;85231278062;Hong Kong;2019-05-30 9:23:33 PM;2019-05-30 9:26:27 PM;174;180;0.09450000;call\\n',\n",
       " 'julianr;85231278062;Hong Kong;2019-05-30 9:47:41 PM;2019-05-30 9:49:28 PM;107;120;0.06300000;call\\n',\n",
       " 'julianr;85231278062;Hong Kong;2019-05-30 9:50:23 PM;2019-05-30 9:52:32 PM;129;150;0.07870000;call\\n',\n",
       " 'julianr;85231278062;Hong Kong;2019-05-30 10:14:33 PM;2019-05-30 10:15:23 PM;50;60;0.03150000;call\\n',\n",
       " 'julianr;85231278062;Hong Kong;2019-05-30 10:43:05 PM;2019-05-30 10:44:11 PM;66;90;0.04720000;call\\n',\n",
       " 'julianr;85231278062;Hong Kong;2019-05-30 11:06:23 PM;2019-05-30 11:06:36 PM;13;30;0.01580000;call\\n',\n",
       " 'julianr;85231278062;Hong Kong;2019-05-30 11:07:18 PM;2019-05-30 11:07:23 PM;5;30;0.01580000;call\\n',\n",
       " 'julianr;85231278062;Hong Kong;2019-05-31 12:09:44 AM;2019-05-31 12:26:21 AM;997;1020;0.53550000;call\\n']"
      ]
     },
     "execution_count": 98,
     "metadata": {},
     "output_type": "execute_result"
    }
   ],
   "source": [
    "list(open(\"billing.csv\"))"
   ]
  },
  {
   "cell_type": "code",
   "execution_count": null,
   "metadata": {},
   "outputs": [],
   "source": []
  },
  {
   "cell_type": "code",
   "execution_count": null,
   "metadata": {},
   "outputs": [],
   "source": []
  },
  {
   "cell_type": "code",
   "execution_count": null,
   "metadata": {},
   "outputs": [],
   "source": []
  },
  {
   "cell_type": "code",
   "execution_count": null,
   "metadata": {},
   "outputs": [],
   "source": []
  },
  {
   "cell_type": "code",
   "execution_count": null,
   "metadata": {},
   "outputs": [],
   "source": []
  },
  {
   "cell_type": "code",
   "execution_count": null,
   "metadata": {},
   "outputs": [],
   "source": []
  },
  {
   "cell_type": "code",
   "execution_count": null,
   "metadata": {},
   "outputs": [],
   "source": []
  },
  {
   "cell_type": "code",
   "execution_count": null,
   "metadata": {},
   "outputs": [],
   "source": []
  },
  {
   "cell_type": "code",
   "execution_count": null,
   "metadata": {},
   "outputs": [],
   "source": []
  },
  {
   "cell_type": "code",
   "execution_count": 4,
   "metadata": {},
   "outputs": [
    {
     "name": "stdout",
     "output_type": "stream",
     "text": [
      "0\n",
      "1\n",
      "1\n",
      "2\n",
      "3\n",
      "5\n",
      "8\n",
      "13\n",
      "21\n",
      "34\n"
     ]
    }
   ],
   "source": [
    "terms=9\n",
    "n1=0\n",
    "n2=1\n",
    "\n",
    "print(n1)\n",
    "\n",
    "while terms>0:\n",
    "    print(n2)\n",
    "    nth=n1+n2\n",
    "    n1=n2\n",
    "    n2=nth\n",
    "    terms=terms-1"
   ]
  },
  {
   "cell_type": "code",
   "execution_count": null,
   "metadata": {},
   "outputs": [],
   "source": []
  }
 ],
 "metadata": {
  "kernelspec": {
   "display_name": "Python 3",
   "language": "python",
   "name": "python3"
  },
  "language_info": {
   "codemirror_mode": {
    "name": "ipython",
    "version": 3
   },
   "file_extension": ".py",
   "mimetype": "text/x-python",
   "name": "python",
   "nbconvert_exporter": "python",
   "pygments_lexer": "ipython3",
   "version": "3.7.3"
  }
 },
 "nbformat": 4,
 "nbformat_minor": 2
}
